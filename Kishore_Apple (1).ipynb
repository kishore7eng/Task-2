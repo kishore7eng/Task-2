{
 "cells": [
  {
   "cell_type": "markdown",
   "metadata": {},
   "source": [
    "# Importing Libraries"
   ]
  },
  {
   "cell_type": "code",
   "execution_count": 153,
   "metadata": {
    "scrolled": true
   },
   "outputs": [],
   "source": [
    "import numpy as np\n",
    "import pandas as pd\n",
    "import seaborn as sns \n",
    "import matplotlib.pyplot as plt\n",
    "%matplotlib inline\n",
    "import seaborn as sns\n",
    "import datetime as dt"
   ]
  },
  {
   "cell_type": "markdown",
   "metadata": {},
   "source": [
    "# Reading file"
   ]
  },
  {
   "cell_type": "code",
   "execution_count": 154,
   "metadata": {},
   "outputs": [],
   "source": [
    "df=pd.read_csv(r\"C:\\Users\\rmkis\\Desktop\\Datasets\\HistoricalData.csv\",encoding='ISO-8859-1')"
   ]
  },
  {
   "cell_type": "code",
   "execution_count": 155,
   "metadata": {},
   "outputs": [
    {
     "data": {
      "text/html": [
       "<div>\n",
       "<style scoped>\n",
       "    .dataframe tbody tr th:only-of-type {\n",
       "        vertical-align: middle;\n",
       "    }\n",
       "\n",
       "    .dataframe tbody tr th {\n",
       "        vertical-align: top;\n",
       "    }\n",
       "\n",
       "    .dataframe thead th {\n",
       "        text-align: right;\n",
       "    }\n",
       "</style>\n",
       "<table border=\"1\" class=\"dataframe\">\n",
       "  <thead>\n",
       "    <tr style=\"text-align: right;\">\n",
       "      <th></th>\n",
       "      <th>Date</th>\n",
       "      <th>Close/Last</th>\n",
       "      <th>Volume</th>\n",
       "      <th>Open</th>\n",
       "      <th>High</th>\n",
       "      <th>Low</th>\n",
       "    </tr>\n",
       "  </thead>\n",
       "  <tbody>\n",
       "    <tr>\n",
       "      <th>0</th>\n",
       "      <td>07/02/2021</td>\n",
       "      <td>$139.96</td>\n",
       "      <td>78945570</td>\n",
       "      <td>$137.9</td>\n",
       "      <td>$140</td>\n",
       "      <td>$137.745</td>\n",
       "    </tr>\n",
       "    <tr>\n",
       "      <th>1</th>\n",
       "      <td>07/01/2021</td>\n",
       "      <td>$137.27</td>\n",
       "      <td>52485780</td>\n",
       "      <td>$136.6</td>\n",
       "      <td>$137.33</td>\n",
       "      <td>$135.76</td>\n",
       "    </tr>\n",
       "    <tr>\n",
       "      <th>2</th>\n",
       "      <td>06/30/2021</td>\n",
       "      <td>$136.96</td>\n",
       "      <td>63261390</td>\n",
       "      <td>$136.17</td>\n",
       "      <td>$137.41</td>\n",
       "      <td>$135.87</td>\n",
       "    </tr>\n",
       "    <tr>\n",
       "      <th>3</th>\n",
       "      <td>06/29/2021</td>\n",
       "      <td>$136.33</td>\n",
       "      <td>64556080</td>\n",
       "      <td>$134.8</td>\n",
       "      <td>$136.49</td>\n",
       "      <td>$134.35</td>\n",
       "    </tr>\n",
       "    <tr>\n",
       "      <th>4</th>\n",
       "      <td>06/28/2021</td>\n",
       "      <td>$134.78</td>\n",
       "      <td>62111300</td>\n",
       "      <td>$133.41</td>\n",
       "      <td>$135.245</td>\n",
       "      <td>$133.35</td>\n",
       "    </tr>\n",
       "  </tbody>\n",
       "</table>\n",
       "</div>"
      ],
      "text/plain": [
       "         Date Close/Last    Volume     Open      High       Low\n",
       "0  07/02/2021    $139.96  78945570   $137.9      $140  $137.745\n",
       "1  07/01/2021    $137.27  52485780   $136.6   $137.33   $135.76\n",
       "2  06/30/2021    $136.96  63261390  $136.17   $137.41   $135.87\n",
       "3  06/29/2021    $136.33  64556080   $134.8   $136.49   $134.35\n",
       "4  06/28/2021    $134.78  62111300  $133.41  $135.245   $133.35"
      ]
     },
     "execution_count": 155,
     "metadata": {},
     "output_type": "execute_result"
    }
   ],
   "source": [
    "df.head()"
   ]
  },
  {
   "cell_type": "code",
   "execution_count": 156,
   "metadata": {},
   "outputs": [
    {
     "data": {
      "text/html": [
       "<div>\n",
       "<style scoped>\n",
       "    .dataframe tbody tr th:only-of-type {\n",
       "        vertical-align: middle;\n",
       "    }\n",
       "\n",
       "    .dataframe tbody tr th {\n",
       "        vertical-align: top;\n",
       "    }\n",
       "\n",
       "    .dataframe thead th {\n",
       "        text-align: right;\n",
       "    }\n",
       "</style>\n",
       "<table border=\"1\" class=\"dataframe\">\n",
       "  <thead>\n",
       "    <tr style=\"text-align: right;\">\n",
       "      <th></th>\n",
       "      <th>Date</th>\n",
       "      <th>Close/Last</th>\n",
       "      <th>Volume</th>\n",
       "      <th>Open</th>\n",
       "      <th>High</th>\n",
       "      <th>Low</th>\n",
       "    </tr>\n",
       "  </thead>\n",
       "  <tbody>\n",
       "    <tr>\n",
       "      <th>1254</th>\n",
       "      <td>07/11/2016</td>\n",
       "      <td>$24.245</td>\n",
       "      <td>93271960</td>\n",
       "      <td>$24.1875</td>\n",
       "      <td>$24.4125</td>\n",
       "      <td>$24.1825</td>\n",
       "    </tr>\n",
       "    <tr>\n",
       "      <th>1255</th>\n",
       "      <td>07/08/2016</td>\n",
       "      <td>$24.17</td>\n",
       "      <td>115510000</td>\n",
       "      <td>$24.1225</td>\n",
       "      <td>$24.2225</td>\n",
       "      <td>$24.0125</td>\n",
       "    </tr>\n",
       "    <tr>\n",
       "      <th>1256</th>\n",
       "      <td>07/07/2016</td>\n",
       "      <td>$23.985</td>\n",
       "      <td>97843400</td>\n",
       "      <td>$23.925</td>\n",
       "      <td>$24.125</td>\n",
       "      <td>$23.905</td>\n",
       "    </tr>\n",
       "    <tr>\n",
       "      <th>1257</th>\n",
       "      <td>07/06/2016</td>\n",
       "      <td>$23.8825</td>\n",
       "      <td>123510160</td>\n",
       "      <td>$23.65</td>\n",
       "      <td>$23.915</td>\n",
       "      <td>$23.5925</td>\n",
       "    </tr>\n",
       "    <tr>\n",
       "      <th>1258</th>\n",
       "      <td>07/05/2016</td>\n",
       "      <td>$23.7475</td>\n",
       "      <td>110215000</td>\n",
       "      <td>$23.8475</td>\n",
       "      <td>$23.85</td>\n",
       "      <td>$23.615</td>\n",
       "    </tr>\n",
       "  </tbody>\n",
       "</table>\n",
       "</div>"
      ],
      "text/plain": [
       "            Date Close/Last     Volume      Open      High       Low\n",
       "1254  07/11/2016    $24.245   93271960  $24.1875  $24.4125  $24.1825\n",
       "1255  07/08/2016     $24.17  115510000  $24.1225  $24.2225  $24.0125\n",
       "1256  07/07/2016    $23.985   97843400   $23.925   $24.125   $23.905\n",
       "1257  07/06/2016   $23.8825  123510160    $23.65   $23.915  $23.5925\n",
       "1258  07/05/2016   $23.7475  110215000  $23.8475    $23.85   $23.615"
      ]
     },
     "execution_count": 156,
     "metadata": {},
     "output_type": "execute_result"
    }
   ],
   "source": [
    "df.tail()"
   ]
  },
  {
   "cell_type": "code",
   "execution_count": 157,
   "metadata": {},
   "outputs": [
    {
     "data": {
      "text/plain": [
       "Date          object\n",
       "Close/Last    object\n",
       "Volume         int64\n",
       "Open          object\n",
       "High          object\n",
       "Low           object\n",
       "dtype: object"
      ]
     },
     "execution_count": 157,
     "metadata": {},
     "output_type": "execute_result"
    }
   ],
   "source": [
    "df.dtypes"
   ]
  },
  {
   "cell_type": "markdown",
   "metadata": {},
   "source": [
    "# Renaming Columns"
   ]
  },
  {
   "cell_type": "code",
   "execution_count": 158,
   "metadata": {},
   "outputs": [],
   "source": [
    "df=df.rename(columns={'Close/Last':'Close'})"
   ]
  },
  {
   "cell_type": "code",
   "execution_count": 159,
   "metadata": {},
   "outputs": [
    {
     "data": {
      "text/html": [
       "<div>\n",
       "<style scoped>\n",
       "    .dataframe tbody tr th:only-of-type {\n",
       "        vertical-align: middle;\n",
       "    }\n",
       "\n",
       "    .dataframe tbody tr th {\n",
       "        vertical-align: top;\n",
       "    }\n",
       "\n",
       "    .dataframe thead th {\n",
       "        text-align: right;\n",
       "    }\n",
       "</style>\n",
       "<table border=\"1\" class=\"dataframe\">\n",
       "  <thead>\n",
       "    <tr style=\"text-align: right;\">\n",
       "      <th></th>\n",
       "      <th>Date</th>\n",
       "      <th>Close</th>\n",
       "      <th>Volume</th>\n",
       "      <th>Open</th>\n",
       "      <th>High</th>\n",
       "      <th>Low</th>\n",
       "    </tr>\n",
       "  </thead>\n",
       "  <tbody>\n",
       "    <tr>\n",
       "      <th>0</th>\n",
       "      <td>07/02/2021</td>\n",
       "      <td>$139.96</td>\n",
       "      <td>78945570</td>\n",
       "      <td>$137.9</td>\n",
       "      <td>$140</td>\n",
       "      <td>$137.745</td>\n",
       "    </tr>\n",
       "    <tr>\n",
       "      <th>1</th>\n",
       "      <td>07/01/2021</td>\n",
       "      <td>$137.27</td>\n",
       "      <td>52485780</td>\n",
       "      <td>$136.6</td>\n",
       "      <td>$137.33</td>\n",
       "      <td>$135.76</td>\n",
       "    </tr>\n",
       "    <tr>\n",
       "      <th>2</th>\n",
       "      <td>06/30/2021</td>\n",
       "      <td>$136.96</td>\n",
       "      <td>63261390</td>\n",
       "      <td>$136.17</td>\n",
       "      <td>$137.41</td>\n",
       "      <td>$135.87</td>\n",
       "    </tr>\n",
       "    <tr>\n",
       "      <th>3</th>\n",
       "      <td>06/29/2021</td>\n",
       "      <td>$136.33</td>\n",
       "      <td>64556080</td>\n",
       "      <td>$134.8</td>\n",
       "      <td>$136.49</td>\n",
       "      <td>$134.35</td>\n",
       "    </tr>\n",
       "    <tr>\n",
       "      <th>4</th>\n",
       "      <td>06/28/2021</td>\n",
       "      <td>$134.78</td>\n",
       "      <td>62111300</td>\n",
       "      <td>$133.41</td>\n",
       "      <td>$135.245</td>\n",
       "      <td>$133.35</td>\n",
       "    </tr>\n",
       "  </tbody>\n",
       "</table>\n",
       "</div>"
      ],
      "text/plain": [
       "         Date    Close    Volume     Open      High       Low\n",
       "0  07/02/2021  $139.96  78945570   $137.9      $140  $137.745\n",
       "1  07/01/2021  $137.27  52485780   $136.6   $137.33   $135.76\n",
       "2  06/30/2021  $136.96  63261390  $136.17   $137.41   $135.87\n",
       "3  06/29/2021  $136.33  64556080   $134.8   $136.49   $134.35\n",
       "4  06/28/2021  $134.78  62111300  $133.41  $135.245   $133.35"
      ]
     },
     "execution_count": 159,
     "metadata": {},
     "output_type": "execute_result"
    }
   ],
   "source": [
    "df.head()"
   ]
  },
  {
   "cell_type": "markdown",
   "metadata": {},
   "source": [
    "# Converting Data type"
   ]
  },
  {
   "cell_type": "code",
   "execution_count": 160,
   "metadata": {},
   "outputs": [],
   "source": [
    "df['Date']=pd.to_datetime(df['Date'],format='%m/%d/%Y')"
   ]
  },
  {
   "cell_type": "code",
   "execution_count": 161,
   "metadata": {},
   "outputs": [
    {
     "data": {
      "text/html": [
       "<div>\n",
       "<style scoped>\n",
       "    .dataframe tbody tr th:only-of-type {\n",
       "        vertical-align: middle;\n",
       "    }\n",
       "\n",
       "    .dataframe tbody tr th {\n",
       "        vertical-align: top;\n",
       "    }\n",
       "\n",
       "    .dataframe thead th {\n",
       "        text-align: right;\n",
       "    }\n",
       "</style>\n",
       "<table border=\"1\" class=\"dataframe\">\n",
       "  <thead>\n",
       "    <tr style=\"text-align: right;\">\n",
       "      <th></th>\n",
       "      <th>Date</th>\n",
       "      <th>Close</th>\n",
       "      <th>Volume</th>\n",
       "      <th>Open</th>\n",
       "      <th>High</th>\n",
       "      <th>Low</th>\n",
       "    </tr>\n",
       "  </thead>\n",
       "  <tbody>\n",
       "    <tr>\n",
       "      <th>0</th>\n",
       "      <td>2021-07-02</td>\n",
       "      <td>$139.96</td>\n",
       "      <td>78945570</td>\n",
       "      <td>$137.9</td>\n",
       "      <td>$140</td>\n",
       "      <td>$137.745</td>\n",
       "    </tr>\n",
       "    <tr>\n",
       "      <th>1</th>\n",
       "      <td>2021-07-01</td>\n",
       "      <td>$137.27</td>\n",
       "      <td>52485780</td>\n",
       "      <td>$136.6</td>\n",
       "      <td>$137.33</td>\n",
       "      <td>$135.76</td>\n",
       "    </tr>\n",
       "    <tr>\n",
       "      <th>2</th>\n",
       "      <td>2021-06-30</td>\n",
       "      <td>$136.96</td>\n",
       "      <td>63261390</td>\n",
       "      <td>$136.17</td>\n",
       "      <td>$137.41</td>\n",
       "      <td>$135.87</td>\n",
       "    </tr>\n",
       "    <tr>\n",
       "      <th>3</th>\n",
       "      <td>2021-06-29</td>\n",
       "      <td>$136.33</td>\n",
       "      <td>64556080</td>\n",
       "      <td>$134.8</td>\n",
       "      <td>$136.49</td>\n",
       "      <td>$134.35</td>\n",
       "    </tr>\n",
       "    <tr>\n",
       "      <th>4</th>\n",
       "      <td>2021-06-28</td>\n",
       "      <td>$134.78</td>\n",
       "      <td>62111300</td>\n",
       "      <td>$133.41</td>\n",
       "      <td>$135.245</td>\n",
       "      <td>$133.35</td>\n",
       "    </tr>\n",
       "  </tbody>\n",
       "</table>\n",
       "</div>"
      ],
      "text/plain": [
       "        Date    Close    Volume     Open      High       Low\n",
       "0 2021-07-02  $139.96  78945570   $137.9      $140  $137.745\n",
       "1 2021-07-01  $137.27  52485780   $136.6   $137.33   $135.76\n",
       "2 2021-06-30  $136.96  63261390  $136.17   $137.41   $135.87\n",
       "3 2021-06-29  $136.33  64556080   $134.8   $136.49   $134.35\n",
       "4 2021-06-28  $134.78  62111300  $133.41  $135.245   $133.35"
      ]
     },
     "execution_count": 161,
     "metadata": {},
     "output_type": "execute_result"
    }
   ],
   "source": [
    "df.head()"
   ]
  },
  {
   "cell_type": "code",
   "execution_count": 162,
   "metadata": {},
   "outputs": [],
   "source": [
    "df['Close']=df['Close'].replace('[\\$]','',regex=True).astype(float)"
   ]
  },
  {
   "cell_type": "code",
   "execution_count": 163,
   "metadata": {},
   "outputs": [],
   "source": [
    "df[df.columns[3:]]=df[df.columns[3:]].replace('[\\$]','',regex=True).astype(float)"
   ]
  },
  {
   "cell_type": "code",
   "execution_count": 164,
   "metadata": {},
   "outputs": [
    {
     "data": {
      "text/html": [
       "<div>\n",
       "<style scoped>\n",
       "    .dataframe tbody tr th:only-of-type {\n",
       "        vertical-align: middle;\n",
       "    }\n",
       "\n",
       "    .dataframe tbody tr th {\n",
       "        vertical-align: top;\n",
       "    }\n",
       "\n",
       "    .dataframe thead th {\n",
       "        text-align: right;\n",
       "    }\n",
       "</style>\n",
       "<table border=\"1\" class=\"dataframe\">\n",
       "  <thead>\n",
       "    <tr style=\"text-align: right;\">\n",
       "      <th></th>\n",
       "      <th>Date</th>\n",
       "      <th>Close</th>\n",
       "      <th>Volume</th>\n",
       "      <th>Open</th>\n",
       "      <th>High</th>\n",
       "      <th>Low</th>\n",
       "    </tr>\n",
       "  </thead>\n",
       "  <tbody>\n",
       "    <tr>\n",
       "      <th>0</th>\n",
       "      <td>2021-07-02</td>\n",
       "      <td>139.9600</td>\n",
       "      <td>78945570</td>\n",
       "      <td>137.9000</td>\n",
       "      <td>140.0000</td>\n",
       "      <td>137.7450</td>\n",
       "    </tr>\n",
       "    <tr>\n",
       "      <th>1</th>\n",
       "      <td>2021-07-01</td>\n",
       "      <td>137.2700</td>\n",
       "      <td>52485780</td>\n",
       "      <td>136.6000</td>\n",
       "      <td>137.3300</td>\n",
       "      <td>135.7600</td>\n",
       "    </tr>\n",
       "    <tr>\n",
       "      <th>2</th>\n",
       "      <td>2021-06-30</td>\n",
       "      <td>136.9600</td>\n",
       "      <td>63261390</td>\n",
       "      <td>136.1700</td>\n",
       "      <td>137.4100</td>\n",
       "      <td>135.8700</td>\n",
       "    </tr>\n",
       "    <tr>\n",
       "      <th>3</th>\n",
       "      <td>2021-06-29</td>\n",
       "      <td>136.3300</td>\n",
       "      <td>64556080</td>\n",
       "      <td>134.8000</td>\n",
       "      <td>136.4900</td>\n",
       "      <td>134.3500</td>\n",
       "    </tr>\n",
       "    <tr>\n",
       "      <th>4</th>\n",
       "      <td>2021-06-28</td>\n",
       "      <td>134.7800</td>\n",
       "      <td>62111300</td>\n",
       "      <td>133.4100</td>\n",
       "      <td>135.2450</td>\n",
       "      <td>133.3500</td>\n",
       "    </tr>\n",
       "    <tr>\n",
       "      <th>...</th>\n",
       "      <td>...</td>\n",
       "      <td>...</td>\n",
       "      <td>...</td>\n",
       "      <td>...</td>\n",
       "      <td>...</td>\n",
       "      <td>...</td>\n",
       "    </tr>\n",
       "    <tr>\n",
       "      <th>1254</th>\n",
       "      <td>2016-07-11</td>\n",
       "      <td>24.2450</td>\n",
       "      <td>93271960</td>\n",
       "      <td>24.1875</td>\n",
       "      <td>24.4125</td>\n",
       "      <td>24.1825</td>\n",
       "    </tr>\n",
       "    <tr>\n",
       "      <th>1255</th>\n",
       "      <td>2016-07-08</td>\n",
       "      <td>24.1700</td>\n",
       "      <td>115510000</td>\n",
       "      <td>24.1225</td>\n",
       "      <td>24.2225</td>\n",
       "      <td>24.0125</td>\n",
       "    </tr>\n",
       "    <tr>\n",
       "      <th>1256</th>\n",
       "      <td>2016-07-07</td>\n",
       "      <td>23.9850</td>\n",
       "      <td>97843400</td>\n",
       "      <td>23.9250</td>\n",
       "      <td>24.1250</td>\n",
       "      <td>23.9050</td>\n",
       "    </tr>\n",
       "    <tr>\n",
       "      <th>1257</th>\n",
       "      <td>2016-07-06</td>\n",
       "      <td>23.8825</td>\n",
       "      <td>123510160</td>\n",
       "      <td>23.6500</td>\n",
       "      <td>23.9150</td>\n",
       "      <td>23.5925</td>\n",
       "    </tr>\n",
       "    <tr>\n",
       "      <th>1258</th>\n",
       "      <td>2016-07-05</td>\n",
       "      <td>23.7475</td>\n",
       "      <td>110215000</td>\n",
       "      <td>23.8475</td>\n",
       "      <td>23.8500</td>\n",
       "      <td>23.6150</td>\n",
       "    </tr>\n",
       "  </tbody>\n",
       "</table>\n",
       "<p>1259 rows × 6 columns</p>\n",
       "</div>"
      ],
      "text/plain": [
       "           Date     Close     Volume      Open      High       Low\n",
       "0    2021-07-02  139.9600   78945570  137.9000  140.0000  137.7450\n",
       "1    2021-07-01  137.2700   52485780  136.6000  137.3300  135.7600\n",
       "2    2021-06-30  136.9600   63261390  136.1700  137.4100  135.8700\n",
       "3    2021-06-29  136.3300   64556080  134.8000  136.4900  134.3500\n",
       "4    2021-06-28  134.7800   62111300  133.4100  135.2450  133.3500\n",
       "...         ...       ...        ...       ...       ...       ...\n",
       "1254 2016-07-11   24.2450   93271960   24.1875   24.4125   24.1825\n",
       "1255 2016-07-08   24.1700  115510000   24.1225   24.2225   24.0125\n",
       "1256 2016-07-07   23.9850   97843400   23.9250   24.1250   23.9050\n",
       "1257 2016-07-06   23.8825  123510160   23.6500   23.9150   23.5925\n",
       "1258 2016-07-05   23.7475  110215000   23.8475   23.8500   23.6150\n",
       "\n",
       "[1259 rows x 6 columns]"
      ]
     },
     "execution_count": 164,
     "metadata": {},
     "output_type": "execute_result"
    }
   ],
   "source": [
    "df"
   ]
  },
  {
   "cell_type": "code",
   "execution_count": 165,
   "metadata": {},
   "outputs": [
    {
     "data": {
      "text/html": [
       "<div>\n",
       "<style scoped>\n",
       "    .dataframe tbody tr th:only-of-type {\n",
       "        vertical-align: middle;\n",
       "    }\n",
       "\n",
       "    .dataframe tbody tr th {\n",
       "        vertical-align: top;\n",
       "    }\n",
       "\n",
       "    .dataframe thead th {\n",
       "        text-align: right;\n",
       "    }\n",
       "</style>\n",
       "<table border=\"1\" class=\"dataframe\">\n",
       "  <thead>\n",
       "    <tr style=\"text-align: right;\">\n",
       "      <th></th>\n",
       "      <th>Close</th>\n",
       "      <th>Volume</th>\n",
       "      <th>Open</th>\n",
       "      <th>High</th>\n",
       "      <th>Low</th>\n",
       "    </tr>\n",
       "  </thead>\n",
       "  <tbody>\n",
       "    <tr>\n",
       "      <th>count</th>\n",
       "      <td>1259.000000</td>\n",
       "      <td>1.259000e+03</td>\n",
       "      <td>1259.000000</td>\n",
       "      <td>1259.000000</td>\n",
       "      <td>1259.000000</td>\n",
       "    </tr>\n",
       "    <tr>\n",
       "      <th>mean</th>\n",
       "      <td>62.175421</td>\n",
       "      <td>1.257048e+08</td>\n",
       "      <td>62.137779</td>\n",
       "      <td>62.810971</td>\n",
       "      <td>61.477203</td>\n",
       "    </tr>\n",
       "    <tr>\n",
       "      <th>std</th>\n",
       "      <td>33.129425</td>\n",
       "      <td>5.727528e+07</td>\n",
       "      <td>33.156412</td>\n",
       "      <td>33.586930</td>\n",
       "      <td>32.646245</td>\n",
       "    </tr>\n",
       "    <tr>\n",
       "      <th>min</th>\n",
       "      <td>23.747500</td>\n",
       "      <td>4.544820e+07</td>\n",
       "      <td>23.650000</td>\n",
       "      <td>23.850000</td>\n",
       "      <td>23.592500</td>\n",
       "    </tr>\n",
       "    <tr>\n",
       "      <th>25%</th>\n",
       "      <td>39.100000</td>\n",
       "      <td>8.798754e+07</td>\n",
       "      <td>39.185000</td>\n",
       "      <td>39.471250</td>\n",
       "      <td>38.776250</td>\n",
       "    </tr>\n",
       "    <tr>\n",
       "      <th>50%</th>\n",
       "      <td>48.185000</td>\n",
       "      <td>1.098748e+08</td>\n",
       "      <td>48.105000</td>\n",
       "      <td>48.615000</td>\n",
       "      <td>47.787500</td>\n",
       "    </tr>\n",
       "    <tr>\n",
       "      <th>75%</th>\n",
       "      <td>77.396250</td>\n",
       "      <td>1.455448e+08</td>\n",
       "      <td>77.270000</td>\n",
       "      <td>78.270000</td>\n",
       "      <td>76.385000</td>\n",
       "    </tr>\n",
       "    <tr>\n",
       "      <th>max</th>\n",
       "      <td>143.160000</td>\n",
       "      <td>4.473492e+08</td>\n",
       "      <td>143.600000</td>\n",
       "      <td>145.090000</td>\n",
       "      <td>141.370000</td>\n",
       "    </tr>\n",
       "  </tbody>\n",
       "</table>\n",
       "</div>"
      ],
      "text/plain": [
       "             Close        Volume         Open         High          Low\n",
       "count  1259.000000  1.259000e+03  1259.000000  1259.000000  1259.000000\n",
       "mean     62.175421  1.257048e+08    62.137779    62.810971    61.477203\n",
       "std      33.129425  5.727528e+07    33.156412    33.586930    32.646245\n",
       "min      23.747500  4.544820e+07    23.650000    23.850000    23.592500\n",
       "25%      39.100000  8.798754e+07    39.185000    39.471250    38.776250\n",
       "50%      48.185000  1.098748e+08    48.105000    48.615000    47.787500\n",
       "75%      77.396250  1.455448e+08    77.270000    78.270000    76.385000\n",
       "max     143.160000  4.473492e+08   143.600000   145.090000   141.370000"
      ]
     },
     "execution_count": 165,
     "metadata": {},
     "output_type": "execute_result"
    }
   ],
   "source": [
    "df.describe()"
   ]
  },
  {
   "cell_type": "markdown",
   "metadata": {},
   "source": [
    "# Data Visualization"
   ]
  },
  {
   "cell_type": "code",
   "execution_count": 166,
   "metadata": {},
   "outputs": [
    {
     "data": {
      "text/plain": [
       "<matplotlib.legend.Legend at 0x2d20d378910>"
      ]
     },
     "execution_count": 166,
     "metadata": {},
     "output_type": "execute_result"
    },
    {
     "data": {
      "image/png": "[encoded data removed]",
      "text/plain": [
       "<Figure size 864x360 with 1 Axes>"
      ]
     },
     "metadata": {
      "needs_background": "light"
     },
     "output_type": "display_data"
    }
   ],
   "source": [
    "df['Open'].plot(label='Open',figsize=(12,5))\n",
    "df['Close'].plot(label='Close')\n",
    "\n",
    "plt.legend()"
   ]
  },
  {
   "cell_type": "code",
   "execution_count": 167,
   "metadata": {},
   "outputs": [
    {
     "data": {
      "text/plain": [
       "<matplotlib.legend.Legend at 0x2d206794340>"
      ]
     },
     "execution_count": 167,
     "metadata": {},
     "output_type": "execute_result"
    },
    {
     "data": {
      "image/png": "[encoded data removed]",
      "text/plain": [
       "<Figure size 864x360 with 1 Axes>"
      ]
     },
     "metadata": {
      "needs_background": "light"
     },
     "output_type": "display_data"
    }
   ],
   "source": [
    "df['Volume'].plot(label='Volume',figsize=(12,5))\n",
    "\n",
    "plt.legend()"
   ]
  },
  {
   "cell_type": "code",
   "execution_count": 168,
   "metadata": {},
   "outputs": [
    {
     "data": {
      "text/plain": [
       "<matplotlib.legend.Legend at 0x2d205f25940>"
      ]
     },
     "execution_count": 168,
     "metadata": {},
     "output_type": "execute_result"
    },
    {
     "data": {
      "image/png": "[encoded data removed]",
      "text/plain": [
       "<Figure size 864x360 with 1 Axes>"
      ]
     },
     "metadata": {
      "needs_background": "light"
     },
     "output_type": "display_data"
    }
   ],
   "source": [
    "df['High'].plot(label='High',figsize=(12,5))\n",
    "df['Low'].plot(label='Low')\n",
    "plt.legend()"
   ]
  },
  {
   "cell_type": "code",
   "execution_count": 169,
   "metadata": {},
   "outputs": [
    {
     "data": {
      "text/plain": [
       "<seaborn.axisgrid.PairGrid at 0x2d20656b580>"
      ]
     },
     "execution_count": 169,
     "metadata": {},
     "output_type": "execute_result"
    },
    {
     "data": {
      "image/png": "[encoded data removed]",
      "text/plain": [
       "<Figure size 900x900 with 30 Axes>"
      ]
     },
     "metadata": {
      "needs_background": "light"
     },
     "output_type": "display_data"
    }
   ],
   "source": [
    "sns.pairplot(df)"
   ]
  },
  {
   "cell_type": "markdown",
   "metadata": {},
   "source": [
    "# Detecting Outliers"
   ]
  },
  {
   "cell_type": "code",
   "execution_count": 170,
   "metadata": {},
   "outputs": [
    {
     "name": "stderr",
     "output_type": "stream",
     "text": [
      "C:\\Users\\rmkis\\anaconda3\\lib\\site-packages\\seaborn\\distributions.py:2551: FutureWarning: `distplot` is a deprecated function and will be removed in a future version. Please adapt your code to use either `displot` (a figure-level function with similar flexibility) or `histplot` (an axes-level function for histograms).\n",
      "  warnings.warn(msg, FutureWarning)\n"
     ]
    },
    {
     "data": {
      "image/png": "[encoded data removed]",
      "text/plain": [
       "<Figure size 720x360 with 1 Axes>"
      ]
     },
     "metadata": {
      "needs_background": "light"
     },
     "output_type": "display_data"
    }
   ],
   "source": [
    "plt.figure(figsize=(10,5))\n",
    "sns.distplot(df['Close'])\n",
    "plt.show()"
   ]
  },
  {
   "cell_type": "code",
   "execution_count": 171,
   "metadata": {},
   "outputs": [
    {
     "name": "stderr",
     "output_type": "stream",
     "text": [
      "C:\\Users\\rmkis\\anaconda3\\lib\\site-packages\\seaborn\\_decorators.py:36: FutureWarning: Pass the following variable as a keyword arg: x. From version 0.12, the only valid positional argument will be `data`, and passing other arguments without an explicit keyword will result in an error or misinterpretation.\n",
      "  warnings.warn(\n"
     ]
    },
    {
     "data": {
      "text/plain": [
       "<AxesSubplot:xlabel='Close'>"
      ]
     },
     "execution_count": 171,
     "metadata": {},
     "output_type": "execute_result"
    },
    {
     "data": {
      "image/png": "[encoded data removed]",
      "text/plain": [
       "<Figure size 432x288 with 1 Axes>"
      ]
     },
     "metadata": {
      "needs_background": "light"
     },
     "output_type": "display_data"
    }
   ],
   "source": [
    "sns.boxplot(df[\"Close\"])"
   ]
  },
  {
   "cell_type": "markdown",
   "metadata": {},
   "source": [
    "# Handling Outliers using Inter Quartile Range"
   ]
  },
  {
   "cell_type": "code",
   "execution_count": 172,
   "metadata": {},
   "outputs": [
    {
     "name": "stdout",
     "output_type": "stream",
     "text": [
      "39.099999999999994 77.39625000000001\n"
     ]
    },
    {
     "data": {
      "text/plain": [
       "38.296250000000015"
      ]
     },
     "execution_count": 172,
     "metadata": {},
     "output_type": "execute_result"
    }
   ],
   "source": [
    "Q1=df[\"Close\"].quantile(0.25)\n",
    "Q3=df[\"Close\"].quantile(0.75)\n",
    "print(Q1,Q3)\n",
    "iqr=Q3-Q1\n",
    "iqr"
   ]
  },
  {
   "cell_type": "code",
   "execution_count": 173,
   "metadata": {},
   "outputs": [
    {
     "name": "stdout",
     "output_type": "stream",
     "text": [
      "134.84062500000005 -18.344375000000028\n"
     ]
    }
   ],
   "source": [
    "upper_limit = Q3 + 1.5 * iqr\n",
    "lower_limit = Q1 - 1.5 * iqr\n",
    "print(upper_limit,lower_limit)"
   ]
  },
  {
   "cell_type": "code",
   "execution_count": 174,
   "metadata": {},
   "outputs": [
    {
     "data": {
      "text/plain": [
       "(0, 6)"
      ]
     },
     "execution_count": 174,
     "metadata": {},
     "output_type": "execute_result"
    }
   ],
   "source": [
    "new_df = df[df['Close'] < lower_limit] \n",
    "new_df.shape"
   ]
  },
  {
   "cell_type": "code",
   "execution_count": 175,
   "metadata": {},
   "outputs": [
    {
     "data": {
      "text/plain": [
       "(20, 6)"
      ]
     },
     "execution_count": 175,
     "metadata": {},
     "output_type": "execute_result"
    }
   ],
   "source": [
    "new_df = df[df['Close'] > upper_limit] \n",
    "new_df.shape"
   ]
  },
  {
   "cell_type": "markdown",
   "metadata": {},
   "source": [
    "# Trimming outliers"
   ]
  },
  {
   "cell_type": "code",
   "execution_count": 176,
   "metadata": {},
   "outputs": [
    {
     "data": {
      "text/plain": [
       "(1239, 6)"
      ]
     },
     "execution_count": 176,
     "metadata": {},
     "output_type": "execute_result"
    }
   ],
   "source": [
    "new_df = df[df['Close'] < upper_limit] \n",
    "new_df.shape"
   ]
  },
  {
   "cell_type": "code",
   "execution_count": 177,
   "metadata": {},
   "outputs": [
    {
     "name": "stderr",
     "output_type": "stream",
     "text": [
      "C:\\Users\\rmkis\\anaconda3\\lib\\site-packages\\seaborn\\distributions.py:2551: FutureWarning: `distplot` is a deprecated function and will be removed in a future version. Please adapt your code to use either `displot` (a figure-level function with similar flexibility) or `histplot` (an axes-level function for histograms).\n",
      "  warnings.warn(msg, FutureWarning)\n",
      "C:\\Users\\rmkis\\anaconda3\\lib\\site-packages\\seaborn\\_decorators.py:36: FutureWarning: Pass the following variable as a keyword arg: x. From version 0.12, the only valid positional argument will be `data`, and passing other arguments without an explicit keyword will result in an error or misinterpretation.\n",
      "  warnings.warn(\n",
      "C:\\Users\\rmkis\\anaconda3\\lib\\site-packages\\seaborn\\distributions.py:2551: FutureWarning: `distplot` is a deprecated function and will be removed in a future version. Please adapt your code to use either `displot` (a figure-level function with similar flexibility) or `histplot` (an axes-level function for histograms).\n",
      "  warnings.warn(msg, FutureWarning)\n",
      "C:\\Users\\rmkis\\anaconda3\\lib\\site-packages\\seaborn\\_decorators.py:36: FutureWarning: Pass the following variable as a keyword arg: x. From version 0.12, the only valid positional argument will be `data`, and passing other arguments without an explicit keyword will result in an error or misinterpretation.\n",
      "  warnings.warn(\n"
     ]
    },
    {
     "data": {
      "image/png": "[encoded data removed]",
      "text/plain": [
       "<Figure size 1152x576 with 4 Axes>"
      ]
     },
     "metadata": {
      "needs_background": "light"
     },
     "output_type": "display_data"
    }
   ],
   "source": [
    "plt.figure(figsize=(16,8))\n",
    "plt.subplot(2,2,1)\n",
    "sns.distplot(df['Close'])\n",
    "plt.subplot(2,2,2)\n",
    "sns.boxplot(df['Close'])\n",
    "plt.subplot(2,2,3)\n",
    "sns.distplot(new_df['Close'])\n",
    "plt.subplot(2,2,4)\n",
    "sns.boxplot(new_df['Close'])\n",
    "plt.show()"
   ]
  },
  {
   "cell_type": "markdown",
   "metadata": {},
   "source": [
    "# Capping Outliers"
   ]
  },
  {
   "cell_type": "code",
   "execution_count": 178,
   "metadata": {},
   "outputs": [],
   "source": [
    "new_df_cap = df.copy()\n",
    "new_df_cap['Close'] = np.where(\n",
    "    new_df_cap['Close'] > upper_limit,upper_limit,\n",
    "    np.where(new_df_cap['Close'] < lower_limit,lower_limit,\n",
    "        new_df_cap['Close']\n",
    "    )\n",
    ")"
   ]
  },
  {
   "cell_type": "code",
   "execution_count": 179,
   "metadata": {},
   "outputs": [
    {
     "name": "stderr",
     "output_type": "stream",
     "text": [
      "C:\\Users\\rmkis\\anaconda3\\lib\\site-packages\\seaborn\\distributions.py:2551: FutureWarning: `distplot` is a deprecated function and will be removed in a future version. Please adapt your code to use either `displot` (a figure-level function with similar flexibility) or `histplot` (an axes-level function for histograms).\n",
      "  warnings.warn(msg, FutureWarning)\n",
      "C:\\Users\\rmkis\\anaconda3\\lib\\site-packages\\seaborn\\_decorators.py:36: FutureWarning: Pass the following variable as a keyword arg: x. From version 0.12, the only valid positional argument will be `data`, and passing other arguments without an explicit keyword will result in an error or misinterpretation.\n",
      "  warnings.warn(\n",
      "C:\\Users\\rmkis\\anaconda3\\lib\\site-packages\\seaborn\\distributions.py:2551: FutureWarning: `distplot` is a deprecated function and will be removed in a future version. Please adapt your code to use either `displot` (a figure-level function with similar flexibility) or `histplot` (an axes-level function for histograms).\n",
      "  warnings.warn(msg, FutureWarning)\n",
      "C:\\Users\\rmkis\\anaconda3\\lib\\site-packages\\seaborn\\_decorators.py:36: FutureWarning: Pass the following variable as a keyword arg: x. From version 0.12, the only valid positional argument will be `data`, and passing other arguments without an explicit keyword will result in an error or misinterpretation.\n",
      "  warnings.warn(\n"
     ]
    },
    {
     "data": {
      "image/png": "[encoded data removed]",
      "text/plain": [
       "<Figure size 1152x576 with 4 Axes>"
      ]
     },
     "metadata": {
      "needs_background": "light"
     },
     "output_type": "display_data"
    }
   ],
   "source": [
    "plt.figure(figsize=(16,8))\n",
    "plt.subplot(2,2,1)\n",
    "sns.distplot(df['Close'])\n",
    "plt.subplot(2,2,2)\n",
    "sns.boxplot(df['Close'])\n",
    "plt.subplot(2,2,3)\n",
    "sns.distplot(new_df_cap['Close'])\n",
    "plt.subplot(2,2,4)\n",
    "sns.boxplot(new_df_cap['Close'])\n",
    "plt.show()"
   ]
  },
  {
   "cell_type": "markdown",
   "metadata": {},
   "source": [
    "# Reading Headlines Dataset"
   ]
  },
  {
   "cell_type": "code",
   "execution_count": 180,
   "metadata": {},
   "outputs": [],
   "source": [
    "df15=pd.read_csv(r\"C:\\Users\\rmkis\\Desktop\\Datasets\\2015.csv\",encoding='ISO-8859-1')\n",
    "df16=pd.read_csv(r\"C:\\Users\\rmkis\\Desktop\\Datasets\\2016.csv\",encoding='ISO-8859-1')\n",
    "df17=pd.read_csv(r\"C:\\Users\\rmkis\\Desktop\\Datasets\\2017.csv\",encoding='ISO-8859-1')\n",
    "df18=pd.read_csv(r\"C:\\Users\\rmkis\\Desktop\\Datasets\\2018.csv\",encoding='ISO-8859-1')\n",
    "df19=pd.read_csv(r\"C:\\Users\\rmkis\\Desktop\\Datasets\\2019.csv\",encoding='ISO-8859-1')\n",
    "df20=pd.read_csv(r\"C:\\Users\\rmkis\\Desktop\\Datasets\\2020.csv\",encoding='ISO-8859-1')\n",
    "df21=pd.read_csv(r\"C:\\Users\\rmkis\\Desktop\\Datasets\\2021.csv\",encoding='ISO-8859-1')"
   ]
  },
  {
   "cell_type": "code",
   "execution_count": 181,
   "metadata": {},
   "outputs": [],
   "source": [
    "df1=pd.concat([df15,df16,df17,df18,df19,df20,df21])"
   ]
  },
  {
   "cell_type": "code",
   "execution_count": 182,
   "metadata": {},
   "outputs": [
    {
     "data": {
      "text/html": [
       "<div>\n",
       "<style scoped>\n",
       "    .dataframe tbody tr th:only-of-type {\n",
       "        vertical-align: middle;\n",
       "    }\n",
       "\n",
       "    .dataframe tbody tr th {\n",
       "        vertical-align: top;\n",
       "    }\n",
       "\n",
       "    .dataframe thead th {\n",
       "        text-align: right;\n",
       "    }\n",
       "</style>\n",
       "<table border=\"1\" class=\"dataframe\">\n",
       "  <thead>\n",
       "    <tr style=\"text-align: right;\">\n",
       "      <th></th>\n",
       "      <th>Date</th>\n",
       "      <th>Headlines</th>\n",
       "    </tr>\n",
       "  </thead>\n",
       "  <tbody>\n",
       "    <tr>\n",
       "      <th>0</th>\n",
       "      <td>2015-01-01</td>\n",
       "      <td>What Can We Expect From Apple Inc. In 2015? 1 ...</td>\n",
       "    </tr>\n",
       "    <tr>\n",
       "      <th>1</th>\n",
       "      <td>2015-01-02</td>\n",
       "      <td>What to expect from Apple in 2015 beyond its s...</td>\n",
       "    </tr>\n",
       "    <tr>\n",
       "      <th>2</th>\n",
       "      <td>2015-01-03</td>\n",
       "      <td>Mountie: An inexpensive and innovative way to ...</td>\n",
       "    </tr>\n",
       "    <tr>\n",
       "      <th>3</th>\n",
       "      <td>2015-01-04</td>\n",
       "      <td>Donald Yacktman on the Sources of Moats, His C...</td>\n",
       "    </tr>\n",
       "    <tr>\n",
       "      <th>4</th>\n",
       "      <td>2015-01-05</td>\n",
       "      <td>SIM-free iPhone 6, 6 Plus reportedly debuting ...</td>\n",
       "    </tr>\n",
       "  </tbody>\n",
       "</table>\n",
       "</div>"
      ],
      "text/plain": [
       "         Date                                          Headlines\n",
       "0  2015-01-01  What Can We Expect From Apple Inc. In 2015? 1 ...\n",
       "1  2015-01-02  What to expect from Apple in 2015 beyond its s...\n",
       "2  2015-01-03  Mountie: An inexpensive and innovative way to ...\n",
       "3  2015-01-04  Donald Yacktman on the Sources of Moats, His C...\n",
       "4  2015-01-05  SIM-free iPhone 6, 6 Plus reportedly debuting ..."
      ]
     },
     "execution_count": 182,
     "metadata": {},
     "output_type": "execute_result"
    }
   ],
   "source": [
    "df1.head()"
   ]
  },
  {
   "cell_type": "code",
   "execution_count": 183,
   "metadata": {},
   "outputs": [
    {
     "data": {
      "text/plain": [
       "Date         object\n",
       "Headlines    object\n",
       "dtype: object"
      ]
     },
     "execution_count": 183,
     "metadata": {},
     "output_type": "execute_result"
    }
   ],
   "source": [
    "df1.dtypes"
   ]
  },
  {
   "cell_type": "code",
   "execution_count": 184,
   "metadata": {},
   "outputs": [],
   "source": [
    "df1['Date']=pd.to_datetime(df1['Date'],format='%Y/%m/%d')"
   ]
  },
  {
   "cell_type": "code",
   "execution_count": 185,
   "metadata": {},
   "outputs": [],
   "source": [
    "df1[\"Headlines\"]=df1[\"Headlines\"].astype(str)\n",
    "df1['Headlines']=df1['Headlines'].apply(lambda x: x.lower())"
   ]
  },
  {
   "cell_type": "markdown",
   "metadata": {},
   "source": [
    "# Removing Punctuations and Stopwords"
   ]
  },
  {
   "cell_type": "code",
   "execution_count": 186,
   "metadata": {},
   "outputs": [
    {
     "data": {
      "text/html": [
       "<div>\n",
       "<style scoped>\n",
       "    .dataframe tbody tr th:only-of-type {\n",
       "        vertical-align: middle;\n",
       "    }\n",
       "\n",
       "    .dataframe tbody tr th {\n",
       "        vertical-align: top;\n",
       "    }\n",
       "\n",
       "    .dataframe thead th {\n",
       "        text-align: right;\n",
       "    }\n",
       "</style>\n",
       "<table border=\"1\" class=\"dataframe\">\n",
       "  <thead>\n",
       "    <tr style=\"text-align: right;\">\n",
       "      <th></th>\n",
       "      <th>Date</th>\n",
       "      <th>Headlines</th>\n",
       "    </tr>\n",
       "  </thead>\n",
       "  <tbody>\n",
       "    <tr>\n",
       "      <th>0</th>\n",
       "      <td>2015-01-01</td>\n",
       "      <td>what can we expect from apple inc in 2015 1 re...</td>\n",
       "    </tr>\n",
       "    <tr>\n",
       "      <th>1</th>\n",
       "      <td>2015-01-02</td>\n",
       "      <td>what to expect from apple in 2015 beyond its s...</td>\n",
       "    </tr>\n",
       "    <tr>\n",
       "      <th>2</th>\n",
       "      <td>2015-01-03</td>\n",
       "      <td>mountie an inexpensive and innovative way to a...</td>\n",
       "    </tr>\n",
       "    <tr>\n",
       "      <th>3</th>\n",
       "      <td>2015-01-04</td>\n",
       "      <td>donald yacktman on the sources of moats his co...</td>\n",
       "    </tr>\n",
       "    <tr>\n",
       "      <th>4</th>\n",
       "      <td>2015-01-05</td>\n",
       "      <td>simfree iphone 6 6 plus reportedly debuting to...</td>\n",
       "    </tr>\n",
       "    <tr>\n",
       "      <th>...</th>\n",
       "      <td>...</td>\n",
       "      <td>...</td>\n",
       "    </tr>\n",
       "    <tr>\n",
       "      <th>169</th>\n",
       "      <td>2021-06-19</td>\n",
       "      <td>best preprime day smartwatch deals on apple wa...</td>\n",
       "    </tr>\n",
       "    <tr>\n",
       "      <th>170</th>\n",
       "      <td>2021-06-20</td>\n",
       "      <td>iphone 13 rumors as apples fall event gets clo...</td>\n",
       "    </tr>\n",
       "    <tr>\n",
       "      <th>171</th>\n",
       "      <td>2021-06-21</td>\n",
       "      <td>apple is shortening new free tv plus trials fr...</td>\n",
       "    </tr>\n",
       "    <tr>\n",
       "      <th>172</th>\n",
       "      <td>2021-06-22</td>\n",
       "      <td>google likely to soon face antitrust claims ov...</td>\n",
       "    </tr>\n",
       "    <tr>\n",
       "      <th>173</th>\n",
       "      <td>2021-06-23</td>\n",
       "      <td>french court sets date in apple case over app ...</td>\n",
       "    </tr>\n",
       "  </tbody>\n",
       "</table>\n",
       "<p>2365 rows × 2 columns</p>\n",
       "</div>"
      ],
      "text/plain": [
       "          Date                                          Headlines\n",
       "0   2015-01-01  what can we expect from apple inc in 2015 1 re...\n",
       "1   2015-01-02  what to expect from apple in 2015 beyond its s...\n",
       "2   2015-01-03  mountie an inexpensive and innovative way to a...\n",
       "3   2015-01-04  donald yacktman on the sources of moats his co...\n",
       "4   2015-01-05  simfree iphone 6 6 plus reportedly debuting to...\n",
       "..         ...                                                ...\n",
       "169 2021-06-19  best preprime day smartwatch deals on apple wa...\n",
       "170 2021-06-20  iphone 13 rumors as apples fall event gets clo...\n",
       "171 2021-06-21  apple is shortening new free tv plus trials fr...\n",
       "172 2021-06-22  google likely to soon face antitrust claims ov...\n",
       "173 2021-06-23  french court sets date in apple case over app ...\n",
       "\n",
       "[2365 rows x 2 columns]"
      ]
     },
     "execution_count": 186,
     "metadata": {},
     "output_type": "execute_result"
    }
   ],
   "source": [
    "import string\n",
    "def punctuation_removal(text):\n",
    "    li=[char for char in text if char not in string.punctuation]\n",
    "    clean_str=''.join(li)\n",
    "    li.clear()\n",
    "    return clean_str\n",
    "df1[\"Headlines\"]=df1[\"Headlines\"].astype(str)\n",
    "df1['Headlines']=df1['Headlines'].apply(punctuation_removal)\n",
    "df1"
   ]
  },
  {
   "cell_type": "code",
   "execution_count": 187,
   "metadata": {},
   "outputs": [
    {
     "name": "stderr",
     "output_type": "stream",
     "text": [
      "[nltk_data] Downloading package stopwords to\n",
      "[nltk_data]     C:\\Users\\rmkis\\AppData\\Roaming\\nltk_data...\n",
      "[nltk_data]   Package stopwords is already up-to-date!\n"
     ]
    }
   ],
   "source": [
    "import nltk\n",
    "nltk.download('stopwords')\n",
    "from nltk.corpus import stopwords\n",
    "stop = set(stopwords.words('english'))\n",
    "df1['Headlines'] = df1['Headlines'].apply(lambda x: ' '.join([word for word in x.split() if word not in (stop)]))"
   ]
  },
  {
   "cell_type": "code",
   "execution_count": 188,
   "metadata": {},
   "outputs": [
    {
     "data": {
      "text/html": [
       "<div>\n",
       "<style scoped>\n",
       "    .dataframe tbody tr th:only-of-type {\n",
       "        vertical-align: middle;\n",
       "    }\n",
       "\n",
       "    .dataframe tbody tr th {\n",
       "        vertical-align: top;\n",
       "    }\n",
       "\n",
       "    .dataframe thead th {\n",
       "        text-align: right;\n",
       "    }\n",
       "</style>\n",
       "<table border=\"1\" class=\"dataframe\">\n",
       "  <thead>\n",
       "    <tr style=\"text-align: right;\">\n",
       "      <th></th>\n",
       "      <th>Date</th>\n",
       "      <th>Headlines</th>\n",
       "    </tr>\n",
       "  </thead>\n",
       "  <tbody>\n",
       "    <tr>\n",
       "      <th>0</th>\n",
       "      <td>2015-01-01</td>\n",
       "      <td>expect apple inc 2015 1 reason might wrong app...</td>\n",
       "    </tr>\n",
       "    <tr>\n",
       "      <th>1</th>\n",
       "      <td>2015-01-02</td>\n",
       "      <td>expect apple 2015 beyond smartwatch amazonquot...</td>\n",
       "    </tr>\n",
       "    <tr>\n",
       "      <th>2</th>\n",
       "      <td>2015-01-03</td>\n",
       "      <td>mountie inexpensive innovative way attach ipho...</td>\n",
       "    </tr>\n",
       "    <tr>\n",
       "      <th>3</th>\n",
       "      <td>2015-01-04</td>\n",
       "      <td>donald yacktman sources moats concern applequo...</td>\n",
       "    </tr>\n",
       "    <tr>\n",
       "      <th>4</th>\n",
       "      <td>2015-01-05</td>\n",
       "      <td>simfree iphone 6 6 plus reportedly debuting to...</td>\n",
       "    </tr>\n",
       "    <tr>\n",
       "      <th>...</th>\n",
       "      <td>...</td>\n",
       "      <td>...</td>\n",
       "    </tr>\n",
       "    <tr>\n",
       "      <th>169</th>\n",
       "      <td>2021-06-19</td>\n",
       "      <td>best preprime day smartwatch deals apple watch...</td>\n",
       "    </tr>\n",
       "    <tr>\n",
       "      <th>170</th>\n",
       "      <td>2021-06-20</td>\n",
       "      <td>iphone 13 rumors apples fall event gets closer...</td>\n",
       "    </tr>\n",
       "    <tr>\n",
       "      <th>171</th>\n",
       "      <td>2021-06-21</td>\n",
       "      <td>apple shortening new free tv plus trials year ...</td>\n",
       "    </tr>\n",
       "    <tr>\n",
       "      <th>172</th>\n",
       "      <td>2021-06-22</td>\n",
       "      <td>google likely soon face antitrust claims play ...</td>\n",
       "    </tr>\n",
       "    <tr>\n",
       "      <th>173</th>\n",
       "      <td>2021-06-23</td>\n",
       "      <td>french court sets date apple case app store de...</td>\n",
       "    </tr>\n",
       "  </tbody>\n",
       "</table>\n",
       "<p>2365 rows × 2 columns</p>\n",
       "</div>"
      ],
      "text/plain": [
       "          Date                                          Headlines\n",
       "0   2015-01-01  expect apple inc 2015 1 reason might wrong app...\n",
       "1   2015-01-02  expect apple 2015 beyond smartwatch amazonquot...\n",
       "2   2015-01-03  mountie inexpensive innovative way attach ipho...\n",
       "3   2015-01-04  donald yacktman sources moats concern applequo...\n",
       "4   2015-01-05  simfree iphone 6 6 plus reportedly debuting to...\n",
       "..         ...                                                ...\n",
       "169 2021-06-19  best preprime day smartwatch deals apple watch...\n",
       "170 2021-06-20  iphone 13 rumors apples fall event gets closer...\n",
       "171 2021-06-21  apple shortening new free tv plus trials year ...\n",
       "172 2021-06-22  google likely soon face antitrust claims play ...\n",
       "173 2021-06-23  french court sets date apple case app store de...\n",
       "\n",
       "[2365 rows x 2 columns]"
      ]
     },
     "execution_count": 188,
     "metadata": {},
     "output_type": "execute_result"
    }
   ],
   "source": [
    "df1"
   ]
  },
  {
   "cell_type": "code",
   "execution_count": 189,
   "metadata": {},
   "outputs": [
    {
     "name": "stderr",
     "output_type": "stream",
     "text": [
      "[nltk_data] Downloading package punkt to\n",
      "[nltk_data]     C:\\Users\\rmkis\\AppData\\Roaming\\nltk_data...\n",
      "[nltk_data]   Package punkt is already up-to-date!\n",
      "[nltk_data] Downloading package wordnet to\n",
      "[nltk_data]     C:\\Users\\rmkis\\AppData\\Roaming\\nltk_data...\n",
      "[nltk_data]   Package wordnet is already up-to-date!\n"
     ]
    }
   ],
   "source": [
    "import nltk\n",
    "nltk.download('punkt')\n",
    "nltk.download('wordnet')\n",
    "from nltk.tokenize import word_tokenize\n",
    "from nltk.stem import WordNetLemmatizer\n",
    "def split_to_lemma(text):\n",
    "    lemma=WordNetLemmatizer()\n",
    "    words=word_tokenize(text)\n",
    "    return ' '.join([lemma.lemmatize(word) for word in words])\n",
    "df1['Headlines'] = df1['Headlines'].apply(split_to_lemma)"
   ]
  },
  {
   "cell_type": "code",
   "execution_count": 190,
   "metadata": {},
   "outputs": [
    {
     "data": {
      "text/html": [
       "<div>\n",
       "<style scoped>\n",
       "    .dataframe tbody tr th:only-of-type {\n",
       "        vertical-align: middle;\n",
       "    }\n",
       "\n",
       "    .dataframe tbody tr th {\n",
       "        vertical-align: top;\n",
       "    }\n",
       "\n",
       "    .dataframe thead th {\n",
       "        text-align: right;\n",
       "    }\n",
       "</style>\n",
       "<table border=\"1\" class=\"dataframe\">\n",
       "  <thead>\n",
       "    <tr style=\"text-align: right;\">\n",
       "      <th></th>\n",
       "      <th>Date</th>\n",
       "      <th>Headlines</th>\n",
       "    </tr>\n",
       "  </thead>\n",
       "  <tbody>\n",
       "    <tr>\n",
       "      <th>0</th>\n",
       "      <td>2015-01-01</td>\n",
       "      <td>expect apple inc 2015 1 reason might wrong app...</td>\n",
       "    </tr>\n",
       "    <tr>\n",
       "      <th>1</th>\n",
       "      <td>2015-01-02</td>\n",
       "      <td>expect apple 2015 beyond smartwatch amazonquot...</td>\n",
       "    </tr>\n",
       "    <tr>\n",
       "      <th>2</th>\n",
       "      <td>2015-01-03</td>\n",
       "      <td>mountie inexpensive innovative way attach ipho...</td>\n",
       "    </tr>\n",
       "    <tr>\n",
       "      <th>3</th>\n",
       "      <td>2015-01-04</td>\n",
       "      <td>donald yacktman source moat concern applequots...</td>\n",
       "    </tr>\n",
       "    <tr>\n",
       "      <th>4</th>\n",
       "      <td>2015-01-05</td>\n",
       "      <td>simfree iphone 6 6 plus reportedly debuting to...</td>\n",
       "    </tr>\n",
       "    <tr>\n",
       "      <th>...</th>\n",
       "      <td>...</td>\n",
       "      <td>...</td>\n",
       "    </tr>\n",
       "    <tr>\n",
       "      <th>169</th>\n",
       "      <td>2021-06-19</td>\n",
       "      <td>best preprime day smartwatch deal apple watch ...</td>\n",
       "    </tr>\n",
       "    <tr>\n",
       "      <th>170</th>\n",
       "      <td>2021-06-20</td>\n",
       "      <td>iphone 13 rumor apple fall event get closer se...</td>\n",
       "    </tr>\n",
       "    <tr>\n",
       "      <th>171</th>\n",
       "      <td>2021-06-21</td>\n",
       "      <td>apple shortening new free tv plus trial year t...</td>\n",
       "    </tr>\n",
       "    <tr>\n",
       "      <th>172</th>\n",
       "      <td>2021-06-22</td>\n",
       "      <td>google likely soon face antitrust claim play s...</td>\n",
       "    </tr>\n",
       "    <tr>\n",
       "      <th>173</th>\n",
       "      <td>2021-06-23</td>\n",
       "      <td>french court set date apple case app store dev...</td>\n",
       "    </tr>\n",
       "  </tbody>\n",
       "</table>\n",
       "<p>2365 rows × 2 columns</p>\n",
       "</div>"
      ],
      "text/plain": [
       "          Date                                          Headlines\n",
       "0   2015-01-01  expect apple inc 2015 1 reason might wrong app...\n",
       "1   2015-01-02  expect apple 2015 beyond smartwatch amazonquot...\n",
       "2   2015-01-03  mountie inexpensive innovative way attach ipho...\n",
       "3   2015-01-04  donald yacktman source moat concern applequots...\n",
       "4   2015-01-05  simfree iphone 6 6 plus reportedly debuting to...\n",
       "..         ...                                                ...\n",
       "169 2021-06-19  best preprime day smartwatch deal apple watch ...\n",
       "170 2021-06-20  iphone 13 rumor apple fall event get closer se...\n",
       "171 2021-06-21  apple shortening new free tv plus trial year t...\n",
       "172 2021-06-22  google likely soon face antitrust claim play s...\n",
       "173 2021-06-23  french court set date apple case app store dev...\n",
       "\n",
       "[2365 rows x 2 columns]"
      ]
     },
     "execution_count": 190,
     "metadata": {},
     "output_type": "execute_result"
    }
   ],
   "source": [
    "df1"
   ]
  },
  {
   "cell_type": "markdown",
   "metadata": {},
   "source": [
    "# Merging both Datasets"
   ]
  },
  {
   "cell_type": "code",
   "execution_count": 191,
   "metadata": {},
   "outputs": [],
   "source": [
    "df2=pd.merge(df,df1,on=['Date'],how='outer')"
   ]
  },
  {
   "cell_type": "code",
   "execution_count": 192,
   "metadata": {},
   "outputs": [
    {
     "data": {
      "text/html": [
       "<div>\n",
       "<style scoped>\n",
       "    .dataframe tbody tr th:only-of-type {\n",
       "        vertical-align: middle;\n",
       "    }\n",
       "\n",
       "    .dataframe tbody tr th {\n",
       "        vertical-align: top;\n",
       "    }\n",
       "\n",
       "    .dataframe thead th {\n",
       "        text-align: right;\n",
       "    }\n",
       "</style>\n",
       "<table border=\"1\" class=\"dataframe\">\n",
       "  <thead>\n",
       "    <tr style=\"text-align: right;\">\n",
       "      <th></th>\n",
       "      <th>Date</th>\n",
       "      <th>Close</th>\n",
       "      <th>Volume</th>\n",
       "      <th>Open</th>\n",
       "      <th>High</th>\n",
       "      <th>Low</th>\n",
       "      <th>Headlines</th>\n",
       "    </tr>\n",
       "  </thead>\n",
       "  <tbody>\n",
       "    <tr>\n",
       "      <th>0</th>\n",
       "      <td>2021-07-02</td>\n",
       "      <td>139.96</td>\n",
       "      <td>78945570.0</td>\n",
       "      <td>137.90</td>\n",
       "      <td>140.000</td>\n",
       "      <td>137.745</td>\n",
       "      <td>NaN</td>\n",
       "    </tr>\n",
       "    <tr>\n",
       "      <th>1</th>\n",
       "      <td>2021-07-01</td>\n",
       "      <td>137.27</td>\n",
       "      <td>52485780.0</td>\n",
       "      <td>136.60</td>\n",
       "      <td>137.330</td>\n",
       "      <td>135.760</td>\n",
       "      <td>NaN</td>\n",
       "    </tr>\n",
       "    <tr>\n",
       "      <th>2</th>\n",
       "      <td>2021-06-30</td>\n",
       "      <td>136.96</td>\n",
       "      <td>63261390.0</td>\n",
       "      <td>136.17</td>\n",
       "      <td>137.410</td>\n",
       "      <td>135.870</td>\n",
       "      <td>NaN</td>\n",
       "    </tr>\n",
       "    <tr>\n",
       "      <th>3</th>\n",
       "      <td>2021-06-29</td>\n",
       "      <td>136.33</td>\n",
       "      <td>64556080.0</td>\n",
       "      <td>134.80</td>\n",
       "      <td>136.490</td>\n",
       "      <td>134.350</td>\n",
       "      <td>NaN</td>\n",
       "    </tr>\n",
       "    <tr>\n",
       "      <th>4</th>\n",
       "      <td>2021-06-28</td>\n",
       "      <td>134.78</td>\n",
       "      <td>62111300.0</td>\n",
       "      <td>133.41</td>\n",
       "      <td>135.245</td>\n",
       "      <td>133.350</td>\n",
       "      <td>NaN</td>\n",
       "    </tr>\n",
       "    <tr>\n",
       "      <th>...</th>\n",
       "      <td>...</td>\n",
       "      <td>...</td>\n",
       "      <td>...</td>\n",
       "      <td>...</td>\n",
       "      <td>...</td>\n",
       "      <td>...</td>\n",
       "      <td>...</td>\n",
       "    </tr>\n",
       "    <tr>\n",
       "      <th>2390</th>\n",
       "      <td>2021-06-06</td>\n",
       "      <td>NaN</td>\n",
       "      <td>NaN</td>\n",
       "      <td>NaN</td>\n",
       "      <td>NaN</td>\n",
       "      <td>NaN</td>\n",
       "      <td>facebookquots trump ban last least 2 year glob...</td>\n",
       "    </tr>\n",
       "    <tr>\n",
       "      <th>2391</th>\n",
       "      <td>2021-06-12</td>\n",
       "      <td>NaN</td>\n",
       "      <td>NaN</td>\n",
       "      <td>NaN</td>\n",
       "      <td>NaN</td>\n",
       "      <td>NaN</td>\n",
       "      <td>japan start antitrust probe apple google nikke...</td>\n",
       "    </tr>\n",
       "    <tr>\n",
       "      <th>2392</th>\n",
       "      <td>2021-06-13</td>\n",
       "      <td>NaN</td>\n",
       "      <td>NaN</td>\n",
       "      <td>NaN</td>\n",
       "      <td>NaN</td>\n",
       "      <td>NaN</td>\n",
       "      <td>watch next oil crisis sector watch apple store...</td>\n",
       "    </tr>\n",
       "    <tr>\n",
       "      <th>2393</th>\n",
       "      <td>2021-06-19</td>\n",
       "      <td>NaN</td>\n",
       "      <td>NaN</td>\n",
       "      <td>NaN</td>\n",
       "      <td>NaN</td>\n",
       "      <td>NaN</td>\n",
       "      <td>best preprime day smartwatch deal apple watch ...</td>\n",
       "    </tr>\n",
       "    <tr>\n",
       "      <th>2394</th>\n",
       "      <td>2021-06-20</td>\n",
       "      <td>NaN</td>\n",
       "      <td>NaN</td>\n",
       "      <td>NaN</td>\n",
       "      <td>NaN</td>\n",
       "      <td>NaN</td>\n",
       "      <td>iphone 13 rumor apple fall event get closer se...</td>\n",
       "    </tr>\n",
       "  </tbody>\n",
       "</table>\n",
       "<p>2395 rows × 7 columns</p>\n",
       "</div>"
      ],
      "text/plain": [
       "           Date   Close      Volume    Open     High      Low  \\\n",
       "0    2021-07-02  139.96  78945570.0  137.90  140.000  137.745   \n",
       "1    2021-07-01  137.27  52485780.0  136.60  137.330  135.760   \n",
       "2    2021-06-30  136.96  63261390.0  136.17  137.410  135.870   \n",
       "3    2021-06-29  136.33  64556080.0  134.80  136.490  134.350   \n",
       "4    2021-06-28  134.78  62111300.0  133.41  135.245  133.350   \n",
       "...         ...     ...         ...     ...      ...      ...   \n",
       "2390 2021-06-06     NaN         NaN     NaN      NaN      NaN   \n",
       "2391 2021-06-12     NaN         NaN     NaN      NaN      NaN   \n",
       "2392 2021-06-13     NaN         NaN     NaN      NaN      NaN   \n",
       "2393 2021-06-19     NaN         NaN     NaN      NaN      NaN   \n",
       "2394 2021-06-20     NaN         NaN     NaN      NaN      NaN   \n",
       "\n",
       "                                              Headlines  \n",
       "0                                                   NaN  \n",
       "1                                                   NaN  \n",
       "2                                                   NaN  \n",
       "3                                                   NaN  \n",
       "4                                                   NaN  \n",
       "...                                                 ...  \n",
       "2390  facebookquots trump ban last least 2 year glob...  \n",
       "2391  japan start antitrust probe apple google nikke...  \n",
       "2392  watch next oil crisis sector watch apple store...  \n",
       "2393  best preprime day smartwatch deal apple watch ...  \n",
       "2394  iphone 13 rumor apple fall event get closer se...  \n",
       "\n",
       "[2395 rows x 7 columns]"
      ]
     },
     "execution_count": 192,
     "metadata": {},
     "output_type": "execute_result"
    }
   ],
   "source": [
    "df2"
   ]
  },
  {
   "cell_type": "markdown",
   "metadata": {},
   "source": [
    "# Handling Null Values"
   ]
  },
  {
   "cell_type": "code",
   "execution_count": 193,
   "metadata": {},
   "outputs": [
    {
     "data": {
      "text/plain": [
       "Date            0\n",
       "Close        1116\n",
       "Volume       1116\n",
       "Open         1116\n",
       "High         1116\n",
       "Low          1116\n",
       "Headlines      30\n",
       "dtype: int64"
      ]
     },
     "execution_count": 193,
     "metadata": {},
     "output_type": "execute_result"
    }
   ],
   "source": [
    "df2.isnull().sum()"
   ]
  },
  {
   "cell_type": "code",
   "execution_count": 194,
   "metadata": {},
   "outputs": [],
   "source": [
    "Close_mean=df2[\"Close\"].mean()\n",
    "Volume_mean=df2[\"Volume\"].mean()\n",
    "Open_mean=df2[\"Open\"].mean()\n",
    "High_mean=df2[\"High\"].mean()\n",
    "Low_mean=df2[\"Low\"].mean()"
   ]
  },
  {
   "cell_type": "code",
   "execution_count": 195,
   "metadata": {},
   "outputs": [],
   "source": [
    "df2['Close'].fillna(value=Close_mean,inplace=True)\n",
    "df2['Volume'].fillna(value=Volume_mean,inplace=True)\n",
    "df2['Open'].fillna(value=Open_mean,inplace=True)\n",
    "df2['High'].fillna(value=High_mean,inplace=True)\n",
    "df2['Low'].fillna(value=Low_mean,inplace=True)"
   ]
  },
  {
   "cell_type": "code",
   "execution_count": 196,
   "metadata": {},
   "outputs": [],
   "source": [
    "df2=df2.fillna('')"
   ]
  },
  {
   "cell_type": "code",
   "execution_count": 197,
   "metadata": {},
   "outputs": [
    {
     "data": {
      "text/html": [
       "<div>\n",
       "<style scoped>\n",
       "    .dataframe tbody tr th:only-of-type {\n",
       "        vertical-align: middle;\n",
       "    }\n",
       "\n",
       "    .dataframe tbody tr th {\n",
       "        vertical-align: top;\n",
       "    }\n",
       "\n",
       "    .dataframe thead th {\n",
       "        text-align: right;\n",
       "    }\n",
       "</style>\n",
       "<table border=\"1\" class=\"dataframe\">\n",
       "  <thead>\n",
       "    <tr style=\"text-align: right;\">\n",
       "      <th></th>\n",
       "      <th>Date</th>\n",
       "      <th>Close</th>\n",
       "      <th>Volume</th>\n",
       "      <th>Open</th>\n",
       "      <th>High</th>\n",
       "      <th>Low</th>\n",
       "      <th>Headlines</th>\n",
       "    </tr>\n",
       "  </thead>\n",
       "  <tbody>\n",
       "    <tr>\n",
       "      <th>0</th>\n",
       "      <td>2021-07-02</td>\n",
       "      <td>139.960000</td>\n",
       "      <td>7.894557e+07</td>\n",
       "      <td>137.900000</td>\n",
       "      <td>140.000000</td>\n",
       "      <td>137.745000</td>\n",
       "      <td></td>\n",
       "    </tr>\n",
       "    <tr>\n",
       "      <th>1</th>\n",
       "      <td>2021-07-01</td>\n",
       "      <td>137.270000</td>\n",
       "      <td>5.248578e+07</td>\n",
       "      <td>136.600000</td>\n",
       "      <td>137.330000</td>\n",
       "      <td>135.760000</td>\n",
       "      <td></td>\n",
       "    </tr>\n",
       "    <tr>\n",
       "      <th>2</th>\n",
       "      <td>2021-06-30</td>\n",
       "      <td>136.960000</td>\n",
       "      <td>6.326139e+07</td>\n",
       "      <td>136.170000</td>\n",
       "      <td>137.410000</td>\n",
       "      <td>135.870000</td>\n",
       "      <td></td>\n",
       "    </tr>\n",
       "    <tr>\n",
       "      <th>3</th>\n",
       "      <td>2021-06-29</td>\n",
       "      <td>136.330000</td>\n",
       "      <td>6.455608e+07</td>\n",
       "      <td>134.800000</td>\n",
       "      <td>136.490000</td>\n",
       "      <td>134.350000</td>\n",
       "      <td></td>\n",
       "    </tr>\n",
       "    <tr>\n",
       "      <th>4</th>\n",
       "      <td>2021-06-28</td>\n",
       "      <td>134.780000</td>\n",
       "      <td>6.211130e+07</td>\n",
       "      <td>133.410000</td>\n",
       "      <td>135.245000</td>\n",
       "      <td>133.350000</td>\n",
       "      <td></td>\n",
       "    </tr>\n",
       "    <tr>\n",
       "      <th>...</th>\n",
       "      <td>...</td>\n",
       "      <td>...</td>\n",
       "      <td>...</td>\n",
       "      <td>...</td>\n",
       "      <td>...</td>\n",
       "      <td>...</td>\n",
       "      <td>...</td>\n",
       "    </tr>\n",
       "    <tr>\n",
       "      <th>2390</th>\n",
       "      <td>2021-06-06</td>\n",
       "      <td>62.229443</td>\n",
       "      <td>1.251431e+08</td>\n",
       "      <td>62.189158</td>\n",
       "      <td>62.858732</td>\n",
       "      <td>61.533235</td>\n",
       "      <td>facebookquots trump ban last least 2 year glob...</td>\n",
       "    </tr>\n",
       "    <tr>\n",
       "      <th>2391</th>\n",
       "      <td>2021-06-12</td>\n",
       "      <td>62.229443</td>\n",
       "      <td>1.251431e+08</td>\n",
       "      <td>62.189158</td>\n",
       "      <td>62.858732</td>\n",
       "      <td>61.533235</td>\n",
       "      <td>japan start antitrust probe apple google nikke...</td>\n",
       "    </tr>\n",
       "    <tr>\n",
       "      <th>2392</th>\n",
       "      <td>2021-06-13</td>\n",
       "      <td>62.229443</td>\n",
       "      <td>1.251431e+08</td>\n",
       "      <td>62.189158</td>\n",
       "      <td>62.858732</td>\n",
       "      <td>61.533235</td>\n",
       "      <td>watch next oil crisis sector watch apple store...</td>\n",
       "    </tr>\n",
       "    <tr>\n",
       "      <th>2393</th>\n",
       "      <td>2021-06-19</td>\n",
       "      <td>62.229443</td>\n",
       "      <td>1.251431e+08</td>\n",
       "      <td>62.189158</td>\n",
       "      <td>62.858732</td>\n",
       "      <td>61.533235</td>\n",
       "      <td>best preprime day smartwatch deal apple watch ...</td>\n",
       "    </tr>\n",
       "    <tr>\n",
       "      <th>2394</th>\n",
       "      <td>2021-06-20</td>\n",
       "      <td>62.229443</td>\n",
       "      <td>1.251431e+08</td>\n",
       "      <td>62.189158</td>\n",
       "      <td>62.858732</td>\n",
       "      <td>61.533235</td>\n",
       "      <td>iphone 13 rumor apple fall event get closer se...</td>\n",
       "    </tr>\n",
       "  </tbody>\n",
       "</table>\n",
       "<p>2395 rows × 7 columns</p>\n",
       "</div>"
      ],
      "text/plain": [
       "           Date       Close        Volume        Open        High         Low  \\\n",
       "0    2021-07-02  139.960000  7.894557e+07  137.900000  140.000000  137.745000   \n",
       "1    2021-07-01  137.270000  5.248578e+07  136.600000  137.330000  135.760000   \n",
       "2    2021-06-30  136.960000  6.326139e+07  136.170000  137.410000  135.870000   \n",
       "3    2021-06-29  136.330000  6.455608e+07  134.800000  136.490000  134.350000   \n",
       "4    2021-06-28  134.780000  6.211130e+07  133.410000  135.245000  133.350000   \n",
       "...         ...         ...           ...         ...         ...         ...   \n",
       "2390 2021-06-06   62.229443  1.251431e+08   62.189158   62.858732   61.533235   \n",
       "2391 2021-06-12   62.229443  1.251431e+08   62.189158   62.858732   61.533235   \n",
       "2392 2021-06-13   62.229443  1.251431e+08   62.189158   62.858732   61.533235   \n",
       "2393 2021-06-19   62.229443  1.251431e+08   62.189158   62.858732   61.533235   \n",
       "2394 2021-06-20   62.229443  1.251431e+08   62.189158   62.858732   61.533235   \n",
       "\n",
       "                                              Headlines  \n",
       "0                                                        \n",
       "1                                                        \n",
       "2                                                        \n",
       "3                                                        \n",
       "4                                                        \n",
       "...                                                 ...  \n",
       "2390  facebookquots trump ban last least 2 year glob...  \n",
       "2391  japan start antitrust probe apple google nikke...  \n",
       "2392  watch next oil crisis sector watch apple store...  \n",
       "2393  best preprime day smartwatch deal apple watch ...  \n",
       "2394  iphone 13 rumor apple fall event get closer se...  \n",
       "\n",
       "[2395 rows x 7 columns]"
      ]
     },
     "execution_count": 197,
     "metadata": {},
     "output_type": "execute_result"
    }
   ],
   "source": [
    "df2"
   ]
  },
  {
   "cell_type": "code",
   "execution_count": 198,
   "metadata": {},
   "outputs": [],
   "source": [
    "hist=pd.read_csv(r\"C:\\Users\\rmkis\\Desktop\\Datasets\\hist.csv\",encoding='ISO-8859-1')\n",
    "m1=pd.read_csv(r\"C:\\Users\\rmkis\\Desktop\\Datasets\\m1.csv\",encoding='ISO-8859-1')\n",
    "m2=pd.read_csv(r\"C:\\Users\\rmkis\\Desktop\\Datasets\\m2.csv\",encoding='ISO-8859-1')\n",
    "s1=pd.read_csv(r\"C:\\Users\\rmkis\\Desktop\\Datasets\\s1.csv\",encoding='ISO-8859-1')\n",
    "s2=pd.read_csv(r\"C:\\Users\\rmkis\\Desktop\\Datasets\\s2.csv\",encoding='ISO-8859-1')\n",
    "s3=pd.read_csv(r\"C:\\Users\\rmkis\\Desktop\\Datasets\\s3.csv\",encoding='ISO-8859-1')\n",
    "s4=pd.read_csv(r\"C:\\Users\\rmkis\\Desktop\\Datasets\\s4.csv\",encoding='ISO-8859-1')\n",
    "s5=pd.read_csv(r\"C:\\Users\\rmkis\\Desktop\\Datasets\\s5.csv\",encoding='ISO-8859-1')"
   ]
  },
  {
   "cell_type": "code",
   "execution_count": 199,
   "metadata": {},
   "outputs": [
    {
     "data": {
      "text/plain": [
       "Index(['Outcome', 'Message', 'Identity', 'Delay', 'Headlines Securities CIK',\n",
       "       'Headlines Securities CUSIP', 'Headlines Securities Symbol',\n",
       "       'Headlines Securities ISIN', 'Headlines Securities Valoren',\n",
       "       'Headlines Securities Name', 'Headlines Securities Market',\n",
       "       'Headlines Securities MarketIdentificationCode',\n",
       "       'Headlines Securities MostLiquidExchange',\n",
       "       'Headlines Securities CategoryOrIndustry', 'Headlines Title',\n",
       "       'Headlines Date', 'Headlines Time', 'Headlines UTCOffset',\n",
       "       'Headlines Source', 'Headlines Url', 'Headlines Images',\n",
       "       'Headlines Tags TagType', 'Headlines Tags TagValues',\n",
       "       'Headlines PaywallType', 'Headlines Summary'],\n",
       "      dtype='object')"
      ]
     },
     "execution_count": 199,
     "metadata": {},
     "output_type": "execute_result"
    }
   ],
   "source": [
    "hist.columns"
   ]
  },
  {
   "cell_type": "code",
   "execution_count": 200,
   "metadata": {},
   "outputs": [],
   "source": [
    "hist.rename(columns={'Headlines Securities CIK':'Security CIK','Headlines Securities CUSIP':'Security CUSIP', 'Headlines Securities Symbol':'Security Symbol','Headlines Securities ISIN':'Security ISIN','Headlines Securities Valoren':'Security Valoren','Headlines Securities Name':'Security Name','Headlines Securities Market':'Security Market','Headlines Securities MarketIdentificationCode':'Security MarketIdentificationCode','Headlines Securities MostLiquidExchange':'Security MostLiquidExchange','Headlines Securities CategoryOrIndustry':'Security CategoryOrIndustry'},inplace=True)"
   ]
  },
  {
   "cell_type": "code",
   "execution_count": 201,
   "metadata": {},
   "outputs": [
    {
     "data": {
      "text/plain": [
       "Index(['Outcome', 'Message', 'Identity', 'Delay', 'Headlines Securities CIK',\n",
       "       'Headlines Securities CUSIP', 'Headlines Securities Symbol',\n",
       "       'Headlines Securities ISIN', 'Headlines Securities Valoren',\n",
       "       'Headlines Securities Name', 'Headlines Securities Market',\n",
       "       'Headlines Securities MarketIdentificationCode',\n",
       "       'Headlines Securities MostLiquidExchange',\n",
       "       'Headlines Securities CategoryOrIndustry', 'Headlines Title',\n",
       "       'Headlines Date', 'Headlines Time', 'Headlines UTCOffset',\n",
       "       'Headlines Source', 'Headlines Url', 'Headlines Images',\n",
       "       'Headlines Tags TagType', 'Headlines Tags TagValues',\n",
       "       'Headlines PaywallType', 'Headlines Summary'],\n",
       "      dtype='object')"
      ]
     },
     "execution_count": 201,
     "metadata": {},
     "output_type": "execute_result"
    }
   ],
   "source": [
    "m1.columns"
   ]
  },
  {
   "cell_type": "code",
   "execution_count": 202,
   "metadata": {},
   "outputs": [],
   "source": [
    "m1.rename(columns={'Headlines Securities CIK':'Security CIK','Headlines Securities CUSIP':'Security CUSIP', 'Headlines Securities Symbol':'Security Symbol','Headlines Securities ISIN':'Security ISIN','Headlines Securities Valoren':'Security Valoren','Headlines Securities Name':'Security Name','Headlines Securities Market':'Security Market','Headlines Securities MarketIdentificationCode':'Security MarketIdentificationCode','Headlines Securities MostLiquidExchange':'Security MostLiquidExchange','Headlines Securities CategoryOrIndustry':'Security CategoryOrIndustry'},inplace=True)"
   ]
  },
  {
   "cell_type": "code",
   "execution_count": 203,
   "metadata": {},
   "outputs": [
    {
     "data": {
      "text/plain": [
       "Index(['Outcome', 'Message', 'Identity', 'Delay', 'Headlines Securities CIK',\n",
       "       'Headlines Securities CUSIP', 'Headlines Securities Symbol',\n",
       "       'Headlines Securities ISIN', 'Headlines Securities Valoren',\n",
       "       'Headlines Securities Name', 'Headlines Securities Market',\n",
       "       'Headlines Securities MarketIdentificationCode',\n",
       "       'Headlines Securities MostLiquidExchange',\n",
       "       'Headlines Securities CategoryOrIndustry', 'Headlines Title',\n",
       "       'Headlines Date', 'Headlines Time', 'Headlines UTCOffset',\n",
       "       'Headlines Source', 'Headlines Url', 'Headlines Images',\n",
       "       'Headlines Tags TagType', 'Headlines Tags TagValues',\n",
       "       'Headlines PaywallType', 'Headlines Summary'],\n",
       "      dtype='object')"
      ]
     },
     "execution_count": 203,
     "metadata": {},
     "output_type": "execute_result"
    }
   ],
   "source": [
    "m2.columns"
   ]
  },
  {
   "cell_type": "code",
   "execution_count": 204,
   "metadata": {},
   "outputs": [],
   "source": [
    "m2.rename(columns={'Headlines Securities CIK':'Security CIK','Headlines Securities CUSIP':'Security CUSIP', 'Headlines Securities Symbol':'Security Symbol','Headlines Securities ISIN':'Security ISIN','Headlines Securities Valoren':'Security Valoren','Headlines Securities Name':'Security Name','Headlines Securities Market':'Security Market','Headlines Securities MarketIdentificationCode':'Security MarketIdentificationCode','Headlines Securities MostLiquidExchange':'Security MostLiquidExchange','Headlines Securities CategoryOrIndustry':'Security CategoryOrIndustry'},inplace=True)"
   ]
  },
  {
   "cell_type": "code",
   "execution_count": 205,
   "metadata": {},
   "outputs": [
    {
     "data": {
      "text/plain": [
       "Index(['Outcome', 'Message', 'Identity', 'Delay', 'Security CIK',\n",
       "       'Security CUSIP', 'Security Symbol', 'Security ISIN',\n",
       "       'Security Valoren', 'Security Name', 'Security Market',\n",
       "       'Security MarketIdentificationCode', 'Security MostLiquidExchange',\n",
       "       'Security CategoryOrIndustry', 'Headlines Title', 'Headlines Date',\n",
       "       'Headlines Time', 'Headlines UTCOffset', 'Headlines Source',\n",
       "       'Headlines Url', 'Headlines Images', 'Headlines Tags TagType',\n",
       "       'Headlines Tags TagValues', 'Headlines PaywallType',\n",
       "       'Headlines Summary'],\n",
       "      dtype='object')"
      ]
     },
     "execution_count": 205,
     "metadata": {},
     "output_type": "execute_result"
    }
   ],
   "source": [
    "s1.columns"
   ]
  },
  {
   "cell_type": "code",
   "execution_count": 206,
   "metadata": {},
   "outputs": [],
   "source": [
    "data=pd.concat([hist,m1,m2,s1,s2,s3,s4,s5])"
   ]
  },
  {
   "cell_type": "code",
   "execution_count": 207,
   "metadata": {},
   "outputs": [
    {
     "data": {
      "text/html": [
       "<div>\n",
       "<style scoped>\n",
       "    .dataframe tbody tr th:only-of-type {\n",
       "        vertical-align: middle;\n",
       "    }\n",
       "\n",
       "    .dataframe tbody tr th {\n",
       "        vertical-align: top;\n",
       "    }\n",
       "\n",
       "    .dataframe thead th {\n",
       "        text-align: right;\n",
       "    }\n",
       "</style>\n",
       "<table border=\"1\" class=\"dataframe\">\n",
       "  <thead>\n",
       "    <tr style=\"text-align: right;\">\n",
       "      <th></th>\n",
       "      <th>Outcome</th>\n",
       "      <th>Message</th>\n",
       "      <th>Identity</th>\n",
       "      <th>Delay</th>\n",
       "      <th>Security CIK</th>\n",
       "      <th>Security CUSIP</th>\n",
       "      <th>Security Symbol</th>\n",
       "      <th>Security ISIN</th>\n",
       "      <th>Security Valoren</th>\n",
       "      <th>Security Name</th>\n",
       "      <th>...</th>\n",
       "      <th>Headlines Date</th>\n",
       "      <th>Headlines Time</th>\n",
       "      <th>Headlines UTCOffset</th>\n",
       "      <th>Headlines Source</th>\n",
       "      <th>Headlines Url</th>\n",
       "      <th>Headlines Images</th>\n",
       "      <th>Headlines Tags TagType</th>\n",
       "      <th>Headlines Tags TagValues</th>\n",
       "      <th>Headlines PaywallType</th>\n",
       "      <th>Headlines Summary</th>\n",
       "    </tr>\n",
       "  </thead>\n",
       "  <tbody>\n",
       "    <tr>\n",
       "      <th>0</th>\n",
       "      <td>Success</td>\n",
       "      <td>NaN</td>\n",
       "      <td>Request</td>\n",
       "      <td>0.482025</td>\n",
       "      <td>NaN</td>\n",
       "      <td>NaN</td>\n",
       "      <td>NaN</td>\n",
       "      <td>NaN</td>\n",
       "      <td>NaN</td>\n",
       "      <td>NaN</td>\n",
       "      <td>...</td>\n",
       "      <td>6/9/2021</td>\n",
       "      <td>11:56 PM</td>\n",
       "      <td>0</td>\n",
       "      <td>Globe Newswire</td>\n",
       "      <td>https://www.globenewswire.com/news-release/202...</td>\n",
       "      <td>NaN</td>\n",
       "      <td>Symbols</td>\n",
       "      <td>NaN</td>\n",
       "      <td>None</td>\n",
       "      <td>Sahara Rose\\r\\n\\r\\n The Dharma Coaching Instit...</td>\n",
       "    </tr>\n",
       "    <tr>\n",
       "      <th>1</th>\n",
       "      <td>Success</td>\n",
       "      <td>NaN</td>\n",
       "      <td>Request</td>\n",
       "      <td>0.482025</td>\n",
       "      <td>NaN</td>\n",
       "      <td>NaN</td>\n",
       "      <td>NaN</td>\n",
       "      <td>NaN</td>\n",
       "      <td>NaN</td>\n",
       "      <td>NaN</td>\n",
       "      <td>...</td>\n",
       "      <td>6/9/2021</td>\n",
       "      <td>11:56 PM</td>\n",
       "      <td>0</td>\n",
       "      <td>Globe Newswire</td>\n",
       "      <td>https://www.globenewswire.com/news-release/202...</td>\n",
       "      <td>NaN</td>\n",
       "      <td>Companies</td>\n",
       "      <td>NaN</td>\n",
       "      <td>None</td>\n",
       "      <td>Sahara Rose\\r\\n\\r\\n The Dharma Coaching Instit...</td>\n",
       "    </tr>\n",
       "    <tr>\n",
       "      <th>2</th>\n",
       "      <td>Success</td>\n",
       "      <td>NaN</td>\n",
       "      <td>Request</td>\n",
       "      <td>0.482025</td>\n",
       "      <td>NaN</td>\n",
       "      <td>NaN</td>\n",
       "      <td>NaN</td>\n",
       "      <td>NaN</td>\n",
       "      <td>NaN</td>\n",
       "      <td>NaN</td>\n",
       "      <td>...</td>\n",
       "      <td>6/9/2021</td>\n",
       "      <td>11:56 PM</td>\n",
       "      <td>0</td>\n",
       "      <td>Globe Newswire</td>\n",
       "      <td>https://www.globenewswire.com/news-release/202...</td>\n",
       "      <td>NaN</td>\n",
       "      <td>Sectors</td>\n",
       "      <td>NaN</td>\n",
       "      <td>None</td>\n",
       "      <td>Sahara Rose\\r\\n\\r\\n The Dharma Coaching Instit...</td>\n",
       "    </tr>\n",
       "    <tr>\n",
       "      <th>3</th>\n",
       "      <td>Success</td>\n",
       "      <td>NaN</td>\n",
       "      <td>Request</td>\n",
       "      <td>0.482025</td>\n",
       "      <td>NaN</td>\n",
       "      <td>NaN</td>\n",
       "      <td>NaN</td>\n",
       "      <td>NaN</td>\n",
       "      <td>NaN</td>\n",
       "      <td>NaN</td>\n",
       "      <td>...</td>\n",
       "      <td>6/9/2021</td>\n",
       "      <td>11:56 PM</td>\n",
       "      <td>0</td>\n",
       "      <td>Globe Newswire</td>\n",
       "      <td>https://www.globenewswire.com/news-release/202...</td>\n",
       "      <td>NaN</td>\n",
       "      <td>Topics</td>\n",
       "      <td>NaN</td>\n",
       "      <td>None</td>\n",
       "      <td>Sahara Rose\\r\\n\\r\\n The Dharma Coaching Instit...</td>\n",
       "    </tr>\n",
       "    <tr>\n",
       "      <th>4</th>\n",
       "      <td>Success</td>\n",
       "      <td>NaN</td>\n",
       "      <td>Request</td>\n",
       "      <td>0.482025</td>\n",
       "      <td>1557746.0</td>\n",
       "      <td>NaN</td>\n",
       "      <td>ACRS</td>\n",
       "      <td>NaN</td>\n",
       "      <td>29306378.0</td>\n",
       "      <td>Aclaris Therapeutics Inc</td>\n",
       "      <td>...</td>\n",
       "      <td>6/9/2021</td>\n",
       "      <td>11:55 PM</td>\n",
       "      <td>0</td>\n",
       "      <td>Globe Newswire</td>\n",
       "      <td>https://www.globenewswire.com/news-release/202...</td>\n",
       "      <td>NaN</td>\n",
       "      <td>Topics</td>\n",
       "      <td>NaN</td>\n",
       "      <td>None</td>\n",
       "      <td>WAYNE, Pa., June 09, 2021 (GLOBE NEWSWIRE) -- ...</td>\n",
       "    </tr>\n",
       "    <tr>\n",
       "      <th>...</th>\n",
       "      <td>...</td>\n",
       "      <td>...</td>\n",
       "      <td>...</td>\n",
       "      <td>...</td>\n",
       "      <td>...</td>\n",
       "      <td>...</td>\n",
       "      <td>...</td>\n",
       "      <td>...</td>\n",
       "      <td>...</td>\n",
       "      <td>...</td>\n",
       "      <td>...</td>\n",
       "      <td>...</td>\n",
       "      <td>...</td>\n",
       "      <td>...</td>\n",
       "      <td>...</td>\n",
       "      <td>...</td>\n",
       "      <td>...</td>\n",
       "      <td>...</td>\n",
       "      <td>...</td>\n",
       "      <td>...</td>\n",
       "      <td>...</td>\n",
       "    </tr>\n",
       "    <tr>\n",
       "      <th>12672</th>\n",
       "      <td>Success</td>\n",
       "      <td>Results are limited to 1000 items, so your res...</td>\n",
       "      <td>Request</td>\n",
       "      <td>0.558012</td>\n",
       "      <td>320193.0</td>\n",
       "      <td>NaN</td>\n",
       "      <td>AAPL</td>\n",
       "      <td>NaN</td>\n",
       "      <td>908440.0</td>\n",
       "      <td>Apple Inc</td>\n",
       "      <td>...</td>\n",
       "      <td>5/28/2021</td>\n",
       "      <td>8:35 PM</td>\n",
       "      <td>0</td>\n",
       "      <td>SeekingAlpha.com: All News</td>\n",
       "      <td>https://seekingalpha.com/news/3701385-apple-re...</td>\n",
       "      <td>https://i.insider.com/60ae8e11bee0fc0019d59b5f...</td>\n",
       "      <td>Symbols</td>\n",
       "      <td>AAPL</td>\n",
       "      <td>Soft</td>\n",
       "      <td>NaN</td>\n",
       "    </tr>\n",
       "    <tr>\n",
       "      <th>12673</th>\n",
       "      <td>Success</td>\n",
       "      <td>Results are limited to 1000 items, so your res...</td>\n",
       "      <td>Request</td>\n",
       "      <td>0.558012</td>\n",
       "      <td>320193.0</td>\n",
       "      <td>NaN</td>\n",
       "      <td>AAPL</td>\n",
       "      <td>NaN</td>\n",
       "      <td>908440.0</td>\n",
       "      <td>Apple Inc</td>\n",
       "      <td>...</td>\n",
       "      <td>5/28/2021</td>\n",
       "      <td>8:35 PM</td>\n",
       "      <td>0</td>\n",
       "      <td>SeekingAlpha.com: All News</td>\n",
       "      <td>https://seekingalpha.com/news/3701385-apple-re...</td>\n",
       "      <td>https://i.insider.com/60ae8e11bee0fc0019d59b5f...</td>\n",
       "      <td>Companies</td>\n",
       "      <td>Apple Inc.</td>\n",
       "      <td>Soft</td>\n",
       "      <td>NaN</td>\n",
       "    </tr>\n",
       "    <tr>\n",
       "      <th>12674</th>\n",
       "      <td>Success</td>\n",
       "      <td>Results are limited to 1000 items, so your res...</td>\n",
       "      <td>Request</td>\n",
       "      <td>0.558012</td>\n",
       "      <td>320193.0</td>\n",
       "      <td>NaN</td>\n",
       "      <td>AAPL</td>\n",
       "      <td>NaN</td>\n",
       "      <td>908440.0</td>\n",
       "      <td>Apple Inc</td>\n",
       "      <td>...</td>\n",
       "      <td>5/28/2021</td>\n",
       "      <td>8:35 PM</td>\n",
       "      <td>0</td>\n",
       "      <td>SeekingAlpha.com: All News</td>\n",
       "      <td>https://seekingalpha.com/news/3701385-apple-re...</td>\n",
       "      <td>https://i.insider.com/60ae8e11bee0fc0019d59b5f...</td>\n",
       "      <td>Sectors</td>\n",
       "      <td>Technology</td>\n",
       "      <td>Soft</td>\n",
       "      <td>NaN</td>\n",
       "    </tr>\n",
       "    <tr>\n",
       "      <th>12675</th>\n",
       "      <td>Success</td>\n",
       "      <td>Results are limited to 1000 items, so your res...</td>\n",
       "      <td>Request</td>\n",
       "      <td>0.558012</td>\n",
       "      <td>320193.0</td>\n",
       "      <td>NaN</td>\n",
       "      <td>AAPL</td>\n",
       "      <td>NaN</td>\n",
       "      <td>908440.0</td>\n",
       "      <td>Apple Inc</td>\n",
       "      <td>...</td>\n",
       "      <td>5/28/2021</td>\n",
       "      <td>8:35 PM</td>\n",
       "      <td>0</td>\n",
       "      <td>SeekingAlpha.com: All News</td>\n",
       "      <td>https://seekingalpha.com/news/3701385-apple-re...</td>\n",
       "      <td>https://i.insider.com/60ae8e11bee0fc0019d59b5f...</td>\n",
       "      <td>Topics</td>\n",
       "      <td>Business_Finance</td>\n",
       "      <td>Soft</td>\n",
       "      <td>NaN</td>\n",
       "    </tr>\n",
       "    <tr>\n",
       "      <th>12676</th>\n",
       "      <td>Success</td>\n",
       "      <td>Results are limited to 1000 items, so your res...</td>\n",
       "      <td>Request</td>\n",
       "      <td>0.558012</td>\n",
       "      <td>320193.0</td>\n",
       "      <td>NaN</td>\n",
       "      <td>AAPL</td>\n",
       "      <td>NaN</td>\n",
       "      <td>908440.0</td>\n",
       "      <td>Apple Inc</td>\n",
       "      <td>...</td>\n",
       "      <td>5/28/2021</td>\n",
       "      <td>8:35 PM</td>\n",
       "      <td>0</td>\n",
       "      <td>SeekingAlpha.com: All News</td>\n",
       "      <td>https://seekingalpha.com/news/3701385-apple-re...</td>\n",
       "      <td>https://i.insider.com/60ae8e11bee0fc0019d59b5f...</td>\n",
       "      <td>Topics</td>\n",
       "      <td>Technology_Internet</td>\n",
       "      <td>Soft</td>\n",
       "      <td>NaN</td>\n",
       "    </tr>\n",
       "  </tbody>\n",
       "</table>\n",
       "<p>59907 rows × 25 columns</p>\n",
       "</div>"
      ],
      "text/plain": [
       "       Outcome                                            Message Identity  \\\n",
       "0      Success                                                NaN  Request   \n",
       "1      Success                                                NaN  Request   \n",
       "2      Success                                                NaN  Request   \n",
       "3      Success                                                NaN  Request   \n",
       "4      Success                                                NaN  Request   \n",
       "...        ...                                                ...      ...   \n",
       "12672  Success  Results are limited to 1000 items, so your res...  Request   \n",
       "12673  Success  Results are limited to 1000 items, so your res...  Request   \n",
       "12674  Success  Results are limited to 1000 items, so your res...  Request   \n",
       "12675  Success  Results are limited to 1000 items, so your res...  Request   \n",
       "12676  Success  Results are limited to 1000 items, so your res...  Request   \n",
       "\n",
       "          Delay  Security CIK  Security CUSIP Security Symbol  Security ISIN  \\\n",
       "0      0.482025           NaN             NaN             NaN            NaN   \n",
       "1      0.482025           NaN             NaN             NaN            NaN   \n",
       "2      0.482025           NaN             NaN             NaN            NaN   \n",
       "3      0.482025           NaN             NaN             NaN            NaN   \n",
       "4      0.482025     1557746.0             NaN            ACRS            NaN   \n",
       "...         ...           ...             ...             ...            ...   \n",
       "12672  0.558012      320193.0             NaN            AAPL            NaN   \n",
       "12673  0.558012      320193.0             NaN            AAPL            NaN   \n",
       "12674  0.558012      320193.0             NaN            AAPL            NaN   \n",
       "12675  0.558012      320193.0             NaN            AAPL            NaN   \n",
       "12676  0.558012      320193.0             NaN            AAPL            NaN   \n",
       "\n",
       "       Security Valoren             Security Name  ... Headlines Date  \\\n",
       "0                   NaN                       NaN  ...       6/9/2021   \n",
       "1                   NaN                       NaN  ...       6/9/2021   \n",
       "2                   NaN                       NaN  ...       6/9/2021   \n",
       "3                   NaN                       NaN  ...       6/9/2021   \n",
       "4            29306378.0  Aclaris Therapeutics Inc  ...       6/9/2021   \n",
       "...                 ...                       ...  ...            ...   \n",
       "12672          908440.0                 Apple Inc  ...      5/28/2021   \n",
       "12673          908440.0                 Apple Inc  ...      5/28/2021   \n",
       "12674          908440.0                 Apple Inc  ...      5/28/2021   \n",
       "12675          908440.0                 Apple Inc  ...      5/28/2021   \n",
       "12676          908440.0                 Apple Inc  ...      5/28/2021   \n",
       "\n",
       "      Headlines Time Headlines UTCOffset            Headlines Source  \\\n",
       "0           11:56 PM                   0              Globe Newswire   \n",
       "1           11:56 PM                   0              Globe Newswire   \n",
       "2           11:56 PM                   0              Globe Newswire   \n",
       "3           11:56 PM                   0              Globe Newswire   \n",
       "4           11:55 PM                   0              Globe Newswire   \n",
       "...              ...                 ...                         ...   \n",
       "12672        8:35 PM                   0  SeekingAlpha.com: All News   \n",
       "12673        8:35 PM                   0  SeekingAlpha.com: All News   \n",
       "12674        8:35 PM                   0  SeekingAlpha.com: All News   \n",
       "12675        8:35 PM                   0  SeekingAlpha.com: All News   \n",
       "12676        8:35 PM                   0  SeekingAlpha.com: All News   \n",
       "\n",
       "                                           Headlines Url  \\\n",
       "0      https://www.globenewswire.com/news-release/202...   \n",
       "1      https://www.globenewswire.com/news-release/202...   \n",
       "2      https://www.globenewswire.com/news-release/202...   \n",
       "3      https://www.globenewswire.com/news-release/202...   \n",
       "4      https://www.globenewswire.com/news-release/202...   \n",
       "...                                                  ...   \n",
       "12672  https://seekingalpha.com/news/3701385-apple-re...   \n",
       "12673  https://seekingalpha.com/news/3701385-apple-re...   \n",
       "12674  https://seekingalpha.com/news/3701385-apple-re...   \n",
       "12675  https://seekingalpha.com/news/3701385-apple-re...   \n",
       "12676  https://seekingalpha.com/news/3701385-apple-re...   \n",
       "\n",
       "                                        Headlines Images  \\\n",
       "0                                                    NaN   \n",
       "1                                                    NaN   \n",
       "2                                                    NaN   \n",
       "3                                                    NaN   \n",
       "4                                                    NaN   \n",
       "...                                                  ...   \n",
       "12672  https://i.insider.com/60ae8e11bee0fc0019d59b5f...   \n",
       "12673  https://i.insider.com/60ae8e11bee0fc0019d59b5f...   \n",
       "12674  https://i.insider.com/60ae8e11bee0fc0019d59b5f...   \n",
       "12675  https://i.insider.com/60ae8e11bee0fc0019d59b5f...   \n",
       "12676  https://i.insider.com/60ae8e11bee0fc0019d59b5f...   \n",
       "\n",
       "      Headlines Tags TagType  Headlines Tags TagValues Headlines PaywallType  \\\n",
       "0                    Symbols                       NaN                  None   \n",
       "1                  Companies                       NaN                  None   \n",
       "2                    Sectors                       NaN                  None   \n",
       "3                     Topics                       NaN                  None   \n",
       "4                     Topics                       NaN                  None   \n",
       "...                      ...                       ...                   ...   \n",
       "12672                Symbols                      AAPL                  Soft   \n",
       "12673              Companies                Apple Inc.                  Soft   \n",
       "12674                Sectors                Technology                  Soft   \n",
       "12675                 Topics          Business_Finance                  Soft   \n",
       "12676                 Topics       Technology_Internet                  Soft   \n",
       "\n",
       "                                       Headlines Summary  \n",
       "0      Sahara Rose\\r\\n\\r\\n The Dharma Coaching Instit...  \n",
       "1      Sahara Rose\\r\\n\\r\\n The Dharma Coaching Instit...  \n",
       "2      Sahara Rose\\r\\n\\r\\n The Dharma Coaching Instit...  \n",
       "3      Sahara Rose\\r\\n\\r\\n The Dharma Coaching Instit...  \n",
       "4      WAYNE, Pa., June 09, 2021 (GLOBE NEWSWIRE) -- ...  \n",
       "...                                                  ...  \n",
       "12672                                                NaN  \n",
       "12673                                                NaN  \n",
       "12674                                                NaN  \n",
       "12675                                                NaN  \n",
       "12676                                                NaN  \n",
       "\n",
       "[59907 rows x 25 columns]"
      ]
     },
     "execution_count": 207,
     "metadata": {},
     "output_type": "execute_result"
    }
   ],
   "source": [
    "data"
   ]
  },
  {
   "cell_type": "code",
   "execution_count": 208,
   "metadata": {},
   "outputs": [],
   "source": [
    "cols=['Outcome','Identity','Delay','Security CIK','Security Valoren','Headlines UTCOffset','Headlines Url','Headlines Images','Headlines PaywallType','Headlines Source','Security MostLiquidExchange','Message','Security CUSIP','Security ISIN','Headlines Time','Security MarketIdentificationCode','Headlines Tags TagType']"
   ]
  },
  {
   "cell_type": "code",
   "execution_count": 209,
   "metadata": {},
   "outputs": [],
   "source": [
    "data=data.drop(cols,axis=1)"
   ]
  },
  {
   "cell_type": "code",
   "execution_count": 210,
   "metadata": {},
   "outputs": [
    {
     "data": {
      "text/html": [
       "<div>\n",
       "<style scoped>\n",
       "    .dataframe tbody tr th:only-of-type {\n",
       "        vertical-align: middle;\n",
       "    }\n",
       "\n",
       "    .dataframe tbody tr th {\n",
       "        vertical-align: top;\n",
       "    }\n",
       "\n",
       "    .dataframe thead th {\n",
       "        text-align: right;\n",
       "    }\n",
       "</style>\n",
       "<table border=\"1\" class=\"dataframe\">\n",
       "  <thead>\n",
       "    <tr style=\"text-align: right;\">\n",
       "      <th></th>\n",
       "      <th>Security Symbol</th>\n",
       "      <th>Security Name</th>\n",
       "      <th>Security Market</th>\n",
       "      <th>Security CategoryOrIndustry</th>\n",
       "      <th>Headlines Title</th>\n",
       "      <th>Headlines Date</th>\n",
       "      <th>Headlines Tags TagValues</th>\n",
       "      <th>Headlines Summary</th>\n",
       "    </tr>\n",
       "  </thead>\n",
       "  <tbody>\n",
       "    <tr>\n",
       "      <th>0</th>\n",
       "      <td>NaN</td>\n",
       "      <td>NaN</td>\n",
       "      <td>NaN</td>\n",
       "      <td>NaN</td>\n",
       "      <td>Introducing The Dharma Coaching Institute - Th...</td>\n",
       "      <td>6/9/2021</td>\n",
       "      <td>NaN</td>\n",
       "      <td>Sahara Rose\\r\\n\\r\\n The Dharma Coaching Instit...</td>\n",
       "    </tr>\n",
       "    <tr>\n",
       "      <th>1</th>\n",
       "      <td>NaN</td>\n",
       "      <td>NaN</td>\n",
       "      <td>NaN</td>\n",
       "      <td>NaN</td>\n",
       "      <td>Introducing The Dharma Coaching Institute - Th...</td>\n",
       "      <td>6/9/2021</td>\n",
       "      <td>NaN</td>\n",
       "      <td>Sahara Rose\\r\\n\\r\\n The Dharma Coaching Instit...</td>\n",
       "    </tr>\n",
       "    <tr>\n",
       "      <th>2</th>\n",
       "      <td>NaN</td>\n",
       "      <td>NaN</td>\n",
       "      <td>NaN</td>\n",
       "      <td>NaN</td>\n",
       "      <td>Introducing The Dharma Coaching Institute - Th...</td>\n",
       "      <td>6/9/2021</td>\n",
       "      <td>NaN</td>\n",
       "      <td>Sahara Rose\\r\\n\\r\\n The Dharma Coaching Instit...</td>\n",
       "    </tr>\n",
       "    <tr>\n",
       "      <th>3</th>\n",
       "      <td>NaN</td>\n",
       "      <td>NaN</td>\n",
       "      <td>NaN</td>\n",
       "      <td>NaN</td>\n",
       "      <td>Introducing The Dharma Coaching Institute - Th...</td>\n",
       "      <td>6/9/2021</td>\n",
       "      <td>NaN</td>\n",
       "      <td>Sahara Rose\\r\\n\\r\\n The Dharma Coaching Instit...</td>\n",
       "    </tr>\n",
       "    <tr>\n",
       "      <th>4</th>\n",
       "      <td>ACRS</td>\n",
       "      <td>Aclaris Therapeutics Inc</td>\n",
       "      <td>NASDAQ</td>\n",
       "      <td>PharmaceuticalsOther</td>\n",
       "      <td>Aclaris Announces Pricing of Public Offering o...</td>\n",
       "      <td>6/9/2021</td>\n",
       "      <td>NaN</td>\n",
       "      <td>WAYNE, Pa., June 09, 2021 (GLOBE NEWSWIRE) -- ...</td>\n",
       "    </tr>\n",
       "    <tr>\n",
       "      <th>...</th>\n",
       "      <td>...</td>\n",
       "      <td>...</td>\n",
       "      <td>...</td>\n",
       "      <td>...</td>\n",
       "      <td>...</td>\n",
       "      <td>...</td>\n",
       "      <td>...</td>\n",
       "      <td>...</td>\n",
       "    </tr>\n",
       "    <tr>\n",
       "      <th>12672</th>\n",
       "      <td>AAPL</td>\n",
       "      <td>Apple Inc</td>\n",
       "      <td>NASDAQ</td>\n",
       "      <td>TelecommunicationsEquipment</td>\n",
       "      <td>Apple reportedly made bid for rap-battle platf...</td>\n",
       "      <td>5/28/2021</td>\n",
       "      <td>AAPL</td>\n",
       "      <td>NaN</td>\n",
       "    </tr>\n",
       "    <tr>\n",
       "      <th>12673</th>\n",
       "      <td>AAPL</td>\n",
       "      <td>Apple Inc</td>\n",
       "      <td>NASDAQ</td>\n",
       "      <td>TelecommunicationsEquipment</td>\n",
       "      <td>Apple reportedly made bid for rap-battle platf...</td>\n",
       "      <td>5/28/2021</td>\n",
       "      <td>Apple Inc.</td>\n",
       "      <td>NaN</td>\n",
       "    </tr>\n",
       "    <tr>\n",
       "      <th>12674</th>\n",
       "      <td>AAPL</td>\n",
       "      <td>Apple Inc</td>\n",
       "      <td>NASDAQ</td>\n",
       "      <td>TelecommunicationsEquipment</td>\n",
       "      <td>Apple reportedly made bid for rap-battle platf...</td>\n",
       "      <td>5/28/2021</td>\n",
       "      <td>Technology</td>\n",
       "      <td>NaN</td>\n",
       "    </tr>\n",
       "    <tr>\n",
       "      <th>12675</th>\n",
       "      <td>AAPL</td>\n",
       "      <td>Apple Inc</td>\n",
       "      <td>NASDAQ</td>\n",
       "      <td>TelecommunicationsEquipment</td>\n",
       "      <td>Apple reportedly made bid for rap-battle platf...</td>\n",
       "      <td>5/28/2021</td>\n",
       "      <td>Business_Finance</td>\n",
       "      <td>NaN</td>\n",
       "    </tr>\n",
       "    <tr>\n",
       "      <th>12676</th>\n",
       "      <td>AAPL</td>\n",
       "      <td>Apple Inc</td>\n",
       "      <td>NASDAQ</td>\n",
       "      <td>TelecommunicationsEquipment</td>\n",
       "      <td>Apple reportedly made bid for rap-battle platf...</td>\n",
       "      <td>5/28/2021</td>\n",
       "      <td>Technology_Internet</td>\n",
       "      <td>NaN</td>\n",
       "    </tr>\n",
       "  </tbody>\n",
       "</table>\n",
       "<p>59907 rows × 8 columns</p>\n",
       "</div>"
      ],
      "text/plain": [
       "      Security Symbol             Security Name Security Market  \\\n",
       "0                 NaN                       NaN             NaN   \n",
       "1                 NaN                       NaN             NaN   \n",
       "2                 NaN                       NaN             NaN   \n",
       "3                 NaN                       NaN             NaN   \n",
       "4                ACRS  Aclaris Therapeutics Inc          NASDAQ   \n",
       "...               ...                       ...             ...   \n",
       "12672            AAPL                 Apple Inc          NASDAQ   \n",
       "12673            AAPL                 Apple Inc          NASDAQ   \n",
       "12674            AAPL                 Apple Inc          NASDAQ   \n",
       "12675            AAPL                 Apple Inc          NASDAQ   \n",
       "12676            AAPL                 Apple Inc          NASDAQ   \n",
       "\n",
       "       Security CategoryOrIndustry  \\\n",
       "0                              NaN   \n",
       "1                              NaN   \n",
       "2                              NaN   \n",
       "3                              NaN   \n",
       "4             PharmaceuticalsOther   \n",
       "...                            ...   \n",
       "12672  TelecommunicationsEquipment   \n",
       "12673  TelecommunicationsEquipment   \n",
       "12674  TelecommunicationsEquipment   \n",
       "12675  TelecommunicationsEquipment   \n",
       "12676  TelecommunicationsEquipment   \n",
       "\n",
       "                                         Headlines Title Headlines Date  \\\n",
       "0      Introducing The Dharma Coaching Institute - Th...       6/9/2021   \n",
       "1      Introducing The Dharma Coaching Institute - Th...       6/9/2021   \n",
       "2      Introducing The Dharma Coaching Institute - Th...       6/9/2021   \n",
       "3      Introducing The Dharma Coaching Institute - Th...       6/9/2021   \n",
       "4      Aclaris Announces Pricing of Public Offering o...       6/9/2021   \n",
       "...                                                  ...            ...   \n",
       "12672  Apple reportedly made bid for rap-battle platf...      5/28/2021   \n",
       "12673  Apple reportedly made bid for rap-battle platf...      5/28/2021   \n",
       "12674  Apple reportedly made bid for rap-battle platf...      5/28/2021   \n",
       "12675  Apple reportedly made bid for rap-battle platf...      5/28/2021   \n",
       "12676  Apple reportedly made bid for rap-battle platf...      5/28/2021   \n",
       "\n",
       "      Headlines Tags TagValues  \\\n",
       "0                          NaN   \n",
       "1                          NaN   \n",
       "2                          NaN   \n",
       "3                          NaN   \n",
       "4                          NaN   \n",
       "...                        ...   \n",
       "12672                     AAPL   \n",
       "12673               Apple Inc.   \n",
       "12674               Technology   \n",
       "12675         Business_Finance   \n",
       "12676      Technology_Internet   \n",
       "\n",
       "                                       Headlines Summary  \n",
       "0      Sahara Rose\\r\\n\\r\\n The Dharma Coaching Instit...  \n",
       "1      Sahara Rose\\r\\n\\r\\n The Dharma Coaching Instit...  \n",
       "2      Sahara Rose\\r\\n\\r\\n The Dharma Coaching Instit...  \n",
       "3      Sahara Rose\\r\\n\\r\\n The Dharma Coaching Instit...  \n",
       "4      WAYNE, Pa., June 09, 2021 (GLOBE NEWSWIRE) -- ...  \n",
       "...                                                  ...  \n",
       "12672                                                NaN  \n",
       "12673                                                NaN  \n",
       "12674                                                NaN  \n",
       "12675                                                NaN  \n",
       "12676                                                NaN  \n",
       "\n",
       "[59907 rows x 8 columns]"
      ]
     },
     "execution_count": 210,
     "metadata": {},
     "output_type": "execute_result"
    }
   ],
   "source": [
    "data"
   ]
  },
  {
   "cell_type": "code",
   "execution_count": 211,
   "metadata": {},
   "outputs": [],
   "source": [
    "data.reset_index(drop=True,inplace=True)"
   ]
  },
  {
   "cell_type": "code",
   "execution_count": 212,
   "metadata": {},
   "outputs": [
    {
     "data": {
      "text/plain": [
       "12113"
      ]
     },
     "execution_count": 212,
     "metadata": {},
     "output_type": "execute_result"
    }
   ],
   "source": [
    "data.duplicated().sum()"
   ]
  },
  {
   "cell_type": "code",
   "execution_count": 213,
   "metadata": {},
   "outputs": [],
   "source": [
    "data.drop_duplicates(inplace=True,ignore_index=True)"
   ]
  },
  {
   "cell_type": "code",
   "execution_count": 214,
   "metadata": {},
   "outputs": [
    {
     "data": {
      "text/plain": [
       "(47794, 8)"
      ]
     },
     "execution_count": 214,
     "metadata": {},
     "output_type": "execute_result"
    }
   ],
   "source": [
    "data.shape"
   ]
  },
  {
   "cell_type": "code",
   "execution_count": 215,
   "metadata": {},
   "outputs": [
    {
     "data": {
      "text/plain": [
       "Security Symbol                object\n",
       "Security Name                  object\n",
       "Security Market                object\n",
       "Security CategoryOrIndustry    object\n",
       "Headlines Title                object\n",
       "Headlines Date                 object\n",
       "Headlines Tags TagValues       object\n",
       "Headlines Summary              object\n",
       "dtype: object"
      ]
     },
     "execution_count": 215,
     "metadata": {},
     "output_type": "execute_result"
    }
   ],
   "source": [
    "data.dtypes"
   ]
  },
  {
   "cell_type": "code",
   "execution_count": 216,
   "metadata": {},
   "outputs": [],
   "source": [
    "data['Headlines Date']=pd.to_datetime(data['Headlines Date'],format='%m/%d/%Y')"
   ]
  },
  {
   "cell_type": "code",
   "execution_count": 217,
   "metadata": {},
   "outputs": [
    {
     "name": "stderr",
     "output_type": "stream",
     "text": [
      "C:\\Users\\rmkis\\anaconda3\\lib\\site-packages\\seaborn\\distributions.py:2551: FutureWarning: `distplot` is a deprecated function and will be removed in a future version. Please adapt your code to use either `displot` (a figure-level function with similar flexibility) or `histplot` (an axes-level function for histograms).\n",
      "  warnings.warn(msg, FutureWarning)\n"
     ]
    },
    {
     "data": {
      "text/plain": [
       "<AxesSubplot:xlabel='Headlines Date', ylabel='Density'>"
      ]
     },
     "execution_count": 217,
     "metadata": {},
     "output_type": "execute_result"
    },
    {
     "data": {
      "image/png": "[encoded data removed]",
      "text/plain": [
       "<Figure size 432x288 with 1 Axes>"
      ]
     },
     "metadata": {
      "needs_background": "light"
     },
     "output_type": "display_data"
    }
   ],
   "source": [
    "day=data['Headlines Date'].dt.day\n",
    "sns.distplot(day,bins=31)"
   ]
  },
  {
   "cell_type": "code",
   "execution_count": 218,
   "metadata": {},
   "outputs": [
    {
     "name": "stderr",
     "output_type": "stream",
     "text": [
      "C:\\Users\\rmkis\\anaconda3\\lib\\site-packages\\seaborn\\distributions.py:2551: FutureWarning: `distplot` is a deprecated function and will be removed in a future version. Please adapt your code to use either `displot` (a figure-level function with similar flexibility) or `histplot` (an axes-level function for histograms).\n",
      "  warnings.warn(msg, FutureWarning)\n"
     ]
    },
    {
     "data": {
      "text/plain": [
       "<AxesSubplot:xlabel='Headlines Date'>"
      ]
     },
     "execution_count": 218,
     "metadata": {},
     "output_type": "execute_result"
    },
    {
     "data": {
      "image/png": "[encoded data removed]",
      "text/plain": [
       "<Figure size 432x288 with 1 Axes>"
      ]
     },
     "metadata": {
      "needs_background": "light"
     },
     "output_type": "display_data"
    }
   ],
   "source": [
    "month=data['Headlines Date'].dt.month\n",
    "sns.distplot(month,bins=12,kde=False)"
   ]
  },
  {
   "cell_type": "code",
   "execution_count": 219,
   "metadata": {},
   "outputs": [],
   "source": [
    "data=data[data['Security Symbol']=='AAPL']"
   ]
  },
  {
   "cell_type": "code",
   "execution_count": 220,
   "metadata": {},
   "outputs": [
    {
     "data": {
      "text/html": [
       "<div>\n",
       "<style scoped>\n",
       "    .dataframe tbody tr th:only-of-type {\n",
       "        vertical-align: middle;\n",
       "    }\n",
       "\n",
       "    .dataframe tbody tr th {\n",
       "        vertical-align: top;\n",
       "    }\n",
       "\n",
       "    .dataframe thead th {\n",
       "        text-align: right;\n",
       "    }\n",
       "</style>\n",
       "<table border=\"1\" class=\"dataframe\">\n",
       "  <thead>\n",
       "    <tr style=\"text-align: right;\">\n",
       "      <th></th>\n",
       "      <th>Security Symbol</th>\n",
       "      <th>Security Name</th>\n",
       "      <th>Security Market</th>\n",
       "      <th>Security CategoryOrIndustry</th>\n",
       "      <th>Headlines Title</th>\n",
       "      <th>Headlines Date</th>\n",
       "      <th>Headlines Tags TagValues</th>\n",
       "      <th>Headlines Summary</th>\n",
       "    </tr>\n",
       "  </thead>\n",
       "  <tbody>\n",
       "    <tr>\n",
       "      <th>1695</th>\n",
       "      <td>AAPL</td>\n",
       "      <td>Apple Inc</td>\n",
       "      <td>NASDAQ</td>\n",
       "      <td>TelecommunicationsEquipment</td>\n",
       "      <td>athenahealth is set to support the iOS 15 Feat...</td>\n",
       "      <td>2021-06-09</td>\n",
       "      <td>Consumer_Services</td>\n",
       "      <td>It's being announced this afternoon that athen...</td>\n",
       "    </tr>\n",
       "    <tr>\n",
       "      <th>1696</th>\n",
       "      <td>AAPL</td>\n",
       "      <td>Apple Inc</td>\n",
       "      <td>NASDAQ</td>\n",
       "      <td>TelecommunicationsEquipment</td>\n",
       "      <td>athenahealth is set to support the iOS 15 Feat...</td>\n",
       "      <td>2021-06-09</td>\n",
       "      <td>EVDY</td>\n",
       "      <td>It's being announced this afternoon that athen...</td>\n",
       "    </tr>\n",
       "    <tr>\n",
       "      <th>1697</th>\n",
       "      <td>AAPL</td>\n",
       "      <td>Apple Inc</td>\n",
       "      <td>NASDAQ</td>\n",
       "      <td>TelecommunicationsEquipment</td>\n",
       "      <td>athenahealth is set to support the iOS 15 Feat...</td>\n",
       "      <td>2021-06-09</td>\n",
       "      <td>AAPL</td>\n",
       "      <td>It's being announced this afternoon that athen...</td>\n",
       "    </tr>\n",
       "    <tr>\n",
       "      <th>1698</th>\n",
       "      <td>AAPL</td>\n",
       "      <td>Apple Inc</td>\n",
       "      <td>NASDAQ</td>\n",
       "      <td>TelecommunicationsEquipment</td>\n",
       "      <td>athenahealth is set to support the iOS 15 Feat...</td>\n",
       "      <td>2021-06-09</td>\n",
       "      <td>Everyday Health</td>\n",
       "      <td>It's being announced this afternoon that athen...</td>\n",
       "    </tr>\n",
       "    <tr>\n",
       "      <th>1699</th>\n",
       "      <td>AAPL</td>\n",
       "      <td>Apple Inc</td>\n",
       "      <td>NASDAQ</td>\n",
       "      <td>TelecommunicationsEquipment</td>\n",
       "      <td>athenahealth is set to support the iOS 15 Feat...</td>\n",
       "      <td>2021-06-09</td>\n",
       "      <td>Technology</td>\n",
       "      <td>It's being announced this afternoon that athen...</td>\n",
       "    </tr>\n",
       "    <tr>\n",
       "      <th>...</th>\n",
       "      <td>...</td>\n",
       "      <td>...</td>\n",
       "      <td>...</td>\n",
       "      <td>...</td>\n",
       "      <td>...</td>\n",
       "      <td>...</td>\n",
       "      <td>...</td>\n",
       "      <td>...</td>\n",
       "    </tr>\n",
       "    <tr>\n",
       "      <th>47789</th>\n",
       "      <td>AAPL</td>\n",
       "      <td>Apple Inc</td>\n",
       "      <td>NASDAQ</td>\n",
       "      <td>TelecommunicationsEquipment</td>\n",
       "      <td>Apple reportedly made bid for rap-battle platf...</td>\n",
       "      <td>2021-05-28</td>\n",
       "      <td>AAPL</td>\n",
       "      <td>NaN</td>\n",
       "    </tr>\n",
       "    <tr>\n",
       "      <th>47790</th>\n",
       "      <td>AAPL</td>\n",
       "      <td>Apple Inc</td>\n",
       "      <td>NASDAQ</td>\n",
       "      <td>TelecommunicationsEquipment</td>\n",
       "      <td>Apple reportedly made bid for rap-battle platf...</td>\n",
       "      <td>2021-05-28</td>\n",
       "      <td>Apple Inc.</td>\n",
       "      <td>NaN</td>\n",
       "    </tr>\n",
       "    <tr>\n",
       "      <th>47791</th>\n",
       "      <td>AAPL</td>\n",
       "      <td>Apple Inc</td>\n",
       "      <td>NASDAQ</td>\n",
       "      <td>TelecommunicationsEquipment</td>\n",
       "      <td>Apple reportedly made bid for rap-battle platf...</td>\n",
       "      <td>2021-05-28</td>\n",
       "      <td>Technology</td>\n",
       "      <td>NaN</td>\n",
       "    </tr>\n",
       "    <tr>\n",
       "      <th>47792</th>\n",
       "      <td>AAPL</td>\n",
       "      <td>Apple Inc</td>\n",
       "      <td>NASDAQ</td>\n",
       "      <td>TelecommunicationsEquipment</td>\n",
       "      <td>Apple reportedly made bid for rap-battle platf...</td>\n",
       "      <td>2021-05-28</td>\n",
       "      <td>Business_Finance</td>\n",
       "      <td>NaN</td>\n",
       "    </tr>\n",
       "    <tr>\n",
       "      <th>47793</th>\n",
       "      <td>AAPL</td>\n",
       "      <td>Apple Inc</td>\n",
       "      <td>NASDAQ</td>\n",
       "      <td>TelecommunicationsEquipment</td>\n",
       "      <td>Apple reportedly made bid for rap-battle platf...</td>\n",
       "      <td>2021-05-28</td>\n",
       "      <td>Technology_Internet</td>\n",
       "      <td>NaN</td>\n",
       "    </tr>\n",
       "  </tbody>\n",
       "</table>\n",
       "<p>11211 rows × 8 columns</p>\n",
       "</div>"
      ],
      "text/plain": [
       "      Security Symbol Security Name Security Market  \\\n",
       "1695             AAPL     Apple Inc          NASDAQ   \n",
       "1696             AAPL     Apple Inc          NASDAQ   \n",
       "1697             AAPL     Apple Inc          NASDAQ   \n",
       "1698             AAPL     Apple Inc          NASDAQ   \n",
       "1699             AAPL     Apple Inc          NASDAQ   \n",
       "...               ...           ...             ...   \n",
       "47789            AAPL     Apple Inc          NASDAQ   \n",
       "47790            AAPL     Apple Inc          NASDAQ   \n",
       "47791            AAPL     Apple Inc          NASDAQ   \n",
       "47792            AAPL     Apple Inc          NASDAQ   \n",
       "47793            AAPL     Apple Inc          NASDAQ   \n",
       "\n",
       "       Security CategoryOrIndustry  \\\n",
       "1695   TelecommunicationsEquipment   \n",
       "1696   TelecommunicationsEquipment   \n",
       "1697   TelecommunicationsEquipment   \n",
       "1698   TelecommunicationsEquipment   \n",
       "1699   TelecommunicationsEquipment   \n",
       "...                            ...   \n",
       "47789  TelecommunicationsEquipment   \n",
       "47790  TelecommunicationsEquipment   \n",
       "47791  TelecommunicationsEquipment   \n",
       "47792  TelecommunicationsEquipment   \n",
       "47793  TelecommunicationsEquipment   \n",
       "\n",
       "                                         Headlines Title Headlines Date  \\\n",
       "1695   athenahealth is set to support the iOS 15 Feat...     2021-06-09   \n",
       "1696   athenahealth is set to support the iOS 15 Feat...     2021-06-09   \n",
       "1697   athenahealth is set to support the iOS 15 Feat...     2021-06-09   \n",
       "1698   athenahealth is set to support the iOS 15 Feat...     2021-06-09   \n",
       "1699   athenahealth is set to support the iOS 15 Feat...     2021-06-09   \n",
       "...                                                  ...            ...   \n",
       "47789  Apple reportedly made bid for rap-battle platf...     2021-05-28   \n",
       "47790  Apple reportedly made bid for rap-battle platf...     2021-05-28   \n",
       "47791  Apple reportedly made bid for rap-battle platf...     2021-05-28   \n",
       "47792  Apple reportedly made bid for rap-battle platf...     2021-05-28   \n",
       "47793  Apple reportedly made bid for rap-battle platf...     2021-05-28   \n",
       "\n",
       "      Headlines Tags TagValues  \\\n",
       "1695         Consumer_Services   \n",
       "1696                      EVDY   \n",
       "1697                      AAPL   \n",
       "1698           Everyday Health   \n",
       "1699                Technology   \n",
       "...                        ...   \n",
       "47789                     AAPL   \n",
       "47790               Apple Inc.   \n",
       "47791               Technology   \n",
       "47792         Business_Finance   \n",
       "47793      Technology_Internet   \n",
       "\n",
       "                                       Headlines Summary  \n",
       "1695   It's being announced this afternoon that athen...  \n",
       "1696   It's being announced this afternoon that athen...  \n",
       "1697   It's being announced this afternoon that athen...  \n",
       "1698   It's being announced this afternoon that athen...  \n",
       "1699   It's being announced this afternoon that athen...  \n",
       "...                                                  ...  \n",
       "47789                                                NaN  \n",
       "47790                                                NaN  \n",
       "47791                                                NaN  \n",
       "47792                                                NaN  \n",
       "47793                                                NaN  \n",
       "\n",
       "[11211 rows x 8 columns]"
      ]
     },
     "execution_count": 220,
     "metadata": {},
     "output_type": "execute_result"
    }
   ],
   "source": [
    "data"
   ]
  },
  {
   "cell_type": "code",
   "execution_count": 221,
   "metadata": {},
   "outputs": [],
   "source": [
    "data.reset_index(inplace=True)"
   ]
  },
  {
   "cell_type": "code",
   "execution_count": 222,
   "metadata": {
    "scrolled": true
   },
   "outputs": [
    {
     "data": {
      "text/html": [
       "<div>\n",
       "<style scoped>\n",
       "    .dataframe tbody tr th:only-of-type {\n",
       "        vertical-align: middle;\n",
       "    }\n",
       "\n",
       "    .dataframe tbody tr th {\n",
       "        vertical-align: top;\n",
       "    }\n",
       "\n",
       "    .dataframe thead th {\n",
       "        text-align: right;\n",
       "    }\n",
       "</style>\n",
       "<table border=\"1\" class=\"dataframe\">\n",
       "  <thead>\n",
       "    <tr style=\"text-align: right;\">\n",
       "      <th></th>\n",
       "      <th>index</th>\n",
       "      <th>Security Symbol</th>\n",
       "      <th>Security Name</th>\n",
       "      <th>Security Market</th>\n",
       "      <th>Security CategoryOrIndustry</th>\n",
       "      <th>Headlines Title</th>\n",
       "      <th>Headlines Date</th>\n",
       "      <th>Headlines Tags TagValues</th>\n",
       "      <th>Headlines Summary</th>\n",
       "    </tr>\n",
       "  </thead>\n",
       "  <tbody>\n",
       "    <tr>\n",
       "      <th>0</th>\n",
       "      <td>1695</td>\n",
       "      <td>AAPL</td>\n",
       "      <td>Apple Inc</td>\n",
       "      <td>NASDAQ</td>\n",
       "      <td>TelecommunicationsEquipment</td>\n",
       "      <td>athenahealth is set to support the iOS 15 Feat...</td>\n",
       "      <td>2021-06-09</td>\n",
       "      <td>Consumer_Services</td>\n",
       "      <td>It's being announced this afternoon that athen...</td>\n",
       "    </tr>\n",
       "    <tr>\n",
       "      <th>1</th>\n",
       "      <td>1696</td>\n",
       "      <td>AAPL</td>\n",
       "      <td>Apple Inc</td>\n",
       "      <td>NASDAQ</td>\n",
       "      <td>TelecommunicationsEquipment</td>\n",
       "      <td>athenahealth is set to support the iOS 15 Feat...</td>\n",
       "      <td>2021-06-09</td>\n",
       "      <td>EVDY</td>\n",
       "      <td>It's being announced this afternoon that athen...</td>\n",
       "    </tr>\n",
       "    <tr>\n",
       "      <th>2</th>\n",
       "      <td>1697</td>\n",
       "      <td>AAPL</td>\n",
       "      <td>Apple Inc</td>\n",
       "      <td>NASDAQ</td>\n",
       "      <td>TelecommunicationsEquipment</td>\n",
       "      <td>athenahealth is set to support the iOS 15 Feat...</td>\n",
       "      <td>2021-06-09</td>\n",
       "      <td>AAPL</td>\n",
       "      <td>It's being announced this afternoon that athen...</td>\n",
       "    </tr>\n",
       "    <tr>\n",
       "      <th>3</th>\n",
       "      <td>1698</td>\n",
       "      <td>AAPL</td>\n",
       "      <td>Apple Inc</td>\n",
       "      <td>NASDAQ</td>\n",
       "      <td>TelecommunicationsEquipment</td>\n",
       "      <td>athenahealth is set to support the iOS 15 Feat...</td>\n",
       "      <td>2021-06-09</td>\n",
       "      <td>Everyday Health</td>\n",
       "      <td>It's being announced this afternoon that athen...</td>\n",
       "    </tr>\n",
       "    <tr>\n",
       "      <th>4</th>\n",
       "      <td>1699</td>\n",
       "      <td>AAPL</td>\n",
       "      <td>Apple Inc</td>\n",
       "      <td>NASDAQ</td>\n",
       "      <td>TelecommunicationsEquipment</td>\n",
       "      <td>athenahealth is set to support the iOS 15 Feat...</td>\n",
       "      <td>2021-06-09</td>\n",
       "      <td>Technology</td>\n",
       "      <td>It's being announced this afternoon that athen...</td>\n",
       "    </tr>\n",
       "    <tr>\n",
       "      <th>...</th>\n",
       "      <td>...</td>\n",
       "      <td>...</td>\n",
       "      <td>...</td>\n",
       "      <td>...</td>\n",
       "      <td>...</td>\n",
       "      <td>...</td>\n",
       "      <td>...</td>\n",
       "      <td>...</td>\n",
       "      <td>...</td>\n",
       "    </tr>\n",
       "    <tr>\n",
       "      <th>11206</th>\n",
       "      <td>47789</td>\n",
       "      <td>AAPL</td>\n",
       "      <td>Apple Inc</td>\n",
       "      <td>NASDAQ</td>\n",
       "      <td>TelecommunicationsEquipment</td>\n",
       "      <td>Apple reportedly made bid for rap-battle platf...</td>\n",
       "      <td>2021-05-28</td>\n",
       "      <td>AAPL</td>\n",
       "      <td>NaN</td>\n",
       "    </tr>\n",
       "    <tr>\n",
       "      <th>11207</th>\n",
       "      <td>47790</td>\n",
       "      <td>AAPL</td>\n",
       "      <td>Apple Inc</td>\n",
       "      <td>NASDAQ</td>\n",
       "      <td>TelecommunicationsEquipment</td>\n",
       "      <td>Apple reportedly made bid for rap-battle platf...</td>\n",
       "      <td>2021-05-28</td>\n",
       "      <td>Apple Inc.</td>\n",
       "      <td>NaN</td>\n",
       "    </tr>\n",
       "    <tr>\n",
       "      <th>11208</th>\n",
       "      <td>47791</td>\n",
       "      <td>AAPL</td>\n",
       "      <td>Apple Inc</td>\n",
       "      <td>NASDAQ</td>\n",
       "      <td>TelecommunicationsEquipment</td>\n",
       "      <td>Apple reportedly made bid for rap-battle platf...</td>\n",
       "      <td>2021-05-28</td>\n",
       "      <td>Technology</td>\n",
       "      <td>NaN</td>\n",
       "    </tr>\n",
       "    <tr>\n",
       "      <th>11209</th>\n",
       "      <td>47792</td>\n",
       "      <td>AAPL</td>\n",
       "      <td>Apple Inc</td>\n",
       "      <td>NASDAQ</td>\n",
       "      <td>TelecommunicationsEquipment</td>\n",
       "      <td>Apple reportedly made bid for rap-battle platf...</td>\n",
       "      <td>2021-05-28</td>\n",
       "      <td>Business_Finance</td>\n",
       "      <td>NaN</td>\n",
       "    </tr>\n",
       "    <tr>\n",
       "      <th>11210</th>\n",
       "      <td>47793</td>\n",
       "      <td>AAPL</td>\n",
       "      <td>Apple Inc</td>\n",
       "      <td>NASDAQ</td>\n",
       "      <td>TelecommunicationsEquipment</td>\n",
       "      <td>Apple reportedly made bid for rap-battle platf...</td>\n",
       "      <td>2021-05-28</td>\n",
       "      <td>Technology_Internet</td>\n",
       "      <td>NaN</td>\n",
       "    </tr>\n",
       "  </tbody>\n",
       "</table>\n",
       "<p>11211 rows × 9 columns</p>\n",
       "</div>"
      ],
      "text/plain": [
       "       index Security Symbol Security Name Security Market  \\\n",
       "0       1695            AAPL     Apple Inc          NASDAQ   \n",
       "1       1696            AAPL     Apple Inc          NASDAQ   \n",
       "2       1697            AAPL     Apple Inc          NASDAQ   \n",
       "3       1698            AAPL     Apple Inc          NASDAQ   \n",
       "4       1699            AAPL     Apple Inc          NASDAQ   \n",
       "...      ...             ...           ...             ...   \n",
       "11206  47789            AAPL     Apple Inc          NASDAQ   \n",
       "11207  47790            AAPL     Apple Inc          NASDAQ   \n",
       "11208  47791            AAPL     Apple Inc          NASDAQ   \n",
       "11209  47792            AAPL     Apple Inc          NASDAQ   \n",
       "11210  47793            AAPL     Apple Inc          NASDAQ   \n",
       "\n",
       "       Security CategoryOrIndustry  \\\n",
       "0      TelecommunicationsEquipment   \n",
       "1      TelecommunicationsEquipment   \n",
       "2      TelecommunicationsEquipment   \n",
       "3      TelecommunicationsEquipment   \n",
       "4      TelecommunicationsEquipment   \n",
       "...                            ...   \n",
       "11206  TelecommunicationsEquipment   \n",
       "11207  TelecommunicationsEquipment   \n",
       "11208  TelecommunicationsEquipment   \n",
       "11209  TelecommunicationsEquipment   \n",
       "11210  TelecommunicationsEquipment   \n",
       "\n",
       "                                         Headlines Title Headlines Date  \\\n",
       "0      athenahealth is set to support the iOS 15 Feat...     2021-06-09   \n",
       "1      athenahealth is set to support the iOS 15 Feat...     2021-06-09   \n",
       "2      athenahealth is set to support the iOS 15 Feat...     2021-06-09   \n",
       "3      athenahealth is set to support the iOS 15 Feat...     2021-06-09   \n",
       "4      athenahealth is set to support the iOS 15 Feat...     2021-06-09   \n",
       "...                                                  ...            ...   \n",
       "11206  Apple reportedly made bid for rap-battle platf...     2021-05-28   \n",
       "11207  Apple reportedly made bid for rap-battle platf...     2021-05-28   \n",
       "11208  Apple reportedly made bid for rap-battle platf...     2021-05-28   \n",
       "11209  Apple reportedly made bid for rap-battle platf...     2021-05-28   \n",
       "11210  Apple reportedly made bid for rap-battle platf...     2021-05-28   \n",
       "\n",
       "      Headlines Tags TagValues  \\\n",
       "0            Consumer_Services   \n",
       "1                         EVDY   \n",
       "2                         AAPL   \n",
       "3              Everyday Health   \n",
       "4                   Technology   \n",
       "...                        ...   \n",
       "11206                     AAPL   \n",
       "11207               Apple Inc.   \n",
       "11208               Technology   \n",
       "11209         Business_Finance   \n",
       "11210      Technology_Internet   \n",
       "\n",
       "                                       Headlines Summary  \n",
       "0      It's being announced this afternoon that athen...  \n",
       "1      It's being announced this afternoon that athen...  \n",
       "2      It's being announced this afternoon that athen...  \n",
       "3      It's being announced this afternoon that athen...  \n",
       "4      It's being announced this afternoon that athen...  \n",
       "...                                                  ...  \n",
       "11206                                                NaN  \n",
       "11207                                                NaN  \n",
       "11208                                                NaN  \n",
       "11209                                                NaN  \n",
       "11210                                                NaN  \n",
       "\n",
       "[11211 rows x 9 columns]"
      ]
     },
     "execution_count": 222,
     "metadata": {},
     "output_type": "execute_result"
    }
   ],
   "source": [
    "data"
   ]
  },
  {
   "cell_type": "code",
   "execution_count": 223,
   "metadata": {},
   "outputs": [
    {
     "data": {
      "text/plain": [
       "TelecommunicationsEquipment    11211\n",
       "Name: Security CategoryOrIndustry, dtype: int64"
      ]
     },
     "execution_count": 223,
     "metadata": {},
     "output_type": "execute_result"
    }
   ],
   "source": [
    "data['Security CategoryOrIndustry'].value_counts()"
   ]
  },
  {
   "cell_type": "code",
   "execution_count": 224,
   "metadata": {},
   "outputs": [
    {
     "data": {
      "text/plain": [
       "Apple Inc    11211\n",
       "Name: Security Name, dtype: int64"
      ]
     },
     "execution_count": 224,
     "metadata": {},
     "output_type": "execute_result"
    }
   ],
   "source": [
    "data['Security Name'].value_counts()"
   ]
  },
  {
   "cell_type": "code",
   "execution_count": 225,
   "metadata": {},
   "outputs": [
    {
     "data": {
      "text/plain": [
       "NASDAQ    11211\n",
       "Name: Security Market, dtype: int64"
      ]
     },
     "execution_count": 225,
     "metadata": {},
     "output_type": "execute_result"
    }
   ],
   "source": [
    "data['Security Market'].value_counts()"
   ]
  },
  {
   "cell_type": "code",
   "execution_count": 226,
   "metadata": {},
   "outputs": [
    {
     "data": {
      "text/plain": [
       "AAPL                   994\n",
       "Technology             865\n",
       "Apple Inc.             816\n",
       "Technology_Internet    648\n",
       "Business_Finance       291\n",
       "                      ... \n",
       "HST                      1\n",
       "VENMO Inc.               1\n",
       "Accenture Inc.           1\n",
       "Nokia Inc.               1\n",
       "DTST                     1\n",
       "Name: Headlines Tags TagValues, Length: 1819, dtype: int64"
      ]
     },
     "execution_count": 226,
     "metadata": {},
     "output_type": "execute_result"
    }
   ],
   "source": [
    "data['Headlines Tags TagValues'].value_counts()"
   ]
  },
  {
   "cell_type": "code",
   "execution_count": 227,
   "metadata": {},
   "outputs": [
    {
     "name": "stderr",
     "output_type": "stream",
     "text": [
      "C:\\Users\\rmkis\\anaconda3\\lib\\site-packages\\pandas\\core\\frame.py:4163: SettingWithCopyWarning: \n",
      "A value is trying to be set on a copy of a slice from a DataFrame\n",
      "\n",
      "See the caveats in the documentation: https://pandas.pydata.org/pandas-docs/stable/user_guide/indexing.html#returning-a-view-versus-a-copy\n",
      "  return super().drop(\n"
     ]
    }
   ],
   "source": [
    "data.drop(['Security CategoryOrIndustry','Headlines Tags TagValues','Security Name','Security Market','Security Symbol'],axis=1,inplace=True)"
   ]
  },
  {
   "cell_type": "code",
   "execution_count": 228,
   "metadata": {},
   "outputs": [
    {
     "name": "stderr",
     "output_type": "stream",
     "text": [
      "C:\\Users\\rmkis\\anaconda3\\lib\\site-packages\\pandas\\core\\frame.py:4296: SettingWithCopyWarning: \n",
      "A value is trying to be set on a copy of a slice from a DataFrame\n",
      "\n",
      "See the caveats in the documentation: https://pandas.pydata.org/pandas-docs/stable/user_guide/indexing.html#returning-a-view-versus-a-copy\n",
      "  return super().rename(\n"
     ]
    }
   ],
   "source": [
    "data.rename(columns={'Headlines Date':'Date'},inplace=True)"
   ]
  },
  {
   "cell_type": "code",
   "execution_count": 229,
   "metadata": {},
   "outputs": [
    {
     "name": "stderr",
     "output_type": "stream",
     "text": [
      "<ipython-input-229-7551448d4e13>:1: SettingWithCopyWarning: \n",
      "A value is trying to be set on a copy of a slice from a DataFrame\n",
      "\n",
      "See the caveats in the documentation: https://pandas.pydata.org/pandas-docs/stable/user_guide/indexing.html#returning-a-view-versus-a-copy\n",
      "  data.sort_index(axis = 1,inplace=True)\n"
     ]
    }
   ],
   "source": [
    "data.sort_index(axis = 1,inplace=True)"
   ]
  },
  {
   "cell_type": "code",
   "execution_count": 230,
   "metadata": {},
   "outputs": [
    {
     "data": {
      "text/plain": [
       "0"
      ]
     },
     "execution_count": 230,
     "metadata": {},
     "output_type": "execute_result"
    }
   ],
   "source": [
    "data.duplicated().sum()"
   ]
  },
  {
   "cell_type": "code",
   "execution_count": 231,
   "metadata": {},
   "outputs": [
    {
     "name": "stderr",
     "output_type": "stream",
     "text": [
      "C:\\Users\\rmkis\\anaconda3\\lib\\site-packages\\pandas\\core\\series.py:4517: SettingWithCopyWarning: \n",
      "A value is trying to be set on a copy of a slice from a DataFrame\n",
      "\n",
      "See the caveats in the documentation: https://pandas.pydata.org/pandas-docs/stable/user_guide/indexing.html#returning-a-view-versus-a-copy\n",
      "  return super().fillna(\n"
     ]
    }
   ],
   "source": [
    "data['Headlines Summary'].fillna(\"\",inplace=True)"
   ]
  },
  {
   "cell_type": "code",
   "execution_count": 232,
   "metadata": {},
   "outputs": [
    {
     "data": {
      "text/html": [
       "<div>\n",
       "<style scoped>\n",
       "    .dataframe tbody tr th:only-of-type {\n",
       "        vertical-align: middle;\n",
       "    }\n",
       "\n",
       "    .dataframe tbody tr th {\n",
       "        vertical-align: top;\n",
       "    }\n",
       "\n",
       "    .dataframe thead th {\n",
       "        text-align: right;\n",
       "    }\n",
       "</style>\n",
       "<table border=\"1\" class=\"dataframe\">\n",
       "  <thead>\n",
       "    <tr style=\"text-align: right;\">\n",
       "      <th></th>\n",
       "      <th>Date</th>\n",
       "      <th>Headlines Summary</th>\n",
       "      <th>Headlines Title</th>\n",
       "      <th>index</th>\n",
       "    </tr>\n",
       "  </thead>\n",
       "  <tbody>\n",
       "    <tr>\n",
       "      <th>0</th>\n",
       "      <td>2021-06-09</td>\n",
       "      <td>It's being announced this afternoon that athen...</td>\n",
       "      <td>athenahealth is set to support the iOS 15 Feat...</td>\n",
       "      <td>1695</td>\n",
       "    </tr>\n",
       "    <tr>\n",
       "      <th>1</th>\n",
       "      <td>2021-06-09</td>\n",
       "      <td>It's being announced this afternoon that athen...</td>\n",
       "      <td>athenahealth is set to support the iOS 15 Feat...</td>\n",
       "      <td>1696</td>\n",
       "    </tr>\n",
       "    <tr>\n",
       "      <th>2</th>\n",
       "      <td>2021-06-09</td>\n",
       "      <td>It's being announced this afternoon that athen...</td>\n",
       "      <td>athenahealth is set to support the iOS 15 Feat...</td>\n",
       "      <td>1697</td>\n",
       "    </tr>\n",
       "    <tr>\n",
       "      <th>3</th>\n",
       "      <td>2021-06-09</td>\n",
       "      <td>It's being announced this afternoon that athen...</td>\n",
       "      <td>athenahealth is set to support the iOS 15 Feat...</td>\n",
       "      <td>1698</td>\n",
       "    </tr>\n",
       "    <tr>\n",
       "      <th>4</th>\n",
       "      <td>2021-06-09</td>\n",
       "      <td>It's being announced this afternoon that athen...</td>\n",
       "      <td>athenahealth is set to support the iOS 15 Feat...</td>\n",
       "      <td>1699</td>\n",
       "    </tr>\n",
       "    <tr>\n",
       "      <th>...</th>\n",
       "      <td>...</td>\n",
       "      <td>...</td>\n",
       "      <td>...</td>\n",
       "      <td>...</td>\n",
       "    </tr>\n",
       "    <tr>\n",
       "      <th>11206</th>\n",
       "      <td>2021-05-28</td>\n",
       "      <td></td>\n",
       "      <td>Apple reportedly made bid for rap-battle platf...</td>\n",
       "      <td>47789</td>\n",
       "    </tr>\n",
       "    <tr>\n",
       "      <th>11207</th>\n",
       "      <td>2021-05-28</td>\n",
       "      <td></td>\n",
       "      <td>Apple reportedly made bid for rap-battle platf...</td>\n",
       "      <td>47790</td>\n",
       "    </tr>\n",
       "    <tr>\n",
       "      <th>11208</th>\n",
       "      <td>2021-05-28</td>\n",
       "      <td></td>\n",
       "      <td>Apple reportedly made bid for rap-battle platf...</td>\n",
       "      <td>47791</td>\n",
       "    </tr>\n",
       "    <tr>\n",
       "      <th>11209</th>\n",
       "      <td>2021-05-28</td>\n",
       "      <td></td>\n",
       "      <td>Apple reportedly made bid for rap-battle platf...</td>\n",
       "      <td>47792</td>\n",
       "    </tr>\n",
       "    <tr>\n",
       "      <th>11210</th>\n",
       "      <td>2021-05-28</td>\n",
       "      <td></td>\n",
       "      <td>Apple reportedly made bid for rap-battle platf...</td>\n",
       "      <td>47793</td>\n",
       "    </tr>\n",
       "  </tbody>\n",
       "</table>\n",
       "<p>11211 rows × 4 columns</p>\n",
       "</div>"
      ],
      "text/plain": [
       "            Date                                  Headlines Summary  \\\n",
       "0     2021-06-09  It's being announced this afternoon that athen...   \n",
       "1     2021-06-09  It's being announced this afternoon that athen...   \n",
       "2     2021-06-09  It's being announced this afternoon that athen...   \n",
       "3     2021-06-09  It's being announced this afternoon that athen...   \n",
       "4     2021-06-09  It's being announced this afternoon that athen...   \n",
       "...          ...                                                ...   \n",
       "11206 2021-05-28                                                      \n",
       "11207 2021-05-28                                                      \n",
       "11208 2021-05-28                                                      \n",
       "11209 2021-05-28                                                      \n",
       "11210 2021-05-28                                                      \n",
       "\n",
       "                                         Headlines Title  index  \n",
       "0      athenahealth is set to support the iOS 15 Feat...   1695  \n",
       "1      athenahealth is set to support the iOS 15 Feat...   1696  \n",
       "2      athenahealth is set to support the iOS 15 Feat...   1697  \n",
       "3      athenahealth is set to support the iOS 15 Feat...   1698  \n",
       "4      athenahealth is set to support the iOS 15 Feat...   1699  \n",
       "...                                                  ...    ...  \n",
       "11206  Apple reportedly made bid for rap-battle platf...  47789  \n",
       "11207  Apple reportedly made bid for rap-battle platf...  47790  \n",
       "11208  Apple reportedly made bid for rap-battle platf...  47791  \n",
       "11209  Apple reportedly made bid for rap-battle platf...  47792  \n",
       "11210  Apple reportedly made bid for rap-battle platf...  47793  \n",
       "\n",
       "[11211 rows x 4 columns]"
      ]
     },
     "execution_count": 232,
     "metadata": {},
     "output_type": "execute_result"
    }
   ],
   "source": [
    "data"
   ]
  },
  {
   "cell_type": "code",
   "execution_count": 233,
   "metadata": {},
   "outputs": [
    {
     "data": {
      "text/plain": [
       "0"
      ]
     },
     "execution_count": 233,
     "metadata": {},
     "output_type": "execute_result"
    }
   ],
   "source": [
    "data.duplicated().sum()"
   ]
  },
  {
   "cell_type": "code",
   "execution_count": 234,
   "metadata": {},
   "outputs": [
    {
     "data": {
      "text/plain": [
       "\"It's being announced this afternoon that athenahealth, a leading provider of network-enabled software and services for medical groups and health systems nationwide, will support iOS 15 so as to allow its U.S. customers to share important everyday health information stored in the Apple Health app ...\""
      ]
     },
     "execution_count": 234,
     "metadata": {},
     "output_type": "execute_result"
    }
   ],
   "source": [
    "data['Headlines Summary'][1]"
   ]
  },
  {
   "cell_type": "code",
   "execution_count": 237,
   "metadata": {},
   "outputs": [
    {
     "name": "stderr",
     "output_type": "stream",
     "text": [
      "<ipython-input-237-32e6cd6468eb>:2: SettingWithCopyWarning: \n",
      "A value is trying to be set on a copy of a slice from a DataFrame\n",
      "\n",
      "See the caveats in the documentation: https://pandas.pydata.org/pandas-docs/stable/user_guide/indexing.html#returning-a-view-versus-a-copy\n",
      "  data['Headlines'][row]=' '.join(str(i) for i in data.iloc[row,1:3])\n",
      "C:\\Users\\rmkis\\anaconda3\\lib\\site-packages\\IPython\\core\\interactiveshell.py:3418: SettingWithCopyWarning: \n",
      "A value is trying to be set on a copy of a slice from a DataFrame\n",
      "\n",
      "See the caveats in the documentation: https://pandas.pydata.org/pandas-docs/stable/user_guide/indexing.html#returning-a-view-versus-a-copy\n",
      "  exec(code_obj, self.user_global_ns, self.user_ns)\n"
     ]
    }
   ],
   "source": [
    "for row in range(0,len(data.index)):\n",
    "    data['Headlines'][row]=' '.join(str(i) for i in data.iloc[row,1:3])"
   ]
  },
  {
   "cell_type": "code",
   "execution_count": 238,
   "metadata": {},
   "outputs": [
    {
     "data": {
      "text/html": [
       "<div>\n",
       "<style scoped>\n",
       "    .dataframe tbody tr th:only-of-type {\n",
       "        vertical-align: middle;\n",
       "    }\n",
       "\n",
       "    .dataframe tbody tr th {\n",
       "        vertical-align: top;\n",
       "    }\n",
       "\n",
       "    .dataframe thead th {\n",
       "        text-align: right;\n",
       "    }\n",
       "</style>\n",
       "<table border=\"1\" class=\"dataframe\">\n",
       "  <thead>\n",
       "    <tr style=\"text-align: right;\">\n",
       "      <th></th>\n",
       "      <th>Date</th>\n",
       "      <th>Headlines Summary</th>\n",
       "      <th>Headlines Title</th>\n",
       "      <th>index</th>\n",
       "      <th>Headlines</th>\n",
       "    </tr>\n",
       "  </thead>\n",
       "  <tbody>\n",
       "    <tr>\n",
       "      <th>0</th>\n",
       "      <td>2021-06-09</td>\n",
       "      <td>It's being announced this afternoon that athen...</td>\n",
       "      <td>athenahealth is set to support the iOS 15 Feat...</td>\n",
       "      <td>1695</td>\n",
       "      <td>It's being announced this afternoon that athen...</td>\n",
       "    </tr>\n",
       "    <tr>\n",
       "      <th>1</th>\n",
       "      <td>2021-06-09</td>\n",
       "      <td>It's being announced this afternoon that athen...</td>\n",
       "      <td>athenahealth is set to support the iOS 15 Feat...</td>\n",
       "      <td>1696</td>\n",
       "      <td>It's being announced this afternoon that athen...</td>\n",
       "    </tr>\n",
       "    <tr>\n",
       "      <th>2</th>\n",
       "      <td>2021-06-09</td>\n",
       "      <td>It's being announced this afternoon that athen...</td>\n",
       "      <td>athenahealth is set to support the iOS 15 Feat...</td>\n",
       "      <td>1697</td>\n",
       "      <td>It's being announced this afternoon that athen...</td>\n",
       "    </tr>\n",
       "    <tr>\n",
       "      <th>3</th>\n",
       "      <td>2021-06-09</td>\n",
       "      <td>It's being announced this afternoon that athen...</td>\n",
       "      <td>athenahealth is set to support the iOS 15 Feat...</td>\n",
       "      <td>1698</td>\n",
       "      <td>It's being announced this afternoon that athen...</td>\n",
       "    </tr>\n",
       "    <tr>\n",
       "      <th>4</th>\n",
       "      <td>2021-06-09</td>\n",
       "      <td>It's being announced this afternoon that athen...</td>\n",
       "      <td>athenahealth is set to support the iOS 15 Feat...</td>\n",
       "      <td>1699</td>\n",
       "      <td>It's being announced this afternoon that athen...</td>\n",
       "    </tr>\n",
       "    <tr>\n",
       "      <th>...</th>\n",
       "      <td>...</td>\n",
       "      <td>...</td>\n",
       "      <td>...</td>\n",
       "      <td>...</td>\n",
       "      <td>...</td>\n",
       "    </tr>\n",
       "    <tr>\n",
       "      <th>11206</th>\n",
       "      <td>2021-05-28</td>\n",
       "      <td></td>\n",
       "      <td>Apple reportedly made bid for rap-battle platf...</td>\n",
       "      <td>47789</td>\n",
       "      <td>Apple reportedly made bid for rap-battle plat...</td>\n",
       "    </tr>\n",
       "    <tr>\n",
       "      <th>11207</th>\n",
       "      <td>2021-05-28</td>\n",
       "      <td></td>\n",
       "      <td>Apple reportedly made bid for rap-battle platf...</td>\n",
       "      <td>47790</td>\n",
       "      <td>Apple reportedly made bid for rap-battle plat...</td>\n",
       "    </tr>\n",
       "    <tr>\n",
       "      <th>11208</th>\n",
       "      <td>2021-05-28</td>\n",
       "      <td></td>\n",
       "      <td>Apple reportedly made bid for rap-battle platf...</td>\n",
       "      <td>47791</td>\n",
       "      <td>Apple reportedly made bid for rap-battle plat...</td>\n",
       "    </tr>\n",
       "    <tr>\n",
       "      <th>11209</th>\n",
       "      <td>2021-05-28</td>\n",
       "      <td></td>\n",
       "      <td>Apple reportedly made bid for rap-battle platf...</td>\n",
       "      <td>47792</td>\n",
       "      <td>Apple reportedly made bid for rap-battle plat...</td>\n",
       "    </tr>\n",
       "    <tr>\n",
       "      <th>11210</th>\n",
       "      <td>2021-05-28</td>\n",
       "      <td></td>\n",
       "      <td>Apple reportedly made bid for rap-battle platf...</td>\n",
       "      <td>47793</td>\n",
       "      <td>Apple reportedly made bid for rap-battle plat...</td>\n",
       "    </tr>\n",
       "  </tbody>\n",
       "</table>\n",
       "<p>11211 rows × 5 columns</p>\n",
       "</div>"
      ],
      "text/plain": [
       "            Date                                  Headlines Summary  \\\n",
       "0     2021-06-09  It's being announced this afternoon that athen...   \n",
       "1     2021-06-09  It's being announced this afternoon that athen...   \n",
       "2     2021-06-09  It's being announced this afternoon that athen...   \n",
       "3     2021-06-09  It's being announced this afternoon that athen...   \n",
       "4     2021-06-09  It's being announced this afternoon that athen...   \n",
       "...          ...                                                ...   \n",
       "11206 2021-05-28                                                      \n",
       "11207 2021-05-28                                                      \n",
       "11208 2021-05-28                                                      \n",
       "11209 2021-05-28                                                      \n",
       "11210 2021-05-28                                                      \n",
       "\n",
       "                                         Headlines Title  index  \\\n",
       "0      athenahealth is set to support the iOS 15 Feat...   1695   \n",
       "1      athenahealth is set to support the iOS 15 Feat...   1696   \n",
       "2      athenahealth is set to support the iOS 15 Feat...   1697   \n",
       "3      athenahealth is set to support the iOS 15 Feat...   1698   \n",
       "4      athenahealth is set to support the iOS 15 Feat...   1699   \n",
       "...                                                  ...    ...   \n",
       "11206  Apple reportedly made bid for rap-battle platf...  47789   \n",
       "11207  Apple reportedly made bid for rap-battle platf...  47790   \n",
       "11208  Apple reportedly made bid for rap-battle platf...  47791   \n",
       "11209  Apple reportedly made bid for rap-battle platf...  47792   \n",
       "11210  Apple reportedly made bid for rap-battle platf...  47793   \n",
       "\n",
       "                                               Headlines  \n",
       "0      It's being announced this afternoon that athen...  \n",
       "1      It's being announced this afternoon that athen...  \n",
       "2      It's being announced this afternoon that athen...  \n",
       "3      It's being announced this afternoon that athen...  \n",
       "4      It's being announced this afternoon that athen...  \n",
       "...                                                  ...  \n",
       "11206   Apple reportedly made bid for rap-battle plat...  \n",
       "11207   Apple reportedly made bid for rap-battle plat...  \n",
       "11208   Apple reportedly made bid for rap-battle plat...  \n",
       "11209   Apple reportedly made bid for rap-battle plat...  \n",
       "11210   Apple reportedly made bid for rap-battle plat...  \n",
       "\n",
       "[11211 rows x 5 columns]"
      ]
     },
     "execution_count": 238,
     "metadata": {},
     "output_type": "execute_result"
    }
   ],
   "source": [
    "data"
   ]
  },
  {
   "cell_type": "code",
   "execution_count": 239,
   "metadata": {},
   "outputs": [
    {
     "name": "stderr",
     "output_type": "stream",
     "text": [
      "C:\\Users\\rmkis\\anaconda3\\lib\\site-packages\\pandas\\core\\frame.py:4163: SettingWithCopyWarning: \n",
      "A value is trying to be set on a copy of a slice from a DataFrame\n",
      "\n",
      "See the caveats in the documentation: https://pandas.pydata.org/pandas-docs/stable/user_guide/indexing.html#returning-a-view-versus-a-copy\n",
      "  return super().drop(\n"
     ]
    }
   ],
   "source": [
    "data.drop(['Headlines Summary','Headlines Title','index'],axis=1,inplace=True)"
   ]
  },
  {
   "cell_type": "code",
   "execution_count": 240,
   "metadata": {},
   "outputs": [
    {
     "data": {
      "text/html": [
       "<div>\n",
       "<style scoped>\n",
       "    .dataframe tbody tr th:only-of-type {\n",
       "        vertical-align: middle;\n",
       "    }\n",
       "\n",
       "    .dataframe tbody tr th {\n",
       "        vertical-align: top;\n",
       "    }\n",
       "\n",
       "    .dataframe thead th {\n",
       "        text-align: right;\n",
       "    }\n",
       "</style>\n",
       "<table border=\"1\" class=\"dataframe\">\n",
       "  <thead>\n",
       "    <tr style=\"text-align: right;\">\n",
       "      <th></th>\n",
       "      <th>Date</th>\n",
       "      <th>Headlines</th>\n",
       "    </tr>\n",
       "  </thead>\n",
       "  <tbody>\n",
       "    <tr>\n",
       "      <th>0</th>\n",
       "      <td>2021-06-09</td>\n",
       "      <td>It's being announced this afternoon that athen...</td>\n",
       "    </tr>\n",
       "    <tr>\n",
       "      <th>1</th>\n",
       "      <td>2021-06-09</td>\n",
       "      <td>It's being announced this afternoon that athen...</td>\n",
       "    </tr>\n",
       "    <tr>\n",
       "      <th>2</th>\n",
       "      <td>2021-06-09</td>\n",
       "      <td>It's being announced this afternoon that athen...</td>\n",
       "    </tr>\n",
       "    <tr>\n",
       "      <th>3</th>\n",
       "      <td>2021-06-09</td>\n",
       "      <td>It's being announced this afternoon that athen...</td>\n",
       "    </tr>\n",
       "    <tr>\n",
       "      <th>4</th>\n",
       "      <td>2021-06-09</td>\n",
       "      <td>It's being announced this afternoon that athen...</td>\n",
       "    </tr>\n",
       "    <tr>\n",
       "      <th>...</th>\n",
       "      <td>...</td>\n",
       "      <td>...</td>\n",
       "    </tr>\n",
       "    <tr>\n",
       "      <th>11206</th>\n",
       "      <td>2021-05-28</td>\n",
       "      <td>Apple reportedly made bid for rap-battle plat...</td>\n",
       "    </tr>\n",
       "    <tr>\n",
       "      <th>11207</th>\n",
       "      <td>2021-05-28</td>\n",
       "      <td>Apple reportedly made bid for rap-battle plat...</td>\n",
       "    </tr>\n",
       "    <tr>\n",
       "      <th>11208</th>\n",
       "      <td>2021-05-28</td>\n",
       "      <td>Apple reportedly made bid for rap-battle plat...</td>\n",
       "    </tr>\n",
       "    <tr>\n",
       "      <th>11209</th>\n",
       "      <td>2021-05-28</td>\n",
       "      <td>Apple reportedly made bid for rap-battle plat...</td>\n",
       "    </tr>\n",
       "    <tr>\n",
       "      <th>11210</th>\n",
       "      <td>2021-05-28</td>\n",
       "      <td>Apple reportedly made bid for rap-battle plat...</td>\n",
       "    </tr>\n",
       "  </tbody>\n",
       "</table>\n",
       "<p>11211 rows × 2 columns</p>\n",
       "</div>"
      ],
      "text/plain": [
       "            Date                                          Headlines\n",
       "0     2021-06-09  It's being announced this afternoon that athen...\n",
       "1     2021-06-09  It's being announced this afternoon that athen...\n",
       "2     2021-06-09  It's being announced this afternoon that athen...\n",
       "3     2021-06-09  It's being announced this afternoon that athen...\n",
       "4     2021-06-09  It's being announced this afternoon that athen...\n",
       "...          ...                                                ...\n",
       "11206 2021-05-28   Apple reportedly made bid for rap-battle plat...\n",
       "11207 2021-05-28   Apple reportedly made bid for rap-battle plat...\n",
       "11208 2021-05-28   Apple reportedly made bid for rap-battle plat...\n",
       "11209 2021-05-28   Apple reportedly made bid for rap-battle plat...\n",
       "11210 2021-05-28   Apple reportedly made bid for rap-battle plat...\n",
       "\n",
       "[11211 rows x 2 columns]"
      ]
     },
     "execution_count": 240,
     "metadata": {},
     "output_type": "execute_result"
    }
   ],
   "source": [
    "data"
   ]
  },
  {
   "cell_type": "code",
   "execution_count": 241,
   "metadata": {},
   "outputs": [
    {
     "data": {
      "text/plain": [
       "10199"
      ]
     },
     "execution_count": 241,
     "metadata": {},
     "output_type": "execute_result"
    }
   ],
   "source": [
    "data.duplicated().sum()"
   ]
  },
  {
   "cell_type": "code",
   "execution_count": 242,
   "metadata": {},
   "outputs": [
    {
     "name": "stderr",
     "output_type": "stream",
     "text": [
      "<ipython-input-242-ace7653b11de>:1: SettingWithCopyWarning: \n",
      "A value is trying to be set on a copy of a slice from a DataFrame\n",
      "\n",
      "See the caveats in the documentation: https://pandas.pydata.org/pandas-docs/stable/user_guide/indexing.html#returning-a-view-versus-a-copy\n",
      "  data.drop_duplicates(inplace=True,ignore_index=True)\n"
     ]
    }
   ],
   "source": [
    "data.drop_duplicates(inplace=True,ignore_index=True)"
   ]
  },
  {
   "cell_type": "code",
   "execution_count": 243,
   "metadata": {},
   "outputs": [
    {
     "data": {
      "text/html": [
       "<div>\n",
       "<style scoped>\n",
       "    .dataframe tbody tr th:only-of-type {\n",
       "        vertical-align: middle;\n",
       "    }\n",
       "\n",
       "    .dataframe tbody tr th {\n",
       "        vertical-align: top;\n",
       "    }\n",
       "\n",
       "    .dataframe thead th {\n",
       "        text-align: right;\n",
       "    }\n",
       "</style>\n",
       "<table border=\"1\" class=\"dataframe\">\n",
       "  <thead>\n",
       "    <tr style=\"text-align: right;\">\n",
       "      <th></th>\n",
       "      <th>Date</th>\n",
       "      <th>Headlines</th>\n",
       "    </tr>\n",
       "  </thead>\n",
       "  <tbody>\n",
       "    <tr>\n",
       "      <th>0</th>\n",
       "      <td>2021-06-09</td>\n",
       "      <td>It's being announced this afternoon that athen...</td>\n",
       "    </tr>\n",
       "    <tr>\n",
       "      <th>1</th>\n",
       "      <td>2021-06-09</td>\n",
       "      <td>Critical to position natural gas as a transiti...</td>\n",
       "    </tr>\n",
       "    <tr>\n",
       "      <th>2</th>\n",
       "      <td>2021-06-09</td>\n",
       "      <td>Let's quickly look at Adobe to see if investor...</td>\n",
       "    </tr>\n",
       "    <tr>\n",
       "      <th>3</th>\n",
       "      <td>2021-06-09</td>\n",
       "      <td>WWDC 2021: Apple Quietly Reinforces Its Moat</td>\n",
       "    </tr>\n",
       "    <tr>\n",
       "      <th>4</th>\n",
       "      <td>2021-06-09</td>\n",
       "      <td>Amp (CURRENCY:AMP) traded 15.5% higher against...</td>\n",
       "    </tr>\n",
       "    <tr>\n",
       "      <th>...</th>\n",
       "      <td>...</td>\n",
       "      <td>...</td>\n",
       "    </tr>\n",
       "    <tr>\n",
       "      <th>1007</th>\n",
       "      <td>2021-05-28</td>\n",
       "      <td>Apple in April said it was introducing a servi...</td>\n",
       "    </tr>\n",
       "    <tr>\n",
       "      <th>1008</th>\n",
       "      <td>2021-05-28</td>\n",
       "      <td>When Apple and Google announced last year that...</td>\n",
       "    </tr>\n",
       "    <tr>\n",
       "      <th>1009</th>\n",
       "      <td>2021-05-28</td>\n",
       "      <td>InvestorPlace - Stock Market News, Stock Advic...</td>\n",
       "    </tr>\n",
       "    <tr>\n",
       "      <th>1010</th>\n",
       "      <td>2021-05-28</td>\n",
       "      <td>You can track AirTags attached to your persona...</td>\n",
       "    </tr>\n",
       "    <tr>\n",
       "      <th>1011</th>\n",
       "      <td>2021-05-28</td>\n",
       "      <td>Apple reportedly made bid for rap-battle plat...</td>\n",
       "    </tr>\n",
       "  </tbody>\n",
       "</table>\n",
       "<p>1012 rows × 2 columns</p>\n",
       "</div>"
      ],
      "text/plain": [
       "           Date                                          Headlines\n",
       "0    2021-06-09  It's being announced this afternoon that athen...\n",
       "1    2021-06-09  Critical to position natural gas as a transiti...\n",
       "2    2021-06-09  Let's quickly look at Adobe to see if investor...\n",
       "3    2021-06-09       WWDC 2021: Apple Quietly Reinforces Its Moat\n",
       "4    2021-06-09  Amp (CURRENCY:AMP) traded 15.5% higher against...\n",
       "...         ...                                                ...\n",
       "1007 2021-05-28  Apple in April said it was introducing a servi...\n",
       "1008 2021-05-28  When Apple and Google announced last year that...\n",
       "1009 2021-05-28  InvestorPlace - Stock Market News, Stock Advic...\n",
       "1010 2021-05-28  You can track AirTags attached to your persona...\n",
       "1011 2021-05-28   Apple reportedly made bid for rap-battle plat...\n",
       "\n",
       "[1012 rows x 2 columns]"
      ]
     },
     "execution_count": 243,
     "metadata": {},
     "output_type": "execute_result"
    }
   ],
   "source": [
    "data"
   ]
  },
  {
   "cell_type": "code",
   "execution_count": 244,
   "metadata": {},
   "outputs": [
    {
     "name": "stderr",
     "output_type": "stream",
     "text": [
      "<ipython-input-244-4d3b310d99b6>:1: SettingWithCopyWarning: \n",
      "A value is trying to be set on a copy of a slice from a DataFrame.\n",
      "Try using .loc[row_indexer,col_indexer] = value instead\n",
      "\n",
      "See the caveats in the documentation: https://pandas.pydata.org/pandas-docs/stable/user_guide/indexing.html#returning-a-view-versus-a-copy\n",
      "  data['Headlines']=data['Headlines'].apply(punctuation_removal)\n"
     ]
    }
   ],
   "source": [
    "data['Headlines']=data['Headlines'].apply(punctuation_removal)"
   ]
  },
  {
   "cell_type": "code",
   "execution_count": 245,
   "metadata": {},
   "outputs": [
    {
     "name": "stderr",
     "output_type": "stream",
     "text": [
      "<ipython-input-245-b48f4c8b4882>:1: SettingWithCopyWarning: \n",
      "A value is trying to be set on a copy of a slice from a DataFrame.\n",
      "Try using .loc[row_indexer,col_indexer] = value instead\n",
      "\n",
      "See the caveats in the documentation: https://pandas.pydata.org/pandas-docs/stable/user_guide/indexing.html#returning-a-view-versus-a-copy\n",
      "  data['Headlines']=data['Headlines'].astype(str)\n",
      "<ipython-input-245-b48f4c8b4882>:2: SettingWithCopyWarning: \n",
      "A value is trying to be set on a copy of a slice from a DataFrame.\n",
      "Try using .loc[row_indexer,col_indexer] = value instead\n",
      "\n",
      "See the caveats in the documentation: https://pandas.pydata.org/pandas-docs/stable/user_guide/indexing.html#returning-a-view-versus-a-copy\n",
      "  data['Headlines'] = data['Headlines'].apply(lambda x: ' '.join([word for word in x.split() if word not in (stop)]))\n"
     ]
    }
   ],
   "source": [
    "data['Headlines']=data['Headlines'].astype(str)\n",
    "data['Headlines'] = data['Headlines'].apply(lambda x: ' '.join([word for word in x.split() if word not in (stop)]))"
   ]
  },
  {
   "cell_type": "code",
   "execution_count": 246,
   "metadata": {},
   "outputs": [
    {
     "name": "stderr",
     "output_type": "stream",
     "text": [
      "<ipython-input-246-e49c983de013>:1: SettingWithCopyWarning: \n",
      "A value is trying to be set on a copy of a slice from a DataFrame.\n",
      "Try using .loc[row_indexer,col_indexer] = value instead\n",
      "\n",
      "See the caveats in the documentation: https://pandas.pydata.org/pandas-docs/stable/user_guide/indexing.html#returning-a-view-versus-a-copy\n",
      "  data['Headlines'] = data['Headlines'].apply(split_to_lemma)\n"
     ]
    }
   ],
   "source": [
    "data['Headlines'] = data['Headlines'].apply(split_to_lemma)"
   ]
  },
  {
   "cell_type": "code",
   "execution_count": 251,
   "metadata": {},
   "outputs": [],
   "source": [
    "df=pd.merge(df2,data,on=['Date'],how='inner')"
   ]
  },
  {
   "cell_type": "code",
   "execution_count": 252,
   "metadata": {},
   "outputs": [
    {
     "data": {
      "text/html": [
       "<div>\n",
       "<style scoped>\n",
       "    .dataframe tbody tr th:only-of-type {\n",
       "        vertical-align: middle;\n",
       "    }\n",
       "\n",
       "    .dataframe tbody tr th {\n",
       "        vertical-align: top;\n",
       "    }\n",
       "\n",
       "    .dataframe thead th {\n",
       "        text-align: right;\n",
       "    }\n",
       "</style>\n",
       "<table border=\"1\" class=\"dataframe\">\n",
       "  <thead>\n",
       "    <tr style=\"text-align: right;\">\n",
       "      <th></th>\n",
       "      <th>Date</th>\n",
       "      <th>Close</th>\n",
       "      <th>Volume</th>\n",
       "      <th>Open</th>\n",
       "      <th>High</th>\n",
       "      <th>Low</th>\n",
       "      <th>Headlines_x</th>\n",
       "      <th>Headlines_y</th>\n",
       "    </tr>\n",
       "  </thead>\n",
       "  <tbody>\n",
       "    <tr>\n",
       "      <th>0</th>\n",
       "      <td>2021-06-09</td>\n",
       "      <td>127.130000</td>\n",
       "      <td>5.687794e+07</td>\n",
       "      <td>127.210000</td>\n",
       "      <td>127.750000</td>\n",
       "      <td>126.520000</td>\n",
       "      <td>athenahealth set support io 15 feature allows ...</td>\n",
       "      <td>Its announced afternoon athenahealth leading p...</td>\n",
       "    </tr>\n",
       "    <tr>\n",
       "      <th>1</th>\n",
       "      <td>2021-06-09</td>\n",
       "      <td>127.130000</td>\n",
       "      <td>5.687794e+07</td>\n",
       "      <td>127.210000</td>\n",
       "      <td>127.750000</td>\n",
       "      <td>126.520000</td>\n",
       "      <td>athenahealth set support io 15 feature allows ...</td>\n",
       "      <td>Critical position natural gas transition fuel ...</td>\n",
       "    </tr>\n",
       "    <tr>\n",
       "      <th>2</th>\n",
       "      <td>2021-06-09</td>\n",
       "      <td>127.130000</td>\n",
       "      <td>5.687794e+07</td>\n",
       "      <td>127.210000</td>\n",
       "      <td>127.750000</td>\n",
       "      <td>126.520000</td>\n",
       "      <td>athenahealth set support io 15 feature allows ...</td>\n",
       "      <td>Lets quickly look Adobe see investor might wan...</td>\n",
       "    </tr>\n",
       "    <tr>\n",
       "      <th>3</th>\n",
       "      <td>2021-06-09</td>\n",
       "      <td>127.130000</td>\n",
       "      <td>5.687794e+07</td>\n",
       "      <td>127.210000</td>\n",
       "      <td>127.750000</td>\n",
       "      <td>126.520000</td>\n",
       "      <td>athenahealth set support io 15 feature allows ...</td>\n",
       "      <td>WWDC 2021 Apple Quietly Reinforces Its Moat</td>\n",
       "    </tr>\n",
       "    <tr>\n",
       "      <th>4</th>\n",
       "      <td>2021-06-09</td>\n",
       "      <td>127.130000</td>\n",
       "      <td>5.687794e+07</td>\n",
       "      <td>127.210000</td>\n",
       "      <td>127.750000</td>\n",
       "      <td>126.520000</td>\n",
       "      <td>athenahealth set support io 15 feature allows ...</td>\n",
       "      <td>Amp CURRENCYAMP traded 155 higher US dollar tw...</td>\n",
       "    </tr>\n",
       "    <tr>\n",
       "      <th>...</th>\n",
       "      <td>...</td>\n",
       "      <td>...</td>\n",
       "      <td>...</td>\n",
       "      <td>...</td>\n",
       "      <td>...</td>\n",
       "      <td>...</td>\n",
       "      <td>...</td>\n",
       "      <td>...</td>\n",
       "    </tr>\n",
       "    <tr>\n",
       "      <th>1007</th>\n",
       "      <td>2021-06-06</td>\n",
       "      <td>62.229443</td>\n",
       "      <td>1.251431e+08</td>\n",
       "      <td>62.189158</td>\n",
       "      <td>62.858732</td>\n",
       "      <td>61.533235</td>\n",
       "      <td>facebookquots trump ban last least 2 year glob...</td>\n",
       "      <td>Apple AAPL leading global consumer technology ...</td>\n",
       "    </tr>\n",
       "    <tr>\n",
       "      <th>1008</th>\n",
       "      <td>2021-06-06</td>\n",
       "      <td>62.229443</td>\n",
       "      <td>1.251431e+08</td>\n",
       "      <td>62.189158</td>\n",
       "      <td>62.858732</td>\n",
       "      <td>61.533235</td>\n",
       "      <td>facebookquots trump ban last least 2 year glob...</td>\n",
       "      <td>Apples WWDC expected unveil Mind app could bri...</td>\n",
       "    </tr>\n",
       "    <tr>\n",
       "      <th>1009</th>\n",
       "      <td>2021-06-06</td>\n",
       "      <td>62.229443</td>\n",
       "      <td>1.251431e+08</td>\n",
       "      <td>62.189158</td>\n",
       "      <td>62.858732</td>\n",
       "      <td>61.533235</td>\n",
       "      <td>facebookquots trump ban last least 2 year glob...</td>\n",
       "      <td>KUALA LUMPUR June 6 According news report Goog...</td>\n",
       "    </tr>\n",
       "    <tr>\n",
       "      <th>1010</th>\n",
       "      <td>2021-06-06</td>\n",
       "      <td>62.229443</td>\n",
       "      <td>1.251431e+08</td>\n",
       "      <td>62.189158</td>\n",
       "      <td>62.858732</td>\n",
       "      <td>61.533235</td>\n",
       "      <td>facebookquots trump ban last least 2 year glob...</td>\n",
       "      <td>The new Apple laptop desktop share similar spe...</td>\n",
       "    </tr>\n",
       "    <tr>\n",
       "      <th>1011</th>\n",
       "      <td>2021-06-06</td>\n",
       "      <td>62.229443</td>\n",
       "      <td>1.251431e+08</td>\n",
       "      <td>62.189158</td>\n",
       "      <td>62.858732</td>\n",
       "      <td>61.533235</td>\n",
       "      <td>facebookquots trump ban last least 2 year glob...</td>\n",
       "      <td>China boast Apple supplier country sign Washin...</td>\n",
       "    </tr>\n",
       "  </tbody>\n",
       "</table>\n",
       "<p>1012 rows × 8 columns</p>\n",
       "</div>"
      ],
      "text/plain": [
       "           Date       Close        Volume        Open        High         Low  \\\n",
       "0    2021-06-09  127.130000  5.687794e+07  127.210000  127.750000  126.520000   \n",
       "1    2021-06-09  127.130000  5.687794e+07  127.210000  127.750000  126.520000   \n",
       "2    2021-06-09  127.130000  5.687794e+07  127.210000  127.750000  126.520000   \n",
       "3    2021-06-09  127.130000  5.687794e+07  127.210000  127.750000  126.520000   \n",
       "4    2021-06-09  127.130000  5.687794e+07  127.210000  127.750000  126.520000   \n",
       "...         ...         ...           ...         ...         ...         ...   \n",
       "1007 2021-06-06   62.229443  1.251431e+08   62.189158   62.858732   61.533235   \n",
       "1008 2021-06-06   62.229443  1.251431e+08   62.189158   62.858732   61.533235   \n",
       "1009 2021-06-06   62.229443  1.251431e+08   62.189158   62.858732   61.533235   \n",
       "1010 2021-06-06   62.229443  1.251431e+08   62.189158   62.858732   61.533235   \n",
       "1011 2021-06-06   62.229443  1.251431e+08   62.189158   62.858732   61.533235   \n",
       "\n",
       "                                            Headlines_x  \\\n",
       "0     athenahealth set support io 15 feature allows ...   \n",
       "1     athenahealth set support io 15 feature allows ...   \n",
       "2     athenahealth set support io 15 feature allows ...   \n",
       "3     athenahealth set support io 15 feature allows ...   \n",
       "4     athenahealth set support io 15 feature allows ...   \n",
       "...                                                 ...   \n",
       "1007  facebookquots trump ban last least 2 year glob...   \n",
       "1008  facebookquots trump ban last least 2 year glob...   \n",
       "1009  facebookquots trump ban last least 2 year glob...   \n",
       "1010  facebookquots trump ban last least 2 year glob...   \n",
       "1011  facebookquots trump ban last least 2 year glob...   \n",
       "\n",
       "                                            Headlines_y  \n",
       "0     Its announced afternoon athenahealth leading p...  \n",
       "1     Critical position natural gas transition fuel ...  \n",
       "2     Lets quickly look Adobe see investor might wan...  \n",
       "3           WWDC 2021 Apple Quietly Reinforces Its Moat  \n",
       "4     Amp CURRENCYAMP traded 155 higher US dollar tw...  \n",
       "...                                                 ...  \n",
       "1007  Apple AAPL leading global consumer technology ...  \n",
       "1008  Apples WWDC expected unveil Mind app could bri...  \n",
       "1009  KUALA LUMPUR June 6 According news report Goog...  \n",
       "1010  The new Apple laptop desktop share similar spe...  \n",
       "1011  China boast Apple supplier country sign Washin...  \n",
       "\n",
       "[1012 rows x 8 columns]"
      ]
     },
     "execution_count": 252,
     "metadata": {},
     "output_type": "execute_result"
    }
   ],
   "source": [
    "df"
   ]
  },
  {
   "cell_type": "code",
   "execution_count": 254,
   "metadata": {},
   "outputs": [
    {
     "data": {
      "text/plain": [
       "Date           0\n",
       "Close          0\n",
       "Volume         0\n",
       "Open           0\n",
       "High           0\n",
       "Low            0\n",
       "Headlines_x    0\n",
       "Headlines_y    0\n",
       "dtype: int64"
      ]
     },
     "execution_count": 254,
     "metadata": {},
     "output_type": "execute_result"
    }
   ],
   "source": [
    "df[:].isnull().sum()"
   ]
  },
  {
   "cell_type": "code",
   "execution_count": 255,
   "metadata": {},
   "outputs": [],
   "source": [
    "df['Headlines'] = df['Headlines_x'].str.cat(df['Headlines_y'], sep =\" \")"
   ]
  },
  {
   "cell_type": "code",
   "execution_count": 256,
   "metadata": {},
   "outputs": [
    {
     "data": {
      "text/html": [
       "<div>\n",
       "<style scoped>\n",
       "    .dataframe tbody tr th:only-of-type {\n",
       "        vertical-align: middle;\n",
       "    }\n",
       "\n",
       "    .dataframe tbody tr th {\n",
       "        vertical-align: top;\n",
       "    }\n",
       "\n",
       "    .dataframe thead th {\n",
       "        text-align: right;\n",
       "    }\n",
       "</style>\n",
       "<table border=\"1\" class=\"dataframe\">\n",
       "  <thead>\n",
       "    <tr style=\"text-align: right;\">\n",
       "      <th></th>\n",
       "      <th>Date</th>\n",
       "      <th>Close</th>\n",
       "      <th>Volume</th>\n",
       "      <th>Open</th>\n",
       "      <th>High</th>\n",
       "      <th>Low</th>\n",
       "      <th>Headlines</th>\n",
       "    </tr>\n",
       "  </thead>\n",
       "  <tbody>\n",
       "    <tr>\n",
       "      <th>0</th>\n",
       "      <td>2021-06-09</td>\n",
       "      <td>127.130000</td>\n",
       "      <td>5.687794e+07</td>\n",
       "      <td>127.210000</td>\n",
       "      <td>127.750000</td>\n",
       "      <td>126.520000</td>\n",
       "      <td>athenahealth set support io 15 feature allows ...</td>\n",
       "    </tr>\n",
       "    <tr>\n",
       "      <th>1</th>\n",
       "      <td>2021-06-09</td>\n",
       "      <td>127.130000</td>\n",
       "      <td>5.687794e+07</td>\n",
       "      <td>127.210000</td>\n",
       "      <td>127.750000</td>\n",
       "      <td>126.520000</td>\n",
       "      <td>athenahealth set support io 15 feature allows ...</td>\n",
       "    </tr>\n",
       "    <tr>\n",
       "      <th>2</th>\n",
       "      <td>2021-06-09</td>\n",
       "      <td>127.130000</td>\n",
       "      <td>5.687794e+07</td>\n",
       "      <td>127.210000</td>\n",
       "      <td>127.750000</td>\n",
       "      <td>126.520000</td>\n",
       "      <td>athenahealth set support io 15 feature allows ...</td>\n",
       "    </tr>\n",
       "    <tr>\n",
       "      <th>3</th>\n",
       "      <td>2021-06-09</td>\n",
       "      <td>127.130000</td>\n",
       "      <td>5.687794e+07</td>\n",
       "      <td>127.210000</td>\n",
       "      <td>127.750000</td>\n",
       "      <td>126.520000</td>\n",
       "      <td>athenahealth set support io 15 feature allows ...</td>\n",
       "    </tr>\n",
       "    <tr>\n",
       "      <th>4</th>\n",
       "      <td>2021-06-09</td>\n",
       "      <td>127.130000</td>\n",
       "      <td>5.687794e+07</td>\n",
       "      <td>127.210000</td>\n",
       "      <td>127.750000</td>\n",
       "      <td>126.520000</td>\n",
       "      <td>athenahealth set support io 15 feature allows ...</td>\n",
       "    </tr>\n",
       "    <tr>\n",
       "      <th>...</th>\n",
       "      <td>...</td>\n",
       "      <td>...</td>\n",
       "      <td>...</td>\n",
       "      <td>...</td>\n",
       "      <td>...</td>\n",
       "      <td>...</td>\n",
       "      <td>...</td>\n",
       "    </tr>\n",
       "    <tr>\n",
       "      <th>1007</th>\n",
       "      <td>2021-06-06</td>\n",
       "      <td>62.229443</td>\n",
       "      <td>1.251431e+08</td>\n",
       "      <td>62.189158</td>\n",
       "      <td>62.858732</td>\n",
       "      <td>61.533235</td>\n",
       "      <td>facebookquots trump ban last least 2 year glob...</td>\n",
       "    </tr>\n",
       "    <tr>\n",
       "      <th>1008</th>\n",
       "      <td>2021-06-06</td>\n",
       "      <td>62.229443</td>\n",
       "      <td>1.251431e+08</td>\n",
       "      <td>62.189158</td>\n",
       "      <td>62.858732</td>\n",
       "      <td>61.533235</td>\n",
       "      <td>facebookquots trump ban last least 2 year glob...</td>\n",
       "    </tr>\n",
       "    <tr>\n",
       "      <th>1009</th>\n",
       "      <td>2021-06-06</td>\n",
       "      <td>62.229443</td>\n",
       "      <td>1.251431e+08</td>\n",
       "      <td>62.189158</td>\n",
       "      <td>62.858732</td>\n",
       "      <td>61.533235</td>\n",
       "      <td>facebookquots trump ban last least 2 year glob...</td>\n",
       "    </tr>\n",
       "    <tr>\n",
       "      <th>1010</th>\n",
       "      <td>2021-06-06</td>\n",
       "      <td>62.229443</td>\n",
       "      <td>1.251431e+08</td>\n",
       "      <td>62.189158</td>\n",
       "      <td>62.858732</td>\n",
       "      <td>61.533235</td>\n",
       "      <td>facebookquots trump ban last least 2 year glob...</td>\n",
       "    </tr>\n",
       "    <tr>\n",
       "      <th>1011</th>\n",
       "      <td>2021-06-06</td>\n",
       "      <td>62.229443</td>\n",
       "      <td>1.251431e+08</td>\n",
       "      <td>62.189158</td>\n",
       "      <td>62.858732</td>\n",
       "      <td>61.533235</td>\n",
       "      <td>facebookquots trump ban last least 2 year glob...</td>\n",
       "    </tr>\n",
       "  </tbody>\n",
       "</table>\n",
       "<p>1012 rows × 7 columns</p>\n",
       "</div>"
      ],
      "text/plain": [
       "           Date       Close        Volume        Open        High         Low  \\\n",
       "0    2021-06-09  127.130000  5.687794e+07  127.210000  127.750000  126.520000   \n",
       "1    2021-06-09  127.130000  5.687794e+07  127.210000  127.750000  126.520000   \n",
       "2    2021-06-09  127.130000  5.687794e+07  127.210000  127.750000  126.520000   \n",
       "3    2021-06-09  127.130000  5.687794e+07  127.210000  127.750000  126.520000   \n",
       "4    2021-06-09  127.130000  5.687794e+07  127.210000  127.750000  126.520000   \n",
       "...         ...         ...           ...         ...         ...         ...   \n",
       "1007 2021-06-06   62.229443  1.251431e+08   62.189158   62.858732   61.533235   \n",
       "1008 2021-06-06   62.229443  1.251431e+08   62.189158   62.858732   61.533235   \n",
       "1009 2021-06-06   62.229443  1.251431e+08   62.189158   62.858732   61.533235   \n",
       "1010 2021-06-06   62.229443  1.251431e+08   62.189158   62.858732   61.533235   \n",
       "1011 2021-06-06   62.229443  1.251431e+08   62.189158   62.858732   61.533235   \n",
       "\n",
       "                                              Headlines  \n",
       "0     athenahealth set support io 15 feature allows ...  \n",
       "1     athenahealth set support io 15 feature allows ...  \n",
       "2     athenahealth set support io 15 feature allows ...  \n",
       "3     athenahealth set support io 15 feature allows ...  \n",
       "4     athenahealth set support io 15 feature allows ...  \n",
       "...                                                 ...  \n",
       "1007  facebookquots trump ban last least 2 year glob...  \n",
       "1008  facebookquots trump ban last least 2 year glob...  \n",
       "1009  facebookquots trump ban last least 2 year glob...  \n",
       "1010  facebookquots trump ban last least 2 year glob...  \n",
       "1011  facebookquots trump ban last least 2 year glob...  \n",
       "\n",
       "[1012 rows x 7 columns]"
      ]
     },
     "execution_count": 256,
     "metadata": {},
     "output_type": "execute_result"
    }
   ],
   "source": [
    "df.drop(['Headlines_x','Headlines_y'],axis=1)"
   ]
  },
  {
   "cell_type": "markdown",
   "metadata": {},
   "source": [
    "# Model Building"
   ]
  },
  {
   "cell_type": "code",
   "execution_count": 257,
   "metadata": {},
   "outputs": [],
   "source": [
    "from scipy import stats"
   ]
  },
  {
   "cell_type": "code",
   "execution_count": 258,
   "metadata": {},
   "outputs": [
    {
     "name": "stdout",
     "output_type": "stream",
     "text": [
      "0.9993663612865432 0.0\n"
     ]
    },
    {
     "data": {
      "image/png": "[encoded data removed]",
      "text/plain": [
       "<Figure size 432x288 with 1 Axes>"
      ]
     },
     "metadata": {
      "needs_background": "light"
     },
     "output_type": "display_data"
    }
   ],
   "source": [
    "sns.regplot(x='Open',y='Close',data=df)\n",
    "pearson_coef,p_vlues=stats.pearsonr(df['Open'],df['Close'])\n",
    "print(pearson_coef,p_vlues)"
   ]
  },
  {
   "cell_type": "code",
   "execution_count": 259,
   "metadata": {},
   "outputs": [
    {
     "name": "stdout",
     "output_type": "stream",
     "text": [
      "-0.9529413770851038 0.0\n"
     ]
    },
    {
     "data": {
      "image/png": "[encoded data removed]",
      "text/plain": [
       "<Figure size 432x288 with 1 Axes>"
      ]
     },
     "metadata": {
      "needs_background": "light"
     },
     "output_type": "display_data"
    }
   ],
   "source": [
    "sns.regplot(x='Volume',y='Close',data=df)\n",
    "pearson_coef,p_vlues=stats.pearsonr(df['Volume'],df['Close'])\n",
    "print(pearson_coef,p_vlues)"
   ]
  },
  {
   "cell_type": "code",
   "execution_count": 260,
   "metadata": {},
   "outputs": [
    {
     "name": "stdout",
     "output_type": "stream",
     "text": [
      "0.9997279335110715 0.0\n"
     ]
    },
    {
     "data": {
      "image/png": "[encoded data removed]",
      "text/plain": [
       "<Figure size 432x288 with 1 Axes>"
      ]
     },
     "metadata": {
      "needs_background": "light"
     },
     "output_type": "display_data"
    }
   ],
   "source": [
    "sns.regplot(x='High',y='Close',data=df)\n",
    "pearson_coef,p_vlues=stats.pearsonr(df['High'],df['Close'])\n",
    "print(pearson_coef,p_vlues)"
   ]
  },
  {
   "cell_type": "code",
   "execution_count": 261,
   "metadata": {},
   "outputs": [
    {
     "name": "stdout",
     "output_type": "stream",
     "text": [
      "0.999760949293304 0.0\n"
     ]
    },
    {
     "data": {
      "image/png": "[encoded data removed]",
      "text/plain": [
       "<Figure size 432x288 with 1 Axes>"
      ]
     },
     "metadata": {
      "needs_background": "light"
     },
     "output_type": "display_data"
    }
   ],
   "source": [
    "sns.regplot(x='Low',y='Close',data=df)\n",
    "pearson_coef,p_vlues=stats.pearsonr(df['Low'],df['Close'])\n",
    "print(pearson_coef,p_vlues)"
   ]
  },
  {
   "cell_type": "code",
   "execution_count": 262,
   "metadata": {},
   "outputs": [
    {
     "name": "stdout",
     "output_type": "stream",
     "text": [
      "Requirement already satisfied: vaderSentiment in c:\\users\\rmkis\\anaconda3\\lib\\site-packages (3.3.2)\n",
      "Requirement already satisfied: requests in c:\\users\\rmkis\\anaconda3\\lib\\site-packages (from vaderSentiment) (2.24.0)\n",
      "Requirement already satisfied: chardet<4,>=3.0.2 in c:\\users\\rmkis\\anaconda3\\lib\\site-packages (from requests->vaderSentiment) (3.0.4)\n",
      "Requirement already satisfied: urllib3!=1.25.0,!=1.25.1,<1.26,>=1.21.1 in c:\\users\\rmkis\\anaconda3\\lib\\site-packages (from requests->vaderSentiment) (1.25.11)\n",
      "Requirement already satisfied: idna<3,>=2.5 in c:\\users\\rmkis\\anaconda3\\lib\\site-packages (from requests->vaderSentiment) (2.10)\n",
      "Requirement already satisfied: certifi>=2017.4.17 in c:\\users\\rmkis\\anaconda3\\lib\\site-packages (from requests->vaderSentiment) (2020.6.20)\n",
      "Note: you may need to restart the kernel to use updated packages.\n"
     ]
    }
   ],
   "source": [
    "pip install vaderSentiment"
   ]
  },
  {
   "cell_type": "code",
   "execution_count": 263,
   "metadata": {},
   "outputs": [],
   "source": [
    "from vaderSentiment.vaderSentiment import SentimentIntensityAnalyzer\n",
    "from sklearn.model_selection import train_test_split\n",
    "from sklearn.metrics import accuracy_score,classification_report\n"
   ]
  },
  {
   "cell_type": "code",
   "execution_count": 264,
   "metadata": {},
   "outputs": [
    {
     "name": "stdout",
     "output_type": "stream",
     "text": [
      "Requirement already up-to-date: textblob in c:\\users\\rmkis\\anaconda3\\lib\\site-packages (0.15.3)\n",
      "Requirement already satisfied, skipping upgrade: nltk>=3.1 in c:\\users\\rmkis\\anaconda3\\lib\\site-packages (from textblob) (3.5)\n",
      "Requirement already satisfied, skipping upgrade: regex in c:\\users\\rmkis\\anaconda3\\lib\\site-packages (from nltk>=3.1->textblob) (2020.10.15)\n",
      "Requirement already satisfied, skipping upgrade: tqdm in c:\\users\\rmkis\\anaconda3\\lib\\site-packages (from nltk>=3.1->textblob) (4.50.2)\n",
      "Requirement already satisfied, skipping upgrade: joblib in c:\\users\\rmkis\\anaconda3\\lib\\site-packages (from nltk>=3.1->textblob) (0.17.0)\n",
      "Requirement already satisfied, skipping upgrade: click in c:\\users\\rmkis\\anaconda3\\lib\\site-packages (from nltk>=3.1->textblob) (7.1.2)\n",
      "Note: you may need to restart the kernel to use updated packages.\n"
     ]
    }
   ],
   "source": [
    "pip install -U textblob\n"
   ]
  },
  {
   "cell_type": "code",
   "execution_count": 265,
   "metadata": {},
   "outputs": [],
   "source": [
    "from textblob import TextBlob"
   ]
  },
  {
   "cell_type": "code",
   "execution_count": 266,
   "metadata": {},
   "outputs": [],
   "source": [
    "def getsubj(text):\n",
    "    return TextBlob(text).sentiment.subjectivity"
   ]
  },
  {
   "cell_type": "code",
   "execution_count": 267,
   "metadata": {},
   "outputs": [],
   "source": [
    "def getpolarity(text):\n",
    "    return TextBlob(text).sentiment.polarity"
   ]
  },
  {
   "cell_type": "code",
   "execution_count": 268,
   "metadata": {},
   "outputs": [],
   "source": [
    "df['Subjectivity']=df['Headlines'].apply(getsubj)"
   ]
  },
  {
   "cell_type": "code",
   "execution_count": 269,
   "metadata": {},
   "outputs": [],
   "source": [
    "df['Polarity']=df['Headlines'].apply(getpolarity)"
   ]
  },
  {
   "cell_type": "code",
   "execution_count": 270,
   "metadata": {},
   "outputs": [
    {
     "data": {
      "text/html": [
       "<div>\n",
       "<style scoped>\n",
       "    .dataframe tbody tr th:only-of-type {\n",
       "        vertical-align: middle;\n",
       "    }\n",
       "\n",
       "    .dataframe tbody tr th {\n",
       "        vertical-align: top;\n",
       "    }\n",
       "\n",
       "    .dataframe thead th {\n",
       "        text-align: right;\n",
       "    }\n",
       "</style>\n",
       "<table border=\"1\" class=\"dataframe\">\n",
       "  <thead>\n",
       "    <tr style=\"text-align: right;\">\n",
       "      <th></th>\n",
       "      <th>Date</th>\n",
       "      <th>Close</th>\n",
       "      <th>Volume</th>\n",
       "      <th>Open</th>\n",
       "      <th>High</th>\n",
       "      <th>Low</th>\n",
       "      <th>Headlines_x</th>\n",
       "      <th>Headlines_y</th>\n",
       "      <th>Headlines</th>\n",
       "      <th>Subjectivity</th>\n",
       "      <th>Polarity</th>\n",
       "    </tr>\n",
       "  </thead>\n",
       "  <tbody>\n",
       "    <tr>\n",
       "      <th>0</th>\n",
       "      <td>2021-06-09</td>\n",
       "      <td>127.130000</td>\n",
       "      <td>5.687794e+07</td>\n",
       "      <td>127.210000</td>\n",
       "      <td>127.750000</td>\n",
       "      <td>126.520000</td>\n",
       "      <td>athenahealth set support io 15 feature allows ...</td>\n",
       "      <td>Its announced afternoon athenahealth leading p...</td>\n",
       "      <td>athenahealth set support io 15 feature allows ...</td>\n",
       "      <td>0.378952</td>\n",
       "      <td>0.109379</td>\n",
       "    </tr>\n",
       "    <tr>\n",
       "      <th>1</th>\n",
       "      <td>2021-06-09</td>\n",
       "      <td>127.130000</td>\n",
       "      <td>5.687794e+07</td>\n",
       "      <td>127.210000</td>\n",
       "      <td>127.750000</td>\n",
       "      <td>126.520000</td>\n",
       "      <td>athenahealth set support io 15 feature allows ...</td>\n",
       "      <td>Critical position natural gas transition fuel ...</td>\n",
       "      <td>athenahealth set support io 15 feature allows ...</td>\n",
       "      <td>0.377840</td>\n",
       "      <td>0.105022</td>\n",
       "    </tr>\n",
       "    <tr>\n",
       "      <th>2</th>\n",
       "      <td>2021-06-09</td>\n",
       "      <td>127.130000</td>\n",
       "      <td>5.687794e+07</td>\n",
       "      <td>127.210000</td>\n",
       "      <td>127.750000</td>\n",
       "      <td>126.520000</td>\n",
       "      <td>athenahealth set support io 15 feature allows ...</td>\n",
       "      <td>Lets quickly look Adobe see investor might wan...</td>\n",
       "      <td>athenahealth set support io 15 feature allows ...</td>\n",
       "      <td>0.389406</td>\n",
       "      <td>0.132738</td>\n",
       "    </tr>\n",
       "    <tr>\n",
       "      <th>3</th>\n",
       "      <td>2021-06-09</td>\n",
       "      <td>127.130000</td>\n",
       "      <td>5.687794e+07</td>\n",
       "      <td>127.210000</td>\n",
       "      <td>127.750000</td>\n",
       "      <td>126.520000</td>\n",
       "      <td>athenahealth set support io 15 feature allows ...</td>\n",
       "      <td>WWDC 2021 Apple Quietly Reinforces Its Moat</td>\n",
       "      <td>athenahealth set support io 15 feature allows ...</td>\n",
       "      <td>0.371470</td>\n",
       "      <td>0.109655</td>\n",
       "    </tr>\n",
       "    <tr>\n",
       "      <th>4</th>\n",
       "      <td>2021-06-09</td>\n",
       "      <td>127.130000</td>\n",
       "      <td>5.687794e+07</td>\n",
       "      <td>127.210000</td>\n",
       "      <td>127.750000</td>\n",
       "      <td>126.520000</td>\n",
       "      <td>athenahealth set support io 15 feature allows ...</td>\n",
       "      <td>Amp CURRENCYAMP traded 155 higher US dollar tw...</td>\n",
       "      <td>athenahealth set support io 15 feature allows ...</td>\n",
       "      <td>0.369999</td>\n",
       "      <td>0.104199</td>\n",
       "    </tr>\n",
       "    <tr>\n",
       "      <th>...</th>\n",
       "      <td>...</td>\n",
       "      <td>...</td>\n",
       "      <td>...</td>\n",
       "      <td>...</td>\n",
       "      <td>...</td>\n",
       "      <td>...</td>\n",
       "      <td>...</td>\n",
       "      <td>...</td>\n",
       "      <td>...</td>\n",
       "      <td>...</td>\n",
       "      <td>...</td>\n",
       "    </tr>\n",
       "    <tr>\n",
       "      <th>1007</th>\n",
       "      <td>2021-06-06</td>\n",
       "      <td>62.229443</td>\n",
       "      <td>1.251431e+08</td>\n",
       "      <td>62.189158</td>\n",
       "      <td>62.858732</td>\n",
       "      <td>61.533235</td>\n",
       "      <td>facebookquots trump ban last least 2 year glob...</td>\n",
       "      <td>Apple AAPL leading global consumer technology ...</td>\n",
       "      <td>facebookquots trump ban last least 2 year glob...</td>\n",
       "      <td>0.427654</td>\n",
       "      <td>0.052667</td>\n",
       "    </tr>\n",
       "    <tr>\n",
       "      <th>1008</th>\n",
       "      <td>2021-06-06</td>\n",
       "      <td>62.229443</td>\n",
       "      <td>1.251431e+08</td>\n",
       "      <td>62.189158</td>\n",
       "      <td>62.858732</td>\n",
       "      <td>61.533235</td>\n",
       "      <td>facebookquots trump ban last least 2 year glob...</td>\n",
       "      <td>Apples WWDC expected unveil Mind app could bri...</td>\n",
       "      <td>facebookquots trump ban last least 2 year glob...</td>\n",
       "      <td>0.389751</td>\n",
       "      <td>-0.026128</td>\n",
       "    </tr>\n",
       "    <tr>\n",
       "      <th>1009</th>\n",
       "      <td>2021-06-06</td>\n",
       "      <td>62.229443</td>\n",
       "      <td>1.251431e+08</td>\n",
       "      <td>62.189158</td>\n",
       "      <td>62.858732</td>\n",
       "      <td>61.533235</td>\n",
       "      <td>facebookquots trump ban last least 2 year glob...</td>\n",
       "      <td>KUALA LUMPUR June 6 According news report Goog...</td>\n",
       "      <td>facebookquots trump ban last least 2 year glob...</td>\n",
       "      <td>0.377501</td>\n",
       "      <td>-0.002642</td>\n",
       "    </tr>\n",
       "    <tr>\n",
       "      <th>1010</th>\n",
       "      <td>2021-06-06</td>\n",
       "      <td>62.229443</td>\n",
       "      <td>1.251431e+08</td>\n",
       "      <td>62.189158</td>\n",
       "      <td>62.858732</td>\n",
       "      <td>61.533235</td>\n",
       "      <td>facebookquots trump ban last least 2 year glob...</td>\n",
       "      <td>The new Apple laptop desktop share similar spe...</td>\n",
       "      <td>facebookquots trump ban last least 2 year glob...</td>\n",
       "      <td>0.351680</td>\n",
       "      <td>0.014263</td>\n",
       "    </tr>\n",
       "    <tr>\n",
       "      <th>1011</th>\n",
       "      <td>2021-06-06</td>\n",
       "      <td>62.229443</td>\n",
       "      <td>1.251431e+08</td>\n",
       "      <td>62.189158</td>\n",
       "      <td>62.858732</td>\n",
       "      <td>61.533235</td>\n",
       "      <td>facebookquots trump ban last least 2 year glob...</td>\n",
       "      <td>China boast Apple supplier country sign Washin...</td>\n",
       "      <td>facebookquots trump ban last least 2 year glob...</td>\n",
       "      <td>0.357633</td>\n",
       "      <td>-0.005793</td>\n",
       "    </tr>\n",
       "  </tbody>\n",
       "</table>\n",
       "<p>1012 rows × 11 columns</p>\n",
       "</div>"
      ],
      "text/plain": [
       "           Date       Close        Volume        Open        High         Low  \\\n",
       "0    2021-06-09  127.130000  5.687794e+07  127.210000  127.750000  126.520000   \n",
       "1    2021-06-09  127.130000  5.687794e+07  127.210000  127.750000  126.520000   \n",
       "2    2021-06-09  127.130000  5.687794e+07  127.210000  127.750000  126.520000   \n",
       "3    2021-06-09  127.130000  5.687794e+07  127.210000  127.750000  126.520000   \n",
       "4    2021-06-09  127.130000  5.687794e+07  127.210000  127.750000  126.520000   \n",
       "...         ...         ...           ...         ...         ...         ...   \n",
       "1007 2021-06-06   62.229443  1.251431e+08   62.189158   62.858732   61.533235   \n",
       "1008 2021-06-06   62.229443  1.251431e+08   62.189158   62.858732   61.533235   \n",
       "1009 2021-06-06   62.229443  1.251431e+08   62.189158   62.858732   61.533235   \n",
       "1010 2021-06-06   62.229443  1.251431e+08   62.189158   62.858732   61.533235   \n",
       "1011 2021-06-06   62.229443  1.251431e+08   62.189158   62.858732   61.533235   \n",
       "\n",
       "                                            Headlines_x  \\\n",
       "0     athenahealth set support io 15 feature allows ...   \n",
       "1     athenahealth set support io 15 feature allows ...   \n",
       "2     athenahealth set support io 15 feature allows ...   \n",
       "3     athenahealth set support io 15 feature allows ...   \n",
       "4     athenahealth set support io 15 feature allows ...   \n",
       "...                                                 ...   \n",
       "1007  facebookquots trump ban last least 2 year glob...   \n",
       "1008  facebookquots trump ban last least 2 year glob...   \n",
       "1009  facebookquots trump ban last least 2 year glob...   \n",
       "1010  facebookquots trump ban last least 2 year glob...   \n",
       "1011  facebookquots trump ban last least 2 year glob...   \n",
       "\n",
       "                                            Headlines_y  \\\n",
       "0     Its announced afternoon athenahealth leading p...   \n",
       "1     Critical position natural gas transition fuel ...   \n",
       "2     Lets quickly look Adobe see investor might wan...   \n",
       "3           WWDC 2021 Apple Quietly Reinforces Its Moat   \n",
       "4     Amp CURRENCYAMP traded 155 higher US dollar tw...   \n",
       "...                                                 ...   \n",
       "1007  Apple AAPL leading global consumer technology ...   \n",
       "1008  Apples WWDC expected unveil Mind app could bri...   \n",
       "1009  KUALA LUMPUR June 6 According news report Goog...   \n",
       "1010  The new Apple laptop desktop share similar spe...   \n",
       "1011  China boast Apple supplier country sign Washin...   \n",
       "\n",
       "                                              Headlines  Subjectivity  \\\n",
       "0     athenahealth set support io 15 feature allows ...      0.378952   \n",
       "1     athenahealth set support io 15 feature allows ...      0.377840   \n",
       "2     athenahealth set support io 15 feature allows ...      0.389406   \n",
       "3     athenahealth set support io 15 feature allows ...      0.371470   \n",
       "4     athenahealth set support io 15 feature allows ...      0.369999   \n",
       "...                                                 ...           ...   \n",
       "1007  facebookquots trump ban last least 2 year glob...      0.427654   \n",
       "1008  facebookquots trump ban last least 2 year glob...      0.389751   \n",
       "1009  facebookquots trump ban last least 2 year glob...      0.377501   \n",
       "1010  facebookquots trump ban last least 2 year glob...      0.351680   \n",
       "1011  facebookquots trump ban last least 2 year glob...      0.357633   \n",
       "\n",
       "      Polarity  \n",
       "0     0.109379  \n",
       "1     0.105022  \n",
       "2     0.132738  \n",
       "3     0.109655  \n",
       "4     0.104199  \n",
       "...        ...  \n",
       "1007  0.052667  \n",
       "1008 -0.026128  \n",
       "1009 -0.002642  \n",
       "1010  0.014263  \n",
       "1011 -0.005793  \n",
       "\n",
       "[1012 rows x 11 columns]"
      ]
     },
     "execution_count": 270,
     "metadata": {},
     "output_type": "execute_result"
    }
   ],
   "source": [
    "df"
   ]
  },
  {
   "cell_type": "code",
   "execution_count": 271,
   "metadata": {},
   "outputs": [
    {
     "data": {
      "text/plain": [
       "'athenahealth set support io 15 feature allows patient share apple health app data provider buy adobe stock q2 earnings longterm tech hold wwdc 2021 apple quietly reinforces moat eu trustbuster target applequots siri voice assistant applequots first ar headset launch q2 2022 applequots first ar headset launch q2 2022 u house representative working introduce five antitrust bill next week squarely affect apple app store carolyn everson left facebook reportedly eyeing ceo role apple podcasts launch inapp subscription globally june 15 report feature fastly stock soar day outage think apple several macos monterey feature unavailable intelbased mac several macos monterey feature unavailable intelbased mac apple may accidentally confirmed existence m1x macbook pro apple facebook need theyquotd ever admit apple set launch podcasts subscription platform next week eu antitrust watchdog raise concern over alexa siri googlequots voice assistant dominance reuters creator economy running apple tax startup fighting back facebook firstever smartwatch reportedly two camera roll next summer newton life kinda boffin turn apple emate 300 raspberry pi laptop mirrored apple maapl trading 22 week lose use applequots icloud lose storage early prime day apple watch deal save 70 series 6 cnet applebeequots offered free appetizer hope luring 10000 job candidate 40000 applied pro facebook stock still trading quotreasonable pricequot stock market today jim cramer faang clover health apple podcasts subscription rolling next week facebook aiming smartwatch summer 2022 release two camera applequots exciting wwdc 2021 announcement iphone mac cnet important new feature coming iphone fall apple podcasts say itquotll launch inapp subscription globally june 15th wwdc 2021 nothing applequots developer keynote move bar apple stock 10 information technology stock unusual option alert todayquots session salesforce say 60 employee work home postpandemic salesforce say 60 employee work home postpandemic herequots clearbridge reduced apple aapl stake herequots clearbridge reduced apple aapl stake google relaxes search engine dominance practice european android ferrari appoints stmicroelectronics exec new ceo 3 top tech stock buy recession apple map getting major makeover io 15 roadshow new iphone health app feature give doctor easier access data skyworks solution qorvo 5g stock buy 200 macos monterey know applequots latest mac software update cnet apple stock near perfect trade confidence apple snap pick pokemon go left io 15quots exciting new feature facetime imessages apple wallet get new trick cnet music streaming stock watch distancing aid adoption apple watch series 6 70 netflix need reach 1000 best apple airpods deal prime day save 52 airpods pro 30 airpods max cnet quotient technology stock fell 28 may cerner becomes ehr partner new apple feature big tech company resume hunt silicon valley office big tech company resume hunt silicon valley office 3 mustsee takeaway applequots big event wwdc universal control mac ipad explained wwdc universal control mac ipad explained 4 stock capitalize booming virtual reality market 4 stock capitalize booming virtual reality market uschina tech war american tech bill lock huawei washingtonquots trade blacklist company play cybersecurity credential realme launch first laptop india soon may come macbook airlike design 1 popular tech stock avoid apple gadget shouldand shouldnquottbuy right netflixquots leading position streaming may trouble semiconductor watchlist jim cramer say nvidia amd broadcom 5 stock set gain ongoing 5g boom 5 stock set gain ongoing 5g boom wall street breakfast countering china 4 new way apple amp privacy io 15 siri mail cnet want live apple world gather idevices icymi jim cramer live nyse trading floor illumina trilliondollar stock 2035 zacks analyst blog highlight google apple dow zoom sherwinwilliams co leonard rickey investment advisor pllc reduces holding apple inc nasdaqaapl kfa private wealth group llc 345 million position apple inc nasdaqaapl apple xcode 13 support team swift concurrency apple talk chinese manufacturer u ev battery plant report apple talk chinese manufacturer u ev battery plant report apple find hard recover fallout app store policy say bill gurley ocean capital management llc raise holding apple inc nasdaqaapl apple settle lawsuit iphone tech posted womanquots explicit photo facebook report say apple pay million dollar student repair staff leak explicit photo online apple inc nasdaqaapl share sold bridge advisory llc improved facetime apple seeking piece zoomquots action avion wealth decrease holding apple inc nasdaqaapl apple showed u could finally bring imessage android hbo max update fix worst apple tv woe supply chain gearing shipment new macbook pro apple recorded bestever quarterly sale laptop tablet india apple pay multimillion dollar settlement woman whose explicit photo leaked iphone repair tech global tax still far becoming reality big countriesquot tax deal reveal rift europe apple ev could late game note tesla bull apple start tesla move autonomous robot analyst conflicting sentiment technology company apple aapl boeing ba airbus group se othereadsf apple shazam brings quotshazamkitquot thirdparty apps recognize beat humscoming android apple double privacy new iphone software report apple talk battery apple car report apple talk battery apple car apple brings back magnifying glass selecting text io 15 apple brings back magnifying glass selecting text io 15 Its announced afternoon athenahealth leading provider networkenabled software service medical group health system nationwide support iOS 15 allow US customer share important everyday health information stored Apple Health app athenahealth set support iOS 15 Feature allows Patients Share Apple Health app Data Providers'"
      ]
     },
     "execution_count": 271,
     "metadata": {},
     "output_type": "execute_result"
    }
   ],
   "source": [
    "df['Headlines'][0]"
   ]
  },
  {
   "cell_type": "code",
   "execution_count": 272,
   "metadata": {},
   "outputs": [],
   "source": [
    "def sia(text):\n",
    "    sia=SentimentIntensityAnalyzer()\n",
    "    sentiment=sia.polarity_scores(text)\n",
    "    return sentiment"
   ]
  },
  {
   "cell_type": "code",
   "execution_count": 273,
   "metadata": {},
   "outputs": [],
   "source": [
    "compound=[]\n",
    "pos=[]\n",
    "neg=[]\n",
    "neu=[]\n",
    "SIA=0\n",
    "for i in range(0,len(df['Headlines'])):\n",
    "    SIA=sia(df['Headlines'][i])\n",
    "    compound.append(SIA['compound'])\n",
    "    neg.append(SIA['neg'])\n",
    "    pos.append(SIA['pos'])\n",
    "    neu.append(SIA['neu'])\n"
   ]
  },
  {
   "cell_type": "code",
   "execution_count": 274,
   "metadata": {},
   "outputs": [],
   "source": [
    "df['Compound']=compound\n",
    "df['Positive']=pos\n",
    "df['Negative']=neg\n",
    "df['Neutral']=neu"
   ]
  },
  {
   "cell_type": "code",
   "execution_count": 275,
   "metadata": {},
   "outputs": [],
   "source": [
    "df['Score']=df['Close']-df['Open']"
   ]
  },
  {
   "cell_type": "code",
   "execution_count": 276,
   "metadata": {},
   "outputs": [],
   "source": [
    "df['Label']=np.where(df['Score']<0,0,1)"
   ]
  },
  {
   "cell_type": "code",
   "execution_count": 277,
   "metadata": {},
   "outputs": [
    {
     "data": {
      "text/html": [
       "<div>\n",
       "<style scoped>\n",
       "    .dataframe tbody tr th:only-of-type {\n",
       "        vertical-align: middle;\n",
       "    }\n",
       "\n",
       "    .dataframe tbody tr th {\n",
       "        vertical-align: top;\n",
       "    }\n",
       "\n",
       "    .dataframe thead th {\n",
       "        text-align: right;\n",
       "    }\n",
       "</style>\n",
       "<table border=\"1\" class=\"dataframe\">\n",
       "  <thead>\n",
       "    <tr style=\"text-align: right;\">\n",
       "      <th></th>\n",
       "      <th>Date</th>\n",
       "      <th>Close</th>\n",
       "      <th>Volume</th>\n",
       "      <th>Open</th>\n",
       "      <th>High</th>\n",
       "      <th>Low</th>\n",
       "      <th>Headlines_x</th>\n",
       "      <th>Headlines_y</th>\n",
       "      <th>Headlines</th>\n",
       "      <th>Subjectivity</th>\n",
       "      <th>Polarity</th>\n",
       "      <th>Compound</th>\n",
       "      <th>Positive</th>\n",
       "      <th>Negative</th>\n",
       "      <th>Neutral</th>\n",
       "      <th>Score</th>\n",
       "      <th>Label</th>\n",
       "    </tr>\n",
       "  </thead>\n",
       "  <tbody>\n",
       "    <tr>\n",
       "      <th>0</th>\n",
       "      <td>2021-06-09</td>\n",
       "      <td>127.130000</td>\n",
       "      <td>5.687794e+07</td>\n",
       "      <td>127.210000</td>\n",
       "      <td>127.750000</td>\n",
       "      <td>126.520000</td>\n",
       "      <td>athenahealth set support io 15 feature allows ...</td>\n",
       "      <td>Its announced afternoon athenahealth leading p...</td>\n",
       "      <td>athenahealth set support io 15 feature allows ...</td>\n",
       "      <td>0.378952</td>\n",
       "      <td>0.109379</td>\n",
       "      <td>0.9941</td>\n",
       "      <td>0.106</td>\n",
       "      <td>0.048</td>\n",
       "      <td>0.846</td>\n",
       "      <td>-0.080000</td>\n",
       "      <td>0</td>\n",
       "    </tr>\n",
       "    <tr>\n",
       "      <th>1</th>\n",
       "      <td>2021-06-09</td>\n",
       "      <td>127.130000</td>\n",
       "      <td>5.687794e+07</td>\n",
       "      <td>127.210000</td>\n",
       "      <td>127.750000</td>\n",
       "      <td>126.520000</td>\n",
       "      <td>athenahealth set support io 15 feature allows ...</td>\n",
       "      <td>Critical position natural gas transition fuel ...</td>\n",
       "      <td>athenahealth set support io 15 feature allows ...</td>\n",
       "      <td>0.377840</td>\n",
       "      <td>0.105022</td>\n",
       "      <td>0.9915</td>\n",
       "      <td>0.100</td>\n",
       "      <td>0.051</td>\n",
       "      <td>0.849</td>\n",
       "      <td>-0.080000</td>\n",
       "      <td>0</td>\n",
       "    </tr>\n",
       "    <tr>\n",
       "      <th>2</th>\n",
       "      <td>2021-06-09</td>\n",
       "      <td>127.130000</td>\n",
       "      <td>5.687794e+07</td>\n",
       "      <td>127.210000</td>\n",
       "      <td>127.750000</td>\n",
       "      <td>126.520000</td>\n",
       "      <td>athenahealth set support io 15 feature allows ...</td>\n",
       "      <td>Lets quickly look Adobe see investor might wan...</td>\n",
       "      <td>athenahealth set support io 15 feature allows ...</td>\n",
       "      <td>0.389406</td>\n",
       "      <td>0.132738</td>\n",
       "      <td>0.9936</td>\n",
       "      <td>0.103</td>\n",
       "      <td>0.048</td>\n",
       "      <td>0.850</td>\n",
       "      <td>-0.080000</td>\n",
       "      <td>0</td>\n",
       "    </tr>\n",
       "    <tr>\n",
       "      <th>3</th>\n",
       "      <td>2021-06-09</td>\n",
       "      <td>127.130000</td>\n",
       "      <td>5.687794e+07</td>\n",
       "      <td>127.210000</td>\n",
       "      <td>127.750000</td>\n",
       "      <td>126.520000</td>\n",
       "      <td>athenahealth set support io 15 feature allows ...</td>\n",
       "      <td>WWDC 2021 Apple Quietly Reinforces Its Moat</td>\n",
       "      <td>athenahealth set support io 15 feature allows ...</td>\n",
       "      <td>0.371470</td>\n",
       "      <td>0.109655</td>\n",
       "      <td>0.9905</td>\n",
       "      <td>0.096</td>\n",
       "      <td>0.050</td>\n",
       "      <td>0.854</td>\n",
       "      <td>-0.080000</td>\n",
       "      <td>0</td>\n",
       "    </tr>\n",
       "    <tr>\n",
       "      <th>4</th>\n",
       "      <td>2021-06-09</td>\n",
       "      <td>127.130000</td>\n",
       "      <td>5.687794e+07</td>\n",
       "      <td>127.210000</td>\n",
       "      <td>127.750000</td>\n",
       "      <td>126.520000</td>\n",
       "      <td>athenahealth set support io 15 feature allows ...</td>\n",
       "      <td>Amp CURRENCYAMP traded 155 higher US dollar tw...</td>\n",
       "      <td>athenahealth set support io 15 feature allows ...</td>\n",
       "      <td>0.369999</td>\n",
       "      <td>0.104199</td>\n",
       "      <td>0.9912</td>\n",
       "      <td>0.095</td>\n",
       "      <td>0.048</td>\n",
       "      <td>0.857</td>\n",
       "      <td>-0.080000</td>\n",
       "      <td>0</td>\n",
       "    </tr>\n",
       "    <tr>\n",
       "      <th>...</th>\n",
       "      <td>...</td>\n",
       "      <td>...</td>\n",
       "      <td>...</td>\n",
       "      <td>...</td>\n",
       "      <td>...</td>\n",
       "      <td>...</td>\n",
       "      <td>...</td>\n",
       "      <td>...</td>\n",
       "      <td>...</td>\n",
       "      <td>...</td>\n",
       "      <td>...</td>\n",
       "      <td>...</td>\n",
       "      <td>...</td>\n",
       "      <td>...</td>\n",
       "      <td>...</td>\n",
       "      <td>...</td>\n",
       "      <td>...</td>\n",
       "    </tr>\n",
       "    <tr>\n",
       "      <th>1007</th>\n",
       "      <td>2021-06-06</td>\n",
       "      <td>62.229443</td>\n",
       "      <td>1.251431e+08</td>\n",
       "      <td>62.189158</td>\n",
       "      <td>62.858732</td>\n",
       "      <td>61.533235</td>\n",
       "      <td>facebookquots trump ban last least 2 year glob...</td>\n",
       "      <td>Apple AAPL leading global consumer technology ...</td>\n",
       "      <td>facebookquots trump ban last least 2 year glob...</td>\n",
       "      <td>0.427654</td>\n",
       "      <td>0.052667</td>\n",
       "      <td>0.3832</td>\n",
       "      <td>0.095</td>\n",
       "      <td>0.073</td>\n",
       "      <td>0.832</td>\n",
       "      <td>0.040285</td>\n",
       "      <td>1</td>\n",
       "    </tr>\n",
       "    <tr>\n",
       "      <th>1008</th>\n",
       "      <td>2021-06-06</td>\n",
       "      <td>62.229443</td>\n",
       "      <td>1.251431e+08</td>\n",
       "      <td>62.189158</td>\n",
       "      <td>62.858732</td>\n",
       "      <td>61.533235</td>\n",
       "      <td>facebookquots trump ban last least 2 year glob...</td>\n",
       "      <td>Apples WWDC expected unveil Mind app could bri...</td>\n",
       "      <td>facebookquots trump ban last least 2 year glob...</td>\n",
       "      <td>0.389751</td>\n",
       "      <td>-0.026128</td>\n",
       "      <td>-0.7713</td>\n",
       "      <td>0.080</td>\n",
       "      <td>0.088</td>\n",
       "      <td>0.832</td>\n",
       "      <td>0.040285</td>\n",
       "      <td>1</td>\n",
       "    </tr>\n",
       "    <tr>\n",
       "      <th>1009</th>\n",
       "      <td>2021-06-06</td>\n",
       "      <td>62.229443</td>\n",
       "      <td>1.251431e+08</td>\n",
       "      <td>62.189158</td>\n",
       "      <td>62.858732</td>\n",
       "      <td>61.533235</td>\n",
       "      <td>facebookquots trump ban last least 2 year glob...</td>\n",
       "      <td>KUALA LUMPUR June 6 According news report Goog...</td>\n",
       "      <td>facebookquots trump ban last least 2 year glob...</td>\n",
       "      <td>0.377501</td>\n",
       "      <td>-0.002642</td>\n",
       "      <td>-0.6361</td>\n",
       "      <td>0.078</td>\n",
       "      <td>0.073</td>\n",
       "      <td>0.848</td>\n",
       "      <td>0.040285</td>\n",
       "      <td>1</td>\n",
       "    </tr>\n",
       "    <tr>\n",
       "      <th>1010</th>\n",
       "      <td>2021-06-06</td>\n",
       "      <td>62.229443</td>\n",
       "      <td>1.251431e+08</td>\n",
       "      <td>62.189158</td>\n",
       "      <td>62.858732</td>\n",
       "      <td>61.533235</td>\n",
       "      <td>facebookquots trump ban last least 2 year glob...</td>\n",
       "      <td>The new Apple laptop desktop share similar spe...</td>\n",
       "      <td>facebookquots trump ban last least 2 year glob...</td>\n",
       "      <td>0.351680</td>\n",
       "      <td>0.014263</td>\n",
       "      <td>-0.3597</td>\n",
       "      <td>0.086</td>\n",
       "      <td>0.076</td>\n",
       "      <td>0.838</td>\n",
       "      <td>0.040285</td>\n",
       "      <td>1</td>\n",
       "    </tr>\n",
       "    <tr>\n",
       "      <th>1011</th>\n",
       "      <td>2021-06-06</td>\n",
       "      <td>62.229443</td>\n",
       "      <td>1.251431e+08</td>\n",
       "      <td>62.189158</td>\n",
       "      <td>62.858732</td>\n",
       "      <td>61.533235</td>\n",
       "      <td>facebookquots trump ban last least 2 year glob...</td>\n",
       "      <td>China boast Apple supplier country sign Washin...</td>\n",
       "      <td>facebookquots trump ban last least 2 year glob...</td>\n",
       "      <td>0.357633</td>\n",
       "      <td>-0.005793</td>\n",
       "      <td>-0.2398</td>\n",
       "      <td>0.084</td>\n",
       "      <td>0.073</td>\n",
       "      <td>0.842</td>\n",
       "      <td>0.040285</td>\n",
       "      <td>1</td>\n",
       "    </tr>\n",
       "  </tbody>\n",
       "</table>\n",
       "<p>1012 rows × 17 columns</p>\n",
       "</div>"
      ],
      "text/plain": [
       "           Date       Close        Volume        Open        High         Low  \\\n",
       "0    2021-06-09  127.130000  5.687794e+07  127.210000  127.750000  126.520000   \n",
       "1    2021-06-09  127.130000  5.687794e+07  127.210000  127.750000  126.520000   \n",
       "2    2021-06-09  127.130000  5.687794e+07  127.210000  127.750000  126.520000   \n",
       "3    2021-06-09  127.130000  5.687794e+07  127.210000  127.750000  126.520000   \n",
       "4    2021-06-09  127.130000  5.687794e+07  127.210000  127.750000  126.520000   \n",
       "...         ...         ...           ...         ...         ...         ...   \n",
       "1007 2021-06-06   62.229443  1.251431e+08   62.189158   62.858732   61.533235   \n",
       "1008 2021-06-06   62.229443  1.251431e+08   62.189158   62.858732   61.533235   \n",
       "1009 2021-06-06   62.229443  1.251431e+08   62.189158   62.858732   61.533235   \n",
       "1010 2021-06-06   62.229443  1.251431e+08   62.189158   62.858732   61.533235   \n",
       "1011 2021-06-06   62.229443  1.251431e+08   62.189158   62.858732   61.533235   \n",
       "\n",
       "                                            Headlines_x  \\\n",
       "0     athenahealth set support io 15 feature allows ...   \n",
       "1     athenahealth set support io 15 feature allows ...   \n",
       "2     athenahealth set support io 15 feature allows ...   \n",
       "3     athenahealth set support io 15 feature allows ...   \n",
       "4     athenahealth set support io 15 feature allows ...   \n",
       "...                                                 ...   \n",
       "1007  facebookquots trump ban last least 2 year glob...   \n",
       "1008  facebookquots trump ban last least 2 year glob...   \n",
       "1009  facebookquots trump ban last least 2 year glob...   \n",
       "1010  facebookquots trump ban last least 2 year glob...   \n",
       "1011  facebookquots trump ban last least 2 year glob...   \n",
       "\n",
       "                                            Headlines_y  \\\n",
       "0     Its announced afternoon athenahealth leading p...   \n",
       "1     Critical position natural gas transition fuel ...   \n",
       "2     Lets quickly look Adobe see investor might wan...   \n",
       "3           WWDC 2021 Apple Quietly Reinforces Its Moat   \n",
       "4     Amp CURRENCYAMP traded 155 higher US dollar tw...   \n",
       "...                                                 ...   \n",
       "1007  Apple AAPL leading global consumer technology ...   \n",
       "1008  Apples WWDC expected unveil Mind app could bri...   \n",
       "1009  KUALA LUMPUR June 6 According news report Goog...   \n",
       "1010  The new Apple laptop desktop share similar spe...   \n",
       "1011  China boast Apple supplier country sign Washin...   \n",
       "\n",
       "                                              Headlines  Subjectivity  \\\n",
       "0     athenahealth set support io 15 feature allows ...      0.378952   \n",
       "1     athenahealth set support io 15 feature allows ...      0.377840   \n",
       "2     athenahealth set support io 15 feature allows ...      0.389406   \n",
       "3     athenahealth set support io 15 feature allows ...      0.371470   \n",
       "4     athenahealth set support io 15 feature allows ...      0.369999   \n",
       "...                                                 ...           ...   \n",
       "1007  facebookquots trump ban last least 2 year glob...      0.427654   \n",
       "1008  facebookquots trump ban last least 2 year glob...      0.389751   \n",
       "1009  facebookquots trump ban last least 2 year glob...      0.377501   \n",
       "1010  facebookquots trump ban last least 2 year glob...      0.351680   \n",
       "1011  facebookquots trump ban last least 2 year glob...      0.357633   \n",
       "\n",
       "      Polarity  Compound  Positive  Negative  Neutral     Score  Label  \n",
       "0     0.109379    0.9941     0.106     0.048    0.846 -0.080000      0  \n",
       "1     0.105022    0.9915     0.100     0.051    0.849 -0.080000      0  \n",
       "2     0.132738    0.9936     0.103     0.048    0.850 -0.080000      0  \n",
       "3     0.109655    0.9905     0.096     0.050    0.854 -0.080000      0  \n",
       "4     0.104199    0.9912     0.095     0.048    0.857 -0.080000      0  \n",
       "...        ...       ...       ...       ...      ...       ...    ...  \n",
       "1007  0.052667    0.3832     0.095     0.073    0.832  0.040285      1  \n",
       "1008 -0.026128   -0.7713     0.080     0.088    0.832  0.040285      1  \n",
       "1009 -0.002642   -0.6361     0.078     0.073    0.848  0.040285      1  \n",
       "1010  0.014263   -0.3597     0.086     0.076    0.838  0.040285      1  \n",
       "1011 -0.005793   -0.2398     0.084     0.073    0.842  0.040285      1  \n",
       "\n",
       "[1012 rows x 17 columns]"
      ]
     },
     "execution_count": 277,
     "metadata": {},
     "output_type": "execute_result"
    }
   ],
   "source": [
    "df"
   ]
  },
  {
   "cell_type": "code",
   "execution_count": 278,
   "metadata": {},
   "outputs": [],
   "source": [
    "col=['Open','High','Low','Volume','Subjectivity','Polarity','Compound','Positive','Negative','Neutral','Label']"
   ]
  },
  {
   "cell_type": "code",
   "execution_count": 279,
   "metadata": {},
   "outputs": [],
   "source": [
    "df=df[col]"
   ]
  },
  {
   "cell_type": "code",
   "execution_count": 280,
   "metadata": {},
   "outputs": [
    {
     "data": {
      "text/html": [
       "<div>\n",
       "<style scoped>\n",
       "    .dataframe tbody tr th:only-of-type {\n",
       "        vertical-align: middle;\n",
       "    }\n",
       "\n",
       "    .dataframe tbody tr th {\n",
       "        vertical-align: top;\n",
       "    }\n",
       "\n",
       "    .dataframe thead th {\n",
       "        text-align: right;\n",
       "    }\n",
       "</style>\n",
       "<table border=\"1\" class=\"dataframe\">\n",
       "  <thead>\n",
       "    <tr style=\"text-align: right;\">\n",
       "      <th></th>\n",
       "      <th>Open</th>\n",
       "      <th>High</th>\n",
       "      <th>Low</th>\n",
       "      <th>Volume</th>\n",
       "      <th>Subjectivity</th>\n",
       "      <th>Polarity</th>\n",
       "      <th>Compound</th>\n",
       "      <th>Positive</th>\n",
       "      <th>Negative</th>\n",
       "      <th>Neutral</th>\n",
       "      <th>Label</th>\n",
       "    </tr>\n",
       "  </thead>\n",
       "  <tbody>\n",
       "    <tr>\n",
       "      <th>0</th>\n",
       "      <td>127.210000</td>\n",
       "      <td>127.750000</td>\n",
       "      <td>126.520000</td>\n",
       "      <td>5.687794e+07</td>\n",
       "      <td>0.378952</td>\n",
       "      <td>0.109379</td>\n",
       "      <td>0.9941</td>\n",
       "      <td>0.106</td>\n",
       "      <td>0.048</td>\n",
       "      <td>0.846</td>\n",
       "      <td>0</td>\n",
       "    </tr>\n",
       "    <tr>\n",
       "      <th>1</th>\n",
       "      <td>127.210000</td>\n",
       "      <td>127.750000</td>\n",
       "      <td>126.520000</td>\n",
       "      <td>5.687794e+07</td>\n",
       "      <td>0.377840</td>\n",
       "      <td>0.105022</td>\n",
       "      <td>0.9915</td>\n",
       "      <td>0.100</td>\n",
       "      <td>0.051</td>\n",
       "      <td>0.849</td>\n",
       "      <td>0</td>\n",
       "    </tr>\n",
       "    <tr>\n",
       "      <th>2</th>\n",
       "      <td>127.210000</td>\n",
       "      <td>127.750000</td>\n",
       "      <td>126.520000</td>\n",
       "      <td>5.687794e+07</td>\n",
       "      <td>0.389406</td>\n",
       "      <td>0.132738</td>\n",
       "      <td>0.9936</td>\n",
       "      <td>0.103</td>\n",
       "      <td>0.048</td>\n",
       "      <td>0.850</td>\n",
       "      <td>0</td>\n",
       "    </tr>\n",
       "    <tr>\n",
       "      <th>3</th>\n",
       "      <td>127.210000</td>\n",
       "      <td>127.750000</td>\n",
       "      <td>126.520000</td>\n",
       "      <td>5.687794e+07</td>\n",
       "      <td>0.371470</td>\n",
       "      <td>0.109655</td>\n",
       "      <td>0.9905</td>\n",
       "      <td>0.096</td>\n",
       "      <td>0.050</td>\n",
       "      <td>0.854</td>\n",
       "      <td>0</td>\n",
       "    </tr>\n",
       "    <tr>\n",
       "      <th>4</th>\n",
       "      <td>127.210000</td>\n",
       "      <td>127.750000</td>\n",
       "      <td>126.520000</td>\n",
       "      <td>5.687794e+07</td>\n",
       "      <td>0.369999</td>\n",
       "      <td>0.104199</td>\n",
       "      <td>0.9912</td>\n",
       "      <td>0.095</td>\n",
       "      <td>0.048</td>\n",
       "      <td>0.857</td>\n",
       "      <td>0</td>\n",
       "    </tr>\n",
       "    <tr>\n",
       "      <th>...</th>\n",
       "      <td>...</td>\n",
       "      <td>...</td>\n",
       "      <td>...</td>\n",
       "      <td>...</td>\n",
       "      <td>...</td>\n",
       "      <td>...</td>\n",
       "      <td>...</td>\n",
       "      <td>...</td>\n",
       "      <td>...</td>\n",
       "      <td>...</td>\n",
       "      <td>...</td>\n",
       "    </tr>\n",
       "    <tr>\n",
       "      <th>1007</th>\n",
       "      <td>62.189158</td>\n",
       "      <td>62.858732</td>\n",
       "      <td>61.533235</td>\n",
       "      <td>1.251431e+08</td>\n",
       "      <td>0.427654</td>\n",
       "      <td>0.052667</td>\n",
       "      <td>0.3832</td>\n",
       "      <td>0.095</td>\n",
       "      <td>0.073</td>\n",
       "      <td>0.832</td>\n",
       "      <td>1</td>\n",
       "    </tr>\n",
       "    <tr>\n",
       "      <th>1008</th>\n",
       "      <td>62.189158</td>\n",
       "      <td>62.858732</td>\n",
       "      <td>61.533235</td>\n",
       "      <td>1.251431e+08</td>\n",
       "      <td>0.389751</td>\n",
       "      <td>-0.026128</td>\n",
       "      <td>-0.7713</td>\n",
       "      <td>0.080</td>\n",
       "      <td>0.088</td>\n",
       "      <td>0.832</td>\n",
       "      <td>1</td>\n",
       "    </tr>\n",
       "    <tr>\n",
       "      <th>1009</th>\n",
       "      <td>62.189158</td>\n",
       "      <td>62.858732</td>\n",
       "      <td>61.533235</td>\n",
       "      <td>1.251431e+08</td>\n",
       "      <td>0.377501</td>\n",
       "      <td>-0.002642</td>\n",
       "      <td>-0.6361</td>\n",
       "      <td>0.078</td>\n",
       "      <td>0.073</td>\n",
       "      <td>0.848</td>\n",
       "      <td>1</td>\n",
       "    </tr>\n",
       "    <tr>\n",
       "      <th>1010</th>\n",
       "      <td>62.189158</td>\n",
       "      <td>62.858732</td>\n",
       "      <td>61.533235</td>\n",
       "      <td>1.251431e+08</td>\n",
       "      <td>0.351680</td>\n",
       "      <td>0.014263</td>\n",
       "      <td>-0.3597</td>\n",
       "      <td>0.086</td>\n",
       "      <td>0.076</td>\n",
       "      <td>0.838</td>\n",
       "      <td>1</td>\n",
       "    </tr>\n",
       "    <tr>\n",
       "      <th>1011</th>\n",
       "      <td>62.189158</td>\n",
       "      <td>62.858732</td>\n",
       "      <td>61.533235</td>\n",
       "      <td>1.251431e+08</td>\n",
       "      <td>0.357633</td>\n",
       "      <td>-0.005793</td>\n",
       "      <td>-0.2398</td>\n",
       "      <td>0.084</td>\n",
       "      <td>0.073</td>\n",
       "      <td>0.842</td>\n",
       "      <td>1</td>\n",
       "    </tr>\n",
       "  </tbody>\n",
       "</table>\n",
       "<p>1012 rows × 11 columns</p>\n",
       "</div>"
      ],
      "text/plain": [
       "            Open        High         Low        Volume  Subjectivity  \\\n",
       "0     127.210000  127.750000  126.520000  5.687794e+07      0.378952   \n",
       "1     127.210000  127.750000  126.520000  5.687794e+07      0.377840   \n",
       "2     127.210000  127.750000  126.520000  5.687794e+07      0.389406   \n",
       "3     127.210000  127.750000  126.520000  5.687794e+07      0.371470   \n",
       "4     127.210000  127.750000  126.520000  5.687794e+07      0.369999   \n",
       "...          ...         ...         ...           ...           ...   \n",
       "1007   62.189158   62.858732   61.533235  1.251431e+08      0.427654   \n",
       "1008   62.189158   62.858732   61.533235  1.251431e+08      0.389751   \n",
       "1009   62.189158   62.858732   61.533235  1.251431e+08      0.377501   \n",
       "1010   62.189158   62.858732   61.533235  1.251431e+08      0.351680   \n",
       "1011   62.189158   62.858732   61.533235  1.251431e+08      0.357633   \n",
       "\n",
       "      Polarity  Compound  Positive  Negative  Neutral  Label  \n",
       "0     0.109379    0.9941     0.106     0.048    0.846      0  \n",
       "1     0.105022    0.9915     0.100     0.051    0.849      0  \n",
       "2     0.132738    0.9936     0.103     0.048    0.850      0  \n",
       "3     0.109655    0.9905     0.096     0.050    0.854      0  \n",
       "4     0.104199    0.9912     0.095     0.048    0.857      0  \n",
       "...        ...       ...       ...       ...      ...    ...  \n",
       "1007  0.052667    0.3832     0.095     0.073    0.832      1  \n",
       "1008 -0.026128   -0.7713     0.080     0.088    0.832      1  \n",
       "1009 -0.002642   -0.6361     0.078     0.073    0.848      1  \n",
       "1010  0.014263   -0.3597     0.086     0.076    0.838      1  \n",
       "1011 -0.005793   -0.2398     0.084     0.073    0.842      1  \n",
       "\n",
       "[1012 rows x 11 columns]"
      ]
     },
     "execution_count": 280,
     "metadata": {},
     "output_type": "execute_result"
    }
   ],
   "source": [
    "df"
   ]
  },
  {
   "cell_type": "code",
   "execution_count": 281,
   "metadata": {},
   "outputs": [
    {
     "data": {
      "text/plain": [
       "0    528\n",
       "1    484\n",
       "Name: Label, dtype: int64"
      ]
     },
     "execution_count": 281,
     "metadata": {},
     "output_type": "execute_result"
    }
   ],
   "source": [
    "df['Label'].value_counts()"
   ]
  },
  {
   "cell_type": "code",
   "execution_count": 307,
   "metadata": {},
   "outputs": [],
   "source": [
    "X=df\n",
    "X=np.array(X.drop(['Label'],1))\n",
    "y=np.array(df['Label'])"
   ]
  },
  {
   "cell_type": "code",
   "execution_count": 308,
   "metadata": {},
   "outputs": [],
   "source": [
    "x_train,x_test,y_train,y_test=train_test_split(X,y,test_size=0.2,random_state=0)"
   ]
  },
  {
   "cell_type": "code",
   "execution_count": 309,
   "metadata": {},
   "outputs": [],
   "source": [
    "from sklearn.linear_model import LinearRegression"
   ]
  },
  {
   "cell_type": "code",
   "execution_count": 310,
   "metadata": {},
   "outputs": [],
   "source": [
    "lr=LinearRegression()"
   ]
  },
  {
   "cell_type": "code",
   "execution_count": 311,
   "metadata": {},
   "outputs": [
    {
     "data": {
      "text/plain": [
       "LinearRegression()"
      ]
     },
     "execution_count": 311,
     "metadata": {},
     "output_type": "execute_result"
    }
   ],
   "source": [
    "lr.fit(x_train,y_train)"
   ]
  },
  {
   "cell_type": "code",
   "execution_count": 312,
   "metadata": {},
   "outputs": [
    {
     "name": "stdout",
     "output_type": "stream",
     "text": [
      "-13.09069397034849\n"
     ]
    }
   ],
   "source": [
    "print(lr.intercept_)"
   ]
  },
  {
   "cell_type": "code",
   "execution_count": 328,
   "metadata": {},
   "outputs": [],
   "source": [
    "yhat=lr.predict(x_test)\n",
    "yhat=np.where(yhat>0,1,0)"
   ]
  },
  {
   "cell_type": "code",
   "execution_count": 329,
   "metadata": {},
   "outputs": [],
   "source": [
    "dframe=pd.DataFrame(y_test,yhat)"
   ]
  },
  {
   "cell_type": "code",
   "execution_count": 330,
   "metadata": {},
   "outputs": [],
   "source": [
    "dfr=pd.DataFrame({\"Actual_price\":y_test,\"Predicted_price\":yhat})"
   ]
  },
  {
   "cell_type": "code",
   "execution_count": 331,
   "metadata": {},
   "outputs": [
    {
     "data": {
      "text/html": [
       "<div>\n",
       "<style scoped>\n",
       "    .dataframe tbody tr th:only-of-type {\n",
       "        vertical-align: middle;\n",
       "    }\n",
       "\n",
       "    .dataframe tbody tr th {\n",
       "        vertical-align: top;\n",
       "    }\n",
       "\n",
       "    .dataframe thead th {\n",
       "        text-align: right;\n",
       "    }\n",
       "</style>\n",
       "<table border=\"1\" class=\"dataframe\">\n",
       "  <thead>\n",
       "    <tr style=\"text-align: right;\">\n",
       "      <th></th>\n",
       "      <th>Actual_price</th>\n",
       "      <th>Predicted_price</th>\n",
       "    </tr>\n",
       "  </thead>\n",
       "  <tbody>\n",
       "    <tr>\n",
       "      <th>0</th>\n",
       "      <td>1</td>\n",
       "      <td>1</td>\n",
       "    </tr>\n",
       "    <tr>\n",
       "      <th>1</th>\n",
       "      <td>0</td>\n",
       "      <td>0</td>\n",
       "    </tr>\n",
       "    <tr>\n",
       "      <th>2</th>\n",
       "      <td>0</td>\n",
       "      <td>1</td>\n",
       "    </tr>\n",
       "    <tr>\n",
       "      <th>3</th>\n",
       "      <td>0</td>\n",
       "      <td>0</td>\n",
       "    </tr>\n",
       "    <tr>\n",
       "      <th>4</th>\n",
       "      <td>1</td>\n",
       "      <td>1</td>\n",
       "    </tr>\n",
       "    <tr>\n",
       "      <th>...</th>\n",
       "      <td>...</td>\n",
       "      <td>...</td>\n",
       "    </tr>\n",
       "    <tr>\n",
       "      <th>198</th>\n",
       "      <td>1</td>\n",
       "      <td>1</td>\n",
       "    </tr>\n",
       "    <tr>\n",
       "      <th>199</th>\n",
       "      <td>0</td>\n",
       "      <td>1</td>\n",
       "    </tr>\n",
       "    <tr>\n",
       "      <th>200</th>\n",
       "      <td>0</td>\n",
       "      <td>0</td>\n",
       "    </tr>\n",
       "    <tr>\n",
       "      <th>201</th>\n",
       "      <td>0</td>\n",
       "      <td>0</td>\n",
       "    </tr>\n",
       "    <tr>\n",
       "      <th>202</th>\n",
       "      <td>1</td>\n",
       "      <td>1</td>\n",
       "    </tr>\n",
       "  </tbody>\n",
       "</table>\n",
       "<p>203 rows × 2 columns</p>\n",
       "</div>"
      ],
      "text/plain": [
       "     Actual_price  Predicted_price\n",
       "0               1                1\n",
       "1               0                0\n",
       "2               0                1\n",
       "3               0                0\n",
       "4               1                1\n",
       "..            ...              ...\n",
       "198             1                1\n",
       "199             0                1\n",
       "200             0                0\n",
       "201             0                0\n",
       "202             1                1\n",
       "\n",
       "[203 rows x 2 columns]"
      ]
     },
     "execution_count": 331,
     "metadata": {},
     "output_type": "execute_result"
    }
   ],
   "source": [
    "dfr"
   ]
  },
  {
   "cell_type": "code",
   "execution_count": 332,
   "metadata": {},
   "outputs": [
    {
     "name": "stdout",
     "output_type": "stream",
     "text": [
      "              precision    recall  f1-score   support\n",
      "\n",
      "           0       1.00      0.48      0.65       108\n",
      "           1       0.63      1.00      0.77        95\n",
      "\n",
      "    accuracy                           0.72       203\n",
      "   macro avg       0.81      0.74      0.71       203\n",
      "weighted avg       0.83      0.72      0.71       203\n",
      "\n"
     ]
    }
   ],
   "source": [
    "print(classification_report(y_test,yhat))"
   ]
  },
  {
   "cell_type": "code",
   "execution_count": 333,
   "metadata": {},
   "outputs": [
    {
     "data": {
      "text/plain": [
       "0.9566720023175711"
      ]
     },
     "execution_count": 333,
     "metadata": {},
     "output_type": "execute_result"
    }
   ],
   "source": [
    "lr.score(x_test,y_test)"
   ]
  },
  {
   "cell_type": "code",
   "execution_count": null,
   "metadata": {},
   "outputs": [],
   "source": []
  }
 ],
 "metadata": {
  "kernelspec": {
   "display_name": "Python 3",
   "language": "python",
   "name": "python3"
  },
  "language_info": {
   "codemirror_mode": {
    "name": "ipython",
    "version": 3
   },
   "file_extension": ".py",
   "mimetype": "text/x-python",
   "name": "python",
   "nbconvert_exporter": "python",
   "pygments_lexer": "ipython3",
   "version": "3.8.5"
  }
 },
 "nbformat": 4,
 "nbformat_minor": 4
}
